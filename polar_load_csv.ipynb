{
  "nbformat": 4,
  "nbformat_minor": 0,
  "metadata": {
    "colab": {
      "provenance": []
    },
    "kernelspec": {
      "name": "python3",
      "display_name": "Python 3"
    },
    "language_info": {
      "name": "python"
    }
  },
  "cells": [
    {
      "cell_type": "code",
      "source": [
        "!pip install polars -U"
      ],
      "metadata": {
        "colab": {
          "base_uri": "https://localhost:8080/"
        },
        "id": "bSJgluwZxuiv",
        "outputId": "fba8dd09-2948-40a7-ca47-9db24b0f818b"
      },
      "execution_count": 1,
      "outputs": [
        {
          "output_type": "stream",
          "name": "stdout",
          "text": [
            "Requirement already satisfied: polars in /usr/local/lib/python3.10/dist-packages (0.17.3)\n",
            "Collecting polars\n",
            "  Downloading polars-0.20.3-cp38-abi3-manylinux_2_17_x86_64.manylinux2014_x86_64.whl (28.6 MB)\n",
            "\u001b[2K     \u001b[90m━━━━━━━━━━━━━━━━━━━━━━━━━━━━━━━━━━━━━━━━\u001b[0m \u001b[32m28.6/28.6 MB\u001b[0m \u001b[31m27.5 MB/s\u001b[0m eta \u001b[36m0:00:00\u001b[0m\n",
            "\u001b[?25hInstalling collected packages: polars\n",
            "  Attempting uninstall: polars\n",
            "    Found existing installation: polars 0.17.3\n",
            "    Uninstalling polars-0.17.3:\n",
            "      Successfully uninstalled polars-0.17.3\n",
            "Successfully installed polars-0.20.3\n"
          ]
        }
      ]
    },
    {
      "cell_type": "markdown",
      "source": [
        "# Polars - wczytywanie danych / tworzenie obiektów DataFrame\n",
        "\n",
        "## Autor: Marian Witkowski marian.witkowski[at]gmail.com\n",
        "\n",
        "### Niniejszy materiał może być używany w celach dydaktyczych pod warunkem poinformowania o autorze.\n",
        "\n",
        "Przykład użycia najczęstszych opcji w metodzie pd.read_csv() w Pandas:\n",
        "\n",
        "- ładowanie danych z CSV\n",
        "- ładowanie danych z CSV bez wiersza nagłówkego\n",
        "- ładowanie wybranych kolumn\n",
        "- pobierania zadanej liczby wierszy, pomijanie wierszy początkowych\n",
        "- interpretacja danych jako NaN\n",
        "- ładowanie danych z określaniem typów dla kolumn"
      ],
      "metadata": {
        "id": "6b8umdpBu-0k"
      }
    },
    {
      "cell_type": "code",
      "execution_count": 2,
      "metadata": {
        "id": "LeFAYelKul9-"
      },
      "outputs": [],
      "source": [
        "import datetime\n",
        "import numpy as np\n",
        "import polars as pl\n",
        "import warnings\n",
        "\n",
        "warnings.filterwarnings(\"ignore\")\n"
      ]
    },
    {
      "cell_type": "markdown",
      "source": [
        "## Ładowanie danych z pliku CSV\n"
      ],
      "metadata": {
        "id": "UEsv282auwgK"
      }
    },
    {
      "cell_type": "code",
      "source": [
        "url = \"https://raw.githubusercontent.com/marianwitkowski/bs-datasets/main/f500.csv\"\n",
        "df = pl.read_csv(url, separator=\",\")\n",
        "df.head()"
      ],
      "metadata": {
        "colab": {
          "base_uri": "https://localhost:8080/",
          "height": 379
        },
        "id": "0FUZ-1Drur2H",
        "outputId": "b4c95e10-2a90-4e8a-b425-4900ce56a405"
      },
      "execution_count": 3,
      "outputs": [
        {
          "output_type": "execute_result",
          "data": {
            "text/plain": [
              "shape: (5, 17)\n",
              "┌────────────┬──────┬──────────┬────────────┬───┬────────────┬────────────┬───────────┬────────────┐\n",
              "│ company    ┆ rank ┆ revenues ┆ revenue_ch ┆ … ┆ website    ┆ years_on_g ┆ employees ┆ total_stoc │\n",
              "│ ---        ┆ ---  ┆ ---      ┆ ange       ┆   ┆ ---        ┆ lobal_500_ ┆ ---       ┆ kholder_eq │\n",
              "│ str        ┆ i64  ┆ i64      ┆ ---        ┆   ┆ str        ┆ list       ┆ i64       ┆ uity       │\n",
              "│            ┆      ┆          ┆ f64        ┆   ┆            ┆ ---        ┆           ┆ ---        │\n",
              "│            ┆      ┆          ┆            ┆   ┆            ┆ i64        ┆           ┆ i64        │\n",
              "╞════════════╪══════╪══════════╪════════════╪═══╪════════════╪════════════╪═══════════╪════════════╡\n",
              "│ Walmart    ┆ 1    ┆ 485873   ┆ 0.8        ┆ … ┆ http://www ┆ 23         ┆ 2300000   ┆ 77798      │\n",
              "│            ┆      ┆          ┆            ┆   ┆ .walmart.c ┆            ┆           ┆            │\n",
              "│            ┆      ┆          ┆            ┆   ┆ om         ┆            ┆           ┆            │\n",
              "│ State Grid ┆ 2    ┆ 315199   ┆ -4.4       ┆ … ┆ http://www ┆ 17         ┆ 926067    ┆ 209456     │\n",
              "│            ┆      ┆          ┆            ┆   ┆ .sgcc.com. ┆            ┆           ┆            │\n",
              "│            ┆      ┆          ┆            ┆   ┆ cn         ┆            ┆           ┆            │\n",
              "│ Sinopec    ┆ 3    ┆ 267518   ┆ -9.1       ┆ … ┆ http://www ┆ 19         ┆ 713288    ┆ 106523     │\n",
              "│ Group      ┆      ┆          ┆            ┆   ┆ .sinopec.c ┆            ┆           ┆            │\n",
              "│            ┆      ┆          ┆            ┆   ┆ om         ┆            ┆           ┆            │\n",
              "│ China      ┆ 4    ┆ 262573   ┆ -12.3      ┆ … ┆ http://www ┆ 17         ┆ 1512048   ┆ 301893     │\n",
              "│ National   ┆      ┆          ┆            ┆   ┆ .cnpc.com. ┆            ┆           ┆            │\n",
              "│ Petroleum  ┆      ┆          ┆            ┆   ┆ cn         ┆            ┆           ┆            │\n",
              "│ Toyota     ┆ 5    ┆ 254694   ┆ 7.7        ┆ … ┆ http://www ┆ 23         ┆ 364445    ┆ 157210     │\n",
              "│ Motor      ┆      ┆          ┆            ┆   ┆ .toyota-gl ┆            ┆           ┆            │\n",
              "│            ┆      ┆          ┆            ┆   ┆ obal.com   ┆            ┆           ┆            │\n",
              "└────────────┴──────┴──────────┴────────────┴───┴────────────┴────────────┴───────────┴────────────┘"
            ],
            "text/html": [
              "<div><style>\n",
              ".dataframe > thead > tr,\n",
              ".dataframe > tbody > tr {\n",
              "  text-align: right;\n",
              "  white-space: pre-wrap;\n",
              "}\n",
              "</style>\n",
              "<small>shape: (5, 17)</small><table border=\"1\" class=\"dataframe\"><thead><tr><th>company</th><th>rank</th><th>revenues</th><th>revenue_change</th><th>profits</th><th>assets</th><th>profit_change</th><th>ceo</th><th>industry</th><th>sector</th><th>previous_rank</th><th>country</th><th>hq_location</th><th>website</th><th>years_on_global_500_list</th><th>employees</th><th>total_stockholder_equity</th></tr><tr><td>str</td><td>i64</td><td>i64</td><td>f64</td><td>f64</td><td>i64</td><td>f64</td><td>str</td><td>str</td><td>str</td><td>i64</td><td>str</td><td>str</td><td>str</td><td>i64</td><td>i64</td><td>i64</td></tr></thead><tbody><tr><td>&quot;Walmart&quot;</td><td>1</td><td>485873</td><td>0.8</td><td>13643.0</td><td>198825</td><td>-7.2</td><td>&quot;C. Douglas McM…</td><td>&quot;General Mercha…</td><td>&quot;Retailing&quot;</td><td>1</td><td>&quot;USA&quot;</td><td>&quot;Bentonville, A…</td><td>&quot;http://www.wal…</td><td>23</td><td>2300000</td><td>77798</td></tr><tr><td>&quot;State Grid&quot;</td><td>2</td><td>315199</td><td>-4.4</td><td>9571.3</td><td>489838</td><td>-6.2</td><td>&quot;Kou Wei&quot;</td><td>&quot;Utilities&quot;</td><td>&quot;Energy&quot;</td><td>2</td><td>&quot;China&quot;</td><td>&quot;Beijing, China…</td><td>&quot;http://www.sgc…</td><td>17</td><td>926067</td><td>209456</td></tr><tr><td>&quot;Sinopec Group&quot;</td><td>3</td><td>267518</td><td>-9.1</td><td>1257.9</td><td>310726</td><td>-65.0</td><td>&quot;Wang Yupu&quot;</td><td>&quot;Petroleum Refi…</td><td>&quot;Energy&quot;</td><td>4</td><td>&quot;China&quot;</td><td>&quot;Beijing, China…</td><td>&quot;http://www.sin…</td><td>19</td><td>713288</td><td>106523</td></tr><tr><td>&quot;China National…</td><td>4</td><td>262573</td><td>-12.3</td><td>1867.5</td><td>585619</td><td>-73.7</td><td>&quot;Zhang Jianhua&quot;</td><td>&quot;Petroleum Refi…</td><td>&quot;Energy&quot;</td><td>3</td><td>&quot;China&quot;</td><td>&quot;Beijing, China…</td><td>&quot;http://www.cnp…</td><td>17</td><td>1512048</td><td>301893</td></tr><tr><td>&quot;Toyota Motor&quot;</td><td>5</td><td>254694</td><td>7.7</td><td>16899.3</td><td>437575</td><td>-12.3</td><td>&quot;Akio Toyoda&quot;</td><td>&quot;Motor Vehicles…</td><td>&quot;Motor Vehicles…</td><td>8</td><td>&quot;Japan&quot;</td><td>&quot;Toyota, Japan&quot;</td><td>&quot;http://www.toy…</td><td>23</td><td>364445</td><td>157210</td></tr></tbody></table></div>"
            ]
          },
          "metadata": {},
          "execution_count": 3
        }
      ]
    },
    {
      "cell_type": "markdown",
      "source": [
        "## Ładowanie danych z pliku CSV bez wiersza z nazwami kolumn\n"
      ],
      "metadata": {
        "id": "HG0bPGuRvRZX"
      }
    },
    {
      "cell_type": "code",
      "source": [
        "url = \"https://raw.githubusercontent.com/marianwitkowski/bs-datasets/main/f500nh.csv\"\n",
        "df = pl.read_csv(url, separator=\",\", has_header=False)\n",
        "df.head()"
      ],
      "metadata": {
        "colab": {
          "base_uri": "https://localhost:8080/",
          "height": 379
        },
        "id": "I0-7QTixu1DU",
        "outputId": "3952b448-e9d7-4800-e4cc-d0803a164598"
      },
      "execution_count": 4,
      "outputs": [
        {
          "output_type": "execute_result",
          "data": {
            "text/plain": [
              "shape: (5, 17)\n",
              "┌────────────┬──────────┬──────────┬──────────┬───┬────────────┬───────────┬───────────┬───────────┐\n",
              "│ column_1   ┆ column_2 ┆ column_3 ┆ column_4 ┆ … ┆ column_14  ┆ column_15 ┆ column_16 ┆ column_17 │\n",
              "│ ---        ┆ ---      ┆ ---      ┆ ---      ┆   ┆ ---        ┆ ---       ┆ ---       ┆ ---       │\n",
              "│ str        ┆ i64      ┆ i64      ┆ f64      ┆   ┆ str        ┆ i64       ┆ i64       ┆ i64       │\n",
              "╞════════════╪══════════╪══════════╪══════════╪═══╪════════════╪═══════════╪═══════════╪═══════════╡\n",
              "│ Walmart    ┆ 1        ┆ 485873   ┆ 0.8      ┆ … ┆ http://www ┆ 23        ┆ 2300000   ┆ 77798     │\n",
              "│            ┆          ┆          ┆          ┆   ┆ .walmart.c ┆           ┆           ┆           │\n",
              "│            ┆          ┆          ┆          ┆   ┆ om         ┆           ┆           ┆           │\n",
              "│ State Grid ┆ 2        ┆ 315199   ┆ -4.4     ┆ … ┆ http://www ┆ 17        ┆ 926067    ┆ 209456    │\n",
              "│            ┆          ┆          ┆          ┆   ┆ .sgcc.com. ┆           ┆           ┆           │\n",
              "│            ┆          ┆          ┆          ┆   ┆ cn         ┆           ┆           ┆           │\n",
              "│ Sinopec    ┆ 3        ┆ 267518   ┆ -9.1     ┆ … ┆ http://www ┆ 19        ┆ 713288    ┆ 106523    │\n",
              "│ Group      ┆          ┆          ┆          ┆   ┆ .sinopec.c ┆           ┆           ┆           │\n",
              "│            ┆          ┆          ┆          ┆   ┆ om         ┆           ┆           ┆           │\n",
              "│ China      ┆ 4        ┆ 262573   ┆ -12.3    ┆ … ┆ http://www ┆ 17        ┆ 1512048   ┆ 301893    │\n",
              "│ National   ┆          ┆          ┆          ┆   ┆ .cnpc.com. ┆           ┆           ┆           │\n",
              "│ Petroleum  ┆          ┆          ┆          ┆   ┆ cn         ┆           ┆           ┆           │\n",
              "│ Toyota     ┆ 5        ┆ 254694   ┆ 7.7      ┆ … ┆ http://www ┆ 23        ┆ 364445    ┆ 157210    │\n",
              "│ Motor      ┆          ┆          ┆          ┆   ┆ .toyota-gl ┆           ┆           ┆           │\n",
              "│            ┆          ┆          ┆          ┆   ┆ obal.com   ┆           ┆           ┆           │\n",
              "└────────────┴──────────┴──────────┴──────────┴───┴────────────┴───────────┴───────────┴───────────┘"
            ],
            "text/html": [
              "<div><style>\n",
              ".dataframe > thead > tr,\n",
              ".dataframe > tbody > tr {\n",
              "  text-align: right;\n",
              "  white-space: pre-wrap;\n",
              "}\n",
              "</style>\n",
              "<small>shape: (5, 17)</small><table border=\"1\" class=\"dataframe\"><thead><tr><th>column_1</th><th>column_2</th><th>column_3</th><th>column_4</th><th>column_5</th><th>column_6</th><th>column_7</th><th>column_8</th><th>column_9</th><th>column_10</th><th>column_11</th><th>column_12</th><th>column_13</th><th>column_14</th><th>column_15</th><th>column_16</th><th>column_17</th></tr><tr><td>str</td><td>i64</td><td>i64</td><td>f64</td><td>f64</td><td>i64</td><td>f64</td><td>str</td><td>str</td><td>str</td><td>i64</td><td>str</td><td>str</td><td>str</td><td>i64</td><td>i64</td><td>i64</td></tr></thead><tbody><tr><td>&quot;Walmart&quot;</td><td>1</td><td>485873</td><td>0.8</td><td>13643.0</td><td>198825</td><td>-7.2</td><td>&quot;C. Douglas McM…</td><td>&quot;General Mercha…</td><td>&quot;Retailing&quot;</td><td>1</td><td>&quot;USA&quot;</td><td>&quot;Bentonville, A…</td><td>&quot;http://www.wal…</td><td>23</td><td>2300000</td><td>77798</td></tr><tr><td>&quot;State Grid&quot;</td><td>2</td><td>315199</td><td>-4.4</td><td>9571.3</td><td>489838</td><td>-6.2</td><td>&quot;Kou Wei&quot;</td><td>&quot;Utilities&quot;</td><td>&quot;Energy&quot;</td><td>2</td><td>&quot;China&quot;</td><td>&quot;Beijing, China…</td><td>&quot;http://www.sgc…</td><td>17</td><td>926067</td><td>209456</td></tr><tr><td>&quot;Sinopec Group&quot;</td><td>3</td><td>267518</td><td>-9.1</td><td>1257.9</td><td>310726</td><td>-65.0</td><td>&quot;Wang Yupu&quot;</td><td>&quot;Petroleum Refi…</td><td>&quot;Energy&quot;</td><td>4</td><td>&quot;China&quot;</td><td>&quot;Beijing, China…</td><td>&quot;http://www.sin…</td><td>19</td><td>713288</td><td>106523</td></tr><tr><td>&quot;China National…</td><td>4</td><td>262573</td><td>-12.3</td><td>1867.5</td><td>585619</td><td>-73.7</td><td>&quot;Zhang Jianhua&quot;</td><td>&quot;Petroleum Refi…</td><td>&quot;Energy&quot;</td><td>3</td><td>&quot;China&quot;</td><td>&quot;Beijing, China…</td><td>&quot;http://www.cnp…</td><td>17</td><td>1512048</td><td>301893</td></tr><tr><td>&quot;Toyota Motor&quot;</td><td>5</td><td>254694</td><td>7.7</td><td>16899.3</td><td>437575</td><td>-12.3</td><td>&quot;Akio Toyoda&quot;</td><td>&quot;Motor Vehicles…</td><td>&quot;Motor Vehicles…</td><td>8</td><td>&quot;Japan&quot;</td><td>&quot;Toyota, Japan&quot;</td><td>&quot;http://www.toy…</td><td>23</td><td>364445</td><td>157210</td></tr></tbody></table></div>"
            ]
          },
          "metadata": {},
          "execution_count": 4
        }
      ]
    },
    {
      "cell_type": "markdown",
      "source": [
        "\n",
        "## Ładowanie danych z pliku CSV bez wiersza z nazwami kolumn, przypisanie kolumn"
      ],
      "metadata": {
        "id": "y-mNPKOrvo9d"
      }
    },
    {
      "cell_type": "code",
      "source": [
        "columns = ['company', 'rank', 'revenues', 'revenue_change', 'profits', 'assets',\n",
        "       'profit_change', 'ceo', 'industry', 'sector', 'previous_rank',\n",
        "       'country', 'hq_location', 'website', 'years_on_global_500_list',\n",
        "       'employees', 'total_stockholder_equity']\n",
        "url = \"https://raw.githubusercontent.com/marianwitkowski/bs-datasets/main/f500nh.csv\"\n",
        "df = pl.read_csv(url, separator=\",\", has_header=False, new_columns=columns)\n",
        "df.head()"
      ],
      "metadata": {
        "colab": {
          "base_uri": "https://localhost:8080/",
          "height": 379
        },
        "id": "HgXUNe1nvb35",
        "outputId": "0b0d7f0f-fffb-4129-b351-88fb5cddd3ff"
      },
      "execution_count": 5,
      "outputs": [
        {
          "output_type": "execute_result",
          "data": {
            "text/plain": [
              "shape: (5, 17)\n",
              "┌────────────┬──────┬──────────┬────────────┬───┬────────────┬────────────┬───────────┬────────────┐\n",
              "│ company    ┆ rank ┆ revenues ┆ revenue_ch ┆ … ┆ website    ┆ years_on_g ┆ employees ┆ total_stoc │\n",
              "│ ---        ┆ ---  ┆ ---      ┆ ange       ┆   ┆ ---        ┆ lobal_500_ ┆ ---       ┆ kholder_eq │\n",
              "│ str        ┆ i64  ┆ i64      ┆ ---        ┆   ┆ str        ┆ list       ┆ i64       ┆ uity       │\n",
              "│            ┆      ┆          ┆ f64        ┆   ┆            ┆ ---        ┆           ┆ ---        │\n",
              "│            ┆      ┆          ┆            ┆   ┆            ┆ i64        ┆           ┆ i64        │\n",
              "╞════════════╪══════╪══════════╪════════════╪═══╪════════════╪════════════╪═══════════╪════════════╡\n",
              "│ Walmart    ┆ 1    ┆ 485873   ┆ 0.8        ┆ … ┆ http://www ┆ 23         ┆ 2300000   ┆ 77798      │\n",
              "│            ┆      ┆          ┆            ┆   ┆ .walmart.c ┆            ┆           ┆            │\n",
              "│            ┆      ┆          ┆            ┆   ┆ om         ┆            ┆           ┆            │\n",
              "│ State Grid ┆ 2    ┆ 315199   ┆ -4.4       ┆ … ┆ http://www ┆ 17         ┆ 926067    ┆ 209456     │\n",
              "│            ┆      ┆          ┆            ┆   ┆ .sgcc.com. ┆            ┆           ┆            │\n",
              "│            ┆      ┆          ┆            ┆   ┆ cn         ┆            ┆           ┆            │\n",
              "│ Sinopec    ┆ 3    ┆ 267518   ┆ -9.1       ┆ … ┆ http://www ┆ 19         ┆ 713288    ┆ 106523     │\n",
              "│ Group      ┆      ┆          ┆            ┆   ┆ .sinopec.c ┆            ┆           ┆            │\n",
              "│            ┆      ┆          ┆            ┆   ┆ om         ┆            ┆           ┆            │\n",
              "│ China      ┆ 4    ┆ 262573   ┆ -12.3      ┆ … ┆ http://www ┆ 17         ┆ 1512048   ┆ 301893     │\n",
              "│ National   ┆      ┆          ┆            ┆   ┆ .cnpc.com. ┆            ┆           ┆            │\n",
              "│ Petroleum  ┆      ┆          ┆            ┆   ┆ cn         ┆            ┆           ┆            │\n",
              "│ Toyota     ┆ 5    ┆ 254694   ┆ 7.7        ┆ … ┆ http://www ┆ 23         ┆ 364445    ┆ 157210     │\n",
              "│ Motor      ┆      ┆          ┆            ┆   ┆ .toyota-gl ┆            ┆           ┆            │\n",
              "│            ┆      ┆          ┆            ┆   ┆ obal.com   ┆            ┆           ┆            │\n",
              "└────────────┴──────┴──────────┴────────────┴───┴────────────┴────────────┴───────────┴────────────┘"
            ],
            "text/html": [
              "<div><style>\n",
              ".dataframe > thead > tr,\n",
              ".dataframe > tbody > tr {\n",
              "  text-align: right;\n",
              "  white-space: pre-wrap;\n",
              "}\n",
              "</style>\n",
              "<small>shape: (5, 17)</small><table border=\"1\" class=\"dataframe\"><thead><tr><th>company</th><th>rank</th><th>revenues</th><th>revenue_change</th><th>profits</th><th>assets</th><th>profit_change</th><th>ceo</th><th>industry</th><th>sector</th><th>previous_rank</th><th>country</th><th>hq_location</th><th>website</th><th>years_on_global_500_list</th><th>employees</th><th>total_stockholder_equity</th></tr><tr><td>str</td><td>i64</td><td>i64</td><td>f64</td><td>f64</td><td>i64</td><td>f64</td><td>str</td><td>str</td><td>str</td><td>i64</td><td>str</td><td>str</td><td>str</td><td>i64</td><td>i64</td><td>i64</td></tr></thead><tbody><tr><td>&quot;Walmart&quot;</td><td>1</td><td>485873</td><td>0.8</td><td>13643.0</td><td>198825</td><td>-7.2</td><td>&quot;C. Douglas McM…</td><td>&quot;General Mercha…</td><td>&quot;Retailing&quot;</td><td>1</td><td>&quot;USA&quot;</td><td>&quot;Bentonville, A…</td><td>&quot;http://www.wal…</td><td>23</td><td>2300000</td><td>77798</td></tr><tr><td>&quot;State Grid&quot;</td><td>2</td><td>315199</td><td>-4.4</td><td>9571.3</td><td>489838</td><td>-6.2</td><td>&quot;Kou Wei&quot;</td><td>&quot;Utilities&quot;</td><td>&quot;Energy&quot;</td><td>2</td><td>&quot;China&quot;</td><td>&quot;Beijing, China…</td><td>&quot;http://www.sgc…</td><td>17</td><td>926067</td><td>209456</td></tr><tr><td>&quot;Sinopec Group&quot;</td><td>3</td><td>267518</td><td>-9.1</td><td>1257.9</td><td>310726</td><td>-65.0</td><td>&quot;Wang Yupu&quot;</td><td>&quot;Petroleum Refi…</td><td>&quot;Energy&quot;</td><td>4</td><td>&quot;China&quot;</td><td>&quot;Beijing, China…</td><td>&quot;http://www.sin…</td><td>19</td><td>713288</td><td>106523</td></tr><tr><td>&quot;China National…</td><td>4</td><td>262573</td><td>-12.3</td><td>1867.5</td><td>585619</td><td>-73.7</td><td>&quot;Zhang Jianhua&quot;</td><td>&quot;Petroleum Refi…</td><td>&quot;Energy&quot;</td><td>3</td><td>&quot;China&quot;</td><td>&quot;Beijing, China…</td><td>&quot;http://www.cnp…</td><td>17</td><td>1512048</td><td>301893</td></tr><tr><td>&quot;Toyota Motor&quot;</td><td>5</td><td>254694</td><td>7.7</td><td>16899.3</td><td>437575</td><td>-12.3</td><td>&quot;Akio Toyoda&quot;</td><td>&quot;Motor Vehicles…</td><td>&quot;Motor Vehicles…</td><td>8</td><td>&quot;Japan&quot;</td><td>&quot;Toyota, Japan&quot;</td><td>&quot;http://www.toy…</td><td>23</td><td>364445</td><td>157210</td></tr></tbody></table></div>"
            ]
          },
          "metadata": {},
          "execution_count": 5
        }
      ]
    },
    {
      "cell_type": "markdown",
      "source": [
        "## Ładowanie wybranych kolumn z pliku CSV\n"
      ],
      "metadata": {
        "id": "uTHNWbX8wB8I"
      }
    },
    {
      "cell_type": "code",
      "source": [
        "url = \"https://raw.githubusercontent.com/marianwitkowski/bs-datasets/main/f500.csv\"\n",
        "df = pl.read_csv(url, separator=\",\", columns=['company', 'rank', 'revenues', 'revenue_change', 'profits'])\n",
        "df.head()"
      ],
      "metadata": {
        "colab": {
          "base_uri": "https://localhost:8080/",
          "height": 254
        },
        "id": "gp3u9cFJv8Ai",
        "outputId": "7d9dc940-af10-43aa-a2ca-b73ba350769f"
      },
      "execution_count": 6,
      "outputs": [
        {
          "output_type": "execute_result",
          "data": {
            "text/plain": [
              "shape: (5, 5)\n",
              "┌──────────────────────────┬──────┬──────────┬────────────────┬─────────┐\n",
              "│ company                  ┆ rank ┆ revenues ┆ revenue_change ┆ profits │\n",
              "│ ---                      ┆ ---  ┆ ---      ┆ ---            ┆ ---     │\n",
              "│ str                      ┆ i64  ┆ i64      ┆ f64            ┆ f64     │\n",
              "╞══════════════════════════╪══════╪══════════╪════════════════╪═════════╡\n",
              "│ Walmart                  ┆ 1    ┆ 485873   ┆ 0.8            ┆ 13643.0 │\n",
              "│ State Grid               ┆ 2    ┆ 315199   ┆ -4.4           ┆ 9571.3  │\n",
              "│ Sinopec Group            ┆ 3    ┆ 267518   ┆ -9.1           ┆ 1257.9  │\n",
              "│ China National Petroleum ┆ 4    ┆ 262573   ┆ -12.3          ┆ 1867.5  │\n",
              "│ Toyota Motor             ┆ 5    ┆ 254694   ┆ 7.7            ┆ 16899.3 │\n",
              "└──────────────────────────┴──────┴──────────┴────────────────┴─────────┘"
            ],
            "text/html": [
              "<div><style>\n",
              ".dataframe > thead > tr,\n",
              ".dataframe > tbody > tr {\n",
              "  text-align: right;\n",
              "  white-space: pre-wrap;\n",
              "}\n",
              "</style>\n",
              "<small>shape: (5, 5)</small><table border=\"1\" class=\"dataframe\"><thead><tr><th>company</th><th>rank</th><th>revenues</th><th>revenue_change</th><th>profits</th></tr><tr><td>str</td><td>i64</td><td>i64</td><td>f64</td><td>f64</td></tr></thead><tbody><tr><td>&quot;Walmart&quot;</td><td>1</td><td>485873</td><td>0.8</td><td>13643.0</td></tr><tr><td>&quot;State Grid&quot;</td><td>2</td><td>315199</td><td>-4.4</td><td>9571.3</td></tr><tr><td>&quot;Sinopec Group&quot;</td><td>3</td><td>267518</td><td>-9.1</td><td>1257.9</td></tr><tr><td>&quot;China National…</td><td>4</td><td>262573</td><td>-12.3</td><td>1867.5</td></tr><tr><td>&quot;Toyota Motor&quot;</td><td>5</td><td>254694</td><td>7.7</td><td>16899.3</td></tr></tbody></table></div>"
            ]
          },
          "metadata": {},
          "execution_count": 6
        }
      ]
    },
    {
      "cell_type": "markdown",
      "source": [
        "## Ładowanie pliku CSV - pobieranie określonej liczby wierszy\n"
      ],
      "metadata": {
        "id": "I40745lrwQ4b"
      }
    },
    {
      "cell_type": "code",
      "source": [
        "url = \"https://raw.githubusercontent.com/marianwitkowski/bs-datasets/main/f500.csv\"\n",
        "df = pl.read_csv(url, separator=\",\", n_rows=10 )\n",
        "df"
      ],
      "metadata": {
        "colab": {
          "base_uri": "https://localhost:8080/",
          "height": 640
        },
        "id": "P6XYK-sJwFrk",
        "outputId": "8aa5d641-ef34-4f4a-d920-fe5387b61e82"
      },
      "execution_count": 7,
      "outputs": [
        {
          "output_type": "execute_result",
          "data": {
            "text/plain": [
              "shape: (10, 17)\n",
              "┌────────────┬──────┬──────────┬────────────┬───┬────────────┬────────────┬───────────┬────────────┐\n",
              "│ company    ┆ rank ┆ revenues ┆ revenue_ch ┆ … ┆ website    ┆ years_on_g ┆ employees ┆ total_stoc │\n",
              "│ ---        ┆ ---  ┆ ---      ┆ ange       ┆   ┆ ---        ┆ lobal_500_ ┆ ---       ┆ kholder_eq │\n",
              "│ str        ┆ i64  ┆ i64      ┆ ---        ┆   ┆ str        ┆ list       ┆ i64       ┆ uity       │\n",
              "│            ┆      ┆          ┆ f64        ┆   ┆            ┆ ---        ┆           ┆ ---        │\n",
              "│            ┆      ┆          ┆            ┆   ┆            ┆ i64        ┆           ┆ i64        │\n",
              "╞════════════╪══════╪══════════╪════════════╪═══╪════════════╪════════════╪═══════════╪════════════╡\n",
              "│ Walmart    ┆ 1    ┆ 485873   ┆ 0.8        ┆ … ┆ http://www ┆ 23         ┆ 2300000   ┆ 77798      │\n",
              "│            ┆      ┆          ┆            ┆   ┆ .walmart.c ┆            ┆           ┆            │\n",
              "│            ┆      ┆          ┆            ┆   ┆ om         ┆            ┆           ┆            │\n",
              "│ State Grid ┆ 2    ┆ 315199   ┆ -4.4       ┆ … ┆ http://www ┆ 17         ┆ 926067    ┆ 209456     │\n",
              "│            ┆      ┆          ┆            ┆   ┆ .sgcc.com. ┆            ┆           ┆            │\n",
              "│            ┆      ┆          ┆            ┆   ┆ cn         ┆            ┆           ┆            │\n",
              "│ Sinopec    ┆ 3    ┆ 267518   ┆ -9.1       ┆ … ┆ http://www ┆ 19         ┆ 713288    ┆ 106523     │\n",
              "│ Group      ┆      ┆          ┆            ┆   ┆ .sinopec.c ┆            ┆           ┆            │\n",
              "│            ┆      ┆          ┆            ┆   ┆ om         ┆            ┆           ┆            │\n",
              "│ China      ┆ 4    ┆ 262573   ┆ -12.3      ┆ … ┆ http://www ┆ 17         ┆ 1512048   ┆ 301893     │\n",
              "│ National   ┆      ┆          ┆            ┆   ┆ .cnpc.com. ┆            ┆           ┆            │\n",
              "│ Petroleum  ┆      ┆          ┆            ┆   ┆ cn         ┆            ┆           ┆            │\n",
              "│ …          ┆ …    ┆ …        ┆ …          ┆ … ┆ …          ┆ …          ┆ …         ┆ …          │\n",
              "│ Royal      ┆ 7    ┆ 240033   ┆ -11.8      ┆ … ┆ http://www ┆ 23         ┆ 89000     ┆ 186646     │\n",
              "│ Dutch      ┆      ┆          ┆            ┆   ┆ .shell.com ┆            ┆           ┆            │\n",
              "│ Shell      ┆      ┆          ┆            ┆   ┆            ┆            ┆           ┆            │\n",
              "│ Berkshire  ┆ 8    ┆ 223604   ┆ 6.1        ┆ … ┆ http://www ┆ 21         ┆ 367700    ┆ 283001     │\n",
              "│ Hathaway   ┆      ┆          ┆            ┆   ┆ .berkshire ┆            ┆           ┆            │\n",
              "│            ┆      ┆          ┆            ┆   ┆ hathaway.c ┆            ┆           ┆            │\n",
              "│            ┆      ┆          ┆            ┆   ┆ om         ┆            ┆           ┆            │\n",
              "│ Apple      ┆ 9    ┆ 215639   ┆ -7.7       ┆ … ┆ http://www ┆ 15         ┆ 116000    ┆ 128249     │\n",
              "│            ┆      ┆          ┆            ┆   ┆ .apple.com ┆            ┆           ┆            │\n",
              "│ Exxon      ┆ 10   ┆ 205004   ┆ -16.7      ┆ … ┆ http://www ┆ 23         ┆ 72700     ┆ 167325     │\n",
              "│ Mobil      ┆      ┆          ┆            ┆   ┆ .exxonmobi ┆            ┆           ┆            │\n",
              "│            ┆      ┆          ┆            ┆   ┆ l.com      ┆            ┆           ┆            │\n",
              "└────────────┴──────┴──────────┴────────────┴───┴────────────┴────────────┴───────────┴────────────┘"
            ],
            "text/html": [
              "<div><style>\n",
              ".dataframe > thead > tr,\n",
              ".dataframe > tbody > tr {\n",
              "  text-align: right;\n",
              "  white-space: pre-wrap;\n",
              "}\n",
              "</style>\n",
              "<small>shape: (10, 17)</small><table border=\"1\" class=\"dataframe\"><thead><tr><th>company</th><th>rank</th><th>revenues</th><th>revenue_change</th><th>profits</th><th>assets</th><th>profit_change</th><th>ceo</th><th>industry</th><th>sector</th><th>previous_rank</th><th>country</th><th>hq_location</th><th>website</th><th>years_on_global_500_list</th><th>employees</th><th>total_stockholder_equity</th></tr><tr><td>str</td><td>i64</td><td>i64</td><td>f64</td><td>f64</td><td>i64</td><td>f64</td><td>str</td><td>str</td><td>str</td><td>i64</td><td>str</td><td>str</td><td>str</td><td>i64</td><td>i64</td><td>i64</td></tr></thead><tbody><tr><td>&quot;Walmart&quot;</td><td>1</td><td>485873</td><td>0.8</td><td>13643.0</td><td>198825</td><td>-7.2</td><td>&quot;C. Douglas McM…</td><td>&quot;General Mercha…</td><td>&quot;Retailing&quot;</td><td>1</td><td>&quot;USA&quot;</td><td>&quot;Bentonville, A…</td><td>&quot;http://www.wal…</td><td>23</td><td>2300000</td><td>77798</td></tr><tr><td>&quot;State Grid&quot;</td><td>2</td><td>315199</td><td>-4.4</td><td>9571.3</td><td>489838</td><td>-6.2</td><td>&quot;Kou Wei&quot;</td><td>&quot;Utilities&quot;</td><td>&quot;Energy&quot;</td><td>2</td><td>&quot;China&quot;</td><td>&quot;Beijing, China…</td><td>&quot;http://www.sgc…</td><td>17</td><td>926067</td><td>209456</td></tr><tr><td>&quot;Sinopec Group&quot;</td><td>3</td><td>267518</td><td>-9.1</td><td>1257.9</td><td>310726</td><td>-65.0</td><td>&quot;Wang Yupu&quot;</td><td>&quot;Petroleum Refi…</td><td>&quot;Energy&quot;</td><td>4</td><td>&quot;China&quot;</td><td>&quot;Beijing, China…</td><td>&quot;http://www.sin…</td><td>19</td><td>713288</td><td>106523</td></tr><tr><td>&quot;China National…</td><td>4</td><td>262573</td><td>-12.3</td><td>1867.5</td><td>585619</td><td>-73.7</td><td>&quot;Zhang Jianhua&quot;</td><td>&quot;Petroleum Refi…</td><td>&quot;Energy&quot;</td><td>3</td><td>&quot;China&quot;</td><td>&quot;Beijing, China…</td><td>&quot;http://www.cnp…</td><td>17</td><td>1512048</td><td>301893</td></tr><tr><td>&quot;Toyota Motor&quot;</td><td>5</td><td>254694</td><td>7.7</td><td>16899.3</td><td>437575</td><td>-12.3</td><td>&quot;Akio Toyoda&quot;</td><td>&quot;Motor Vehicles…</td><td>&quot;Motor Vehicles…</td><td>8</td><td>&quot;Japan&quot;</td><td>&quot;Toyota, Japan&quot;</td><td>&quot;http://www.toy…</td><td>23</td><td>364445</td><td>157210</td></tr><tr><td>&quot;Volkswagen&quot;</td><td>6</td><td>240264</td><td>1.5</td><td>5937.3</td><td>432116</td><td>null</td><td>&quot;Matthias Mulle…</td><td>&quot;Motor Vehicles…</td><td>&quot;Motor Vehicles…</td><td>7</td><td>&quot;Germany&quot;</td><td>&quot;Wolfsburg, Ger…</td><td>&quot;http://www.vol…</td><td>23</td><td>626715</td><td>97753</td></tr><tr><td>&quot;Royal Dutch Sh…</td><td>7</td><td>240033</td><td>-11.8</td><td>4575.0</td><td>411275</td><td>135.9</td><td>&quot;Ben van Beurde…</td><td>&quot;Petroleum Refi…</td><td>&quot;Energy&quot;</td><td>5</td><td>&quot;Netherlands&quot;</td><td>&quot;The Hague, Net…</td><td>&quot;http://www.she…</td><td>23</td><td>89000</td><td>186646</td></tr><tr><td>&quot;Berkshire Hath…</td><td>8</td><td>223604</td><td>6.1</td><td>24074.0</td><td>620854</td><td>null</td><td>&quot;Warren E. Buff…</td><td>&quot;Insurance: Pro…</td><td>&quot;Financials&quot;</td><td>11</td><td>&quot;USA&quot;</td><td>&quot;Omaha, NE&quot;</td><td>&quot;http://www.ber…</td><td>21</td><td>367700</td><td>283001</td></tr><tr><td>&quot;Apple&quot;</td><td>9</td><td>215639</td><td>-7.7</td><td>45687.0</td><td>321686</td><td>-14.4</td><td>&quot;Timothy D. Coo…</td><td>&quot;Computers, Off…</td><td>&quot;Technology&quot;</td><td>9</td><td>&quot;USA&quot;</td><td>&quot;Cupertino, CA&quot;</td><td>&quot;http://www.app…</td><td>15</td><td>116000</td><td>128249</td></tr><tr><td>&quot;Exxon Mobil&quot;</td><td>10</td><td>205004</td><td>-16.7</td><td>7840.0</td><td>330314</td><td>-51.5</td><td>&quot;Darren W. Wood…</td><td>&quot;Petroleum Refi…</td><td>&quot;Energy&quot;</td><td>6</td><td>&quot;USA&quot;</td><td>&quot;Irving, TX&quot;</td><td>&quot;http://www.exx…</td><td>23</td><td>72700</td><td>167325</td></tr></tbody></table></div>"
            ]
          },
          "metadata": {},
          "execution_count": 7
        }
      ]
    },
    {
      "cell_type": "markdown",
      "source": [
        "## Ładowanie pliku CSV - pomijanie linii początkowych / końcowych oraz linii komentarzy\n"
      ],
      "metadata": {
        "id": "I5mY64BOwrn4"
      }
    },
    {
      "cell_type": "code",
      "source": [
        "url = \"https://raw.githubusercontent.com/marianwitkowski/bs-datasets/main/f500.csv\"\n",
        "df = pl.read_csv(url, separator=\",\", skip_rows_after_header=10, comment_prefix=\"#\", has_header=False)\n",
        "df"
      ],
      "metadata": {
        "colab": {
          "base_uri": "https://localhost:8080/",
          "height": 1000
        },
        "id": "rfkQwmekwbk_",
        "outputId": "04a4cb49-e853-48aa-f3d2-69011ac02afd"
      },
      "execution_count": 9,
      "outputs": [
        {
          "output_type": "execute_result",
          "data": {
            "text/plain": [
              "shape: (491, 17)\n",
              "┌────────────┬──────────┬──────────┬──────────┬───┬────────────┬───────────┬───────────┬───────────┐\n",
              "│ column_1   ┆ column_2 ┆ column_3 ┆ column_4 ┆ … ┆ column_14  ┆ column_15 ┆ column_16 ┆ column_17 │\n",
              "│ ---        ┆ ---      ┆ ---      ┆ ---      ┆   ┆ ---        ┆ ---       ┆ ---       ┆ ---       │\n",
              "│ str        ┆ i64      ┆ i64      ┆ f64      ┆   ┆ str        ┆ i64       ┆ i64       ┆ i64       │\n",
              "╞════════════╪══════════╪══════════╪══════════╪═══╪════════════╪═══════════╪═══════════╪═══════════╡\n",
              "│ Exxon      ┆ 10       ┆ 205004   ┆ -16.7    ┆ … ┆ http://www ┆ 23        ┆ 72700     ┆ 167325    │\n",
              "│ Mobil      ┆          ┆          ┆          ┆   ┆ .exxonmobi ┆           ┆           ┆           │\n",
              "│            ┆          ┆          ┆          ┆   ┆ l.com      ┆           ┆           ┆           │\n",
              "│ McKesson   ┆ 11       ┆ 198533   ┆ 3.1      ┆ … ┆ http://www ┆ 23        ┆ 64500     ┆ 11095     │\n",
              "│            ┆          ┆          ┆          ┆   ┆ .mckesson. ┆           ┆           ┆           │\n",
              "│            ┆          ┆          ┆          ┆   ┆ com        ┆           ┆           ┆           │\n",
              "│ BP         ┆ 12       ┆ 186606   ┆ -17.4    ┆ … ┆ http://www ┆ 23        ┆ 74500     ┆ 95286     │\n",
              "│            ┆          ┆          ┆          ┆   ┆ .bp.com    ┆           ┆           ┆           │\n",
              "│ UnitedHeal ┆ 13       ┆ 184840   ┆ 17.7     ┆ … ┆ http://www ┆ 21        ┆ 230000    ┆ 38274     │\n",
              "│ th Group   ┆          ┆          ┆          ┆   ┆ .unitedhea ┆           ┆           ┆           │\n",
              "│            ┆          ┆          ┆          ┆   ┆ lthgroup.c ┆           ┆           ┆           │\n",
              "│            ┆          ┆          ┆          ┆   ┆ om         ┆           ┆           ┆           │\n",
              "│ …          ┆ …        ┆ …        ┆ …        ┆ … ┆ …          ┆ …         ┆ …         ┆ …         │\n",
              "│ New China  ┆ 497      ┆ 21796    ┆ -13.3    ┆ … ┆ http://www ┆ 2         ┆ 54378     ┆ 8507      │\n",
              "│ Life       ┆          ┆          ┆          ┆   ┆ .newchinal ┆           ┆           ┆           │\n",
              "│ Insurance  ┆          ┆          ┆          ┆   ┆ ife.com    ┆           ┆           ┆           │\n",
              "│ Wm.        ┆ 498      ┆ 21741    ┆ -11.3    ┆ … ┆ http://www ┆ 13        ┆ 77210     ┆ 5111      │\n",
              "│ Morrison   ┆          ┆          ┆          ┆   ┆ .morrisons ┆           ┆           ┆           │\n",
              "│ Supermarke ┆          ┆          ┆          ┆   ┆ .com       ┆           ┆           ┆           │\n",
              "│ ts         ┆          ┆          ┆          ┆   ┆            ┆           ┆           ┆           │\n",
              "│ TUI        ┆ 499      ┆ 21655    ┆ -5.5     ┆ … ┆ http://www ┆ 23        ┆ 66779     ┆ 3006      │\n",
              "│            ┆          ┆          ┆          ┆   ┆ .tuigroup. ┆           ┆           ┆           │\n",
              "│            ┆          ┆          ┆          ┆   ┆ com        ┆           ┆           ┆           │\n",
              "│ AutoNation ┆ 500      ┆ 21609    ┆ 3.6      ┆ … ┆ http://www ┆ 12        ┆ 26000     ┆ 2310      │\n",
              "│            ┆          ┆          ┆          ┆   ┆ .autonatio ┆           ┆           ┆           │\n",
              "│            ┆          ┆          ┆          ┆   ┆ n.com      ┆           ┆           ┆           │\n",
              "└────────────┴──────────┴──────────┴──────────┴───┴────────────┴───────────┴───────────┴───────────┘"
            ],
            "text/html": [
              "<div><style>\n",
              ".dataframe > thead > tr,\n",
              ".dataframe > tbody > tr {\n",
              "  text-align: right;\n",
              "  white-space: pre-wrap;\n",
              "}\n",
              "</style>\n",
              "<small>shape: (491, 17)</small><table border=\"1\" class=\"dataframe\"><thead><tr><th>column_1</th><th>column_2</th><th>column_3</th><th>column_4</th><th>column_5</th><th>column_6</th><th>column_7</th><th>column_8</th><th>column_9</th><th>column_10</th><th>column_11</th><th>column_12</th><th>column_13</th><th>column_14</th><th>column_15</th><th>column_16</th><th>column_17</th></tr><tr><td>str</td><td>i64</td><td>i64</td><td>f64</td><td>f64</td><td>i64</td><td>f64</td><td>str</td><td>str</td><td>str</td><td>i64</td><td>str</td><td>str</td><td>str</td><td>i64</td><td>i64</td><td>i64</td></tr></thead><tbody><tr><td>&quot;Exxon Mobil&quot;</td><td>10</td><td>205004</td><td>-16.7</td><td>7840.0</td><td>330314</td><td>-51.5</td><td>&quot;Darren W. Wood…</td><td>&quot;Petroleum Refi…</td><td>&quot;Energy&quot;</td><td>6</td><td>&quot;USA&quot;</td><td>&quot;Irving, TX&quot;</td><td>&quot;http://www.exx…</td><td>23</td><td>72700</td><td>167325</td></tr><tr><td>&quot;McKesson&quot;</td><td>11</td><td>198533</td><td>3.1</td><td>5070.0</td><td>60969</td><td>124.5</td><td>&quot;John H. Hammer…</td><td>&quot;Wholesalers: H…</td><td>&quot;Wholesalers&quot;</td><td>12</td><td>&quot;USA&quot;</td><td>&quot;San Francisco,…</td><td>&quot;http://www.mck…</td><td>23</td><td>64500</td><td>11095</td></tr><tr><td>&quot;BP&quot;</td><td>12</td><td>186606</td><td>-17.4</td><td>115.0</td><td>263316</td><td>null</td><td>&quot;Robert W. Dudl…</td><td>&quot;Petroleum Refi…</td><td>&quot;Energy&quot;</td><td>10</td><td>&quot;Britain&quot;</td><td>&quot;London, Britai…</td><td>&quot;http://www.bp.…</td><td>23</td><td>74500</td><td>95286</td></tr><tr><td>&quot;UnitedHealth G…</td><td>13</td><td>184840</td><td>17.7</td><td>7017.0</td><td>122810</td><td>20.7</td><td>&quot;Stephen J. Hem…</td><td>&quot;Health Care: I…</td><td>&quot;Health Care&quot;</td><td>17</td><td>&quot;USA&quot;</td><td>&quot;Minnetonka, MN…</td><td>&quot;http://www.uni…</td><td>21</td><td>230000</td><td>38274</td></tr><tr><td>&quot;CVS Health&quot;</td><td>14</td><td>177526</td><td>15.8</td><td>5317.0</td><td>94462</td><td>1.5</td><td>&quot;Larry J. Merlo…</td><td>&quot;Health Care: P…</td><td>&quot;Health Care&quot;</td><td>18</td><td>&quot;USA&quot;</td><td>&quot;Woonsocket, RI…</td><td>&quot;http://www.cvs…</td><td>22</td><td>204000</td><td>36830</td></tr><tr><td>&quot;Samsung Electr…</td><td>15</td><td>173957</td><td>-2.0</td><td>19316.5</td><td>217104</td><td>16.8</td><td>&quot;Oh-Hyun Kwon&quot;</td><td>&quot;Electronics, E…</td><td>&quot;Technology&quot;</td><td>13</td><td>&quot;South Korea&quot;</td><td>&quot;Suwon, South K…</td><td>&quot;http://www.sam…</td><td>23</td><td>325000</td><td>154376</td></tr><tr><td>&quot;Glencore&quot;</td><td>16</td><td>173883</td><td>2.0</td><td>1379.0</td><td>124600</td><td>null</td><td>&quot;Ivan Glasenber…</td><td>&quot;Mining, Crude-…</td><td>&quot;Energy&quot;</td><td>14</td><td>&quot;Switzerland&quot;</td><td>&quot;Baar, Switzerl…</td><td>&quot;http://www.gle…</td><td>7</td><td>93123</td><td>44243</td></tr><tr><td>&quot;Daimler&quot;</td><td>17</td><td>169483</td><td>2.2</td><td>9428.4</td><td>256262</td><td>0.9</td><td>&quot;Dieter Zetsche…</td><td>&quot;Motor Vehicles…</td><td>&quot;Motor Vehicles…</td><td>16</td><td>&quot;Germany&quot;</td><td>&quot;Stuttgart, Ger…</td><td>&quot;http://www.dai…</td><td>23</td><td>282488</td><td>61116</td></tr><tr><td>&quot;General Motors…</td><td>18</td><td>166380</td><td>9.2</td><td>9427.0</td><td>221690</td><td>-2.7</td><td>&quot;Mary T. Barra&quot;</td><td>&quot;Motor Vehicles…</td><td>&quot;Motor Vehicles…</td><td>20</td><td>&quot;USA&quot;</td><td>&quot;Detroit, MI&quot;</td><td>&quot;http://www.gm.…</td><td>23</td><td>225000</td><td>43836</td></tr><tr><td>&quot;AT&amp;T&quot;</td><td>19</td><td>163786</td><td>11.6</td><td>12976.0</td><td>403821</td><td>-2.8</td><td>&quot;Randall L. Ste…</td><td>&quot;Telecommunicat…</td><td>&quot;Telecommunicat…</td><td>23</td><td>&quot;USA&quot;</td><td>&quot;Dallas, TX&quot;</td><td>&quot;http://www.att…</td><td>23</td><td>268540</td><td>123135</td></tr><tr><td>&quot;EXOR Group&quot;</td><td>20</td><td>154894</td><td>1.5</td><td>651.3</td><td>186172</td><td>-21.1</td><td>&quot;John Elkann&quot;</td><td>&quot;Diversified Fi…</td><td>&quot;Financials&quot;</td><td>19</td><td>&quot;Netherlands&quot;</td><td>&quot;Amsterdam, Net…</td><td>&quot;http://www.exo…</td><td>7</td><td>302562</td><td>11582</td></tr><tr><td>&quot;Ford Motor&quot;</td><td>21</td><td>151800</td><td>1.5</td><td>4596.0</td><td>237951</td><td>-37.7</td><td>&quot;James P. Hacke…</td><td>&quot;Motor Vehicles…</td><td>&quot;Motor Vehicles…</td><td>21</td><td>&quot;USA&quot;</td><td>&quot;Dearborn, MI&quot;</td><td>&quot;http://www.for…</td><td>23</td><td>201000</td><td>29170</td></tr><tr><td>&hellip;</td><td>&hellip;</td><td>&hellip;</td><td>&hellip;</td><td>&hellip;</td><td>&hellip;</td><td>&hellip;</td><td>&hellip;</td><td>&hellip;</td><td>&hellip;</td><td>&hellip;</td><td>&hellip;</td><td>&hellip;</td><td>&hellip;</td><td>&hellip;</td><td>&hellip;</td><td>&hellip;</td></tr><tr><td>&quot;Sears Holdings…</td><td>489</td><td>22138</td><td>-12.0</td><td>-2221.0</td><td>9362</td><td>null</td><td>&quot;Edward S. Lamp…</td><td>&quot;General Mercha…</td><td>&quot;Retailing&quot;</td><td>425</td><td>&quot;USA&quot;</td><td>&quot;Hoffman Estate…</td><td>&quot;http://www.sea…</td><td>23</td><td>140000</td><td>-3824</td></tr><tr><td>&quot;China General …</td><td>490</td><td>22113</td><td>-20.1</td><td>413.6</td><td>20860</td><td>-20.8</td><td>&quot;Xu Xianping&quot;</td><td>&quot;Engineering, C…</td><td>&quot;Engineering &amp; …</td><td>383</td><td>&quot;China&quot;</td><td>&quot;Beijing, China…</td><td>&quot;http://www.gen…</td><td>4</td><td>38589</td><td>5114</td></tr><tr><td>&quot;National Grid&quot;</td><td>491</td><td>22036</td><td>-3.2</td><td>10150.6</td><td>82310</td><td>160.2</td><td>&quot;John Pettigrew…</td><td>&quot;Utilities&quot;</td><td>&quot;Energy&quot;</td><td>471</td><td>&quot;Britain&quot;</td><td>&quot;London, Britai…</td><td>&quot;http://www.nat…</td><td>12</td><td>22132</td><td>25463</td></tr><tr><td>&quot;Dollar General…</td><td>492</td><td>21987</td><td>7.9</td><td>1251.1</td><td>11672</td><td>7.4</td><td>&quot;Todd J. Vasos&quot;</td><td>&quot;Specialty Reta…</td><td>&quot;Retailing&quot;</td><td>0</td><td>&quot;USA&quot;</td><td>&quot;Goodlettsville…</td><td>&quot;http://www.dol…</td><td>1</td><td>121000</td><td>5406</td></tr><tr><td>&quot;Telecom Italia…</td><td>493</td><td>21941</td><td>-17.4</td><td>1999.4</td><td>74295</td><td>null</td><td>&quot;Flavio Cattane…</td><td>&quot;Telecommunicat…</td><td>&quot;Telecommunicat…</td><td>404</td><td>&quot;Italy&quot;</td><td>&quot;Milan, Italy&quot;</td><td>&quot;http://www.tel…</td><td>18</td><td>61227</td><td>22366</td></tr><tr><td>&quot;Xiamen ITG Hol…</td><td>494</td><td>21930</td><td>34.3</td><td>35.6</td><td>12161</td><td>-25.1</td><td>&quot;Xu Xiaoxi&quot;</td><td>&quot;Trading&quot;</td><td>&quot;Wholesalers&quot;</td><td>0</td><td>&quot;China&quot;</td><td>&quot;Xiamen, China&quot;</td><td>&quot;http://www.itg…</td><td>1</td><td>18454</td><td>1066</td></tr><tr><td>&quot;Xinjiang Guang…</td><td>495</td><td>21919</td><td>31.1</td><td>251.8</td><td>31957</td><td>49.9</td><td>&quot;Shang Jiqiang&quot;</td><td>&quot;Trading&quot;</td><td>&quot;Wholesalers&quot;</td><td>0</td><td>&quot;China&quot;</td><td>&quot;Urumqi, China&quot;</td><td>&quot;http://www.gua…</td><td>1</td><td>65616</td><td>4563</td></tr><tr><td>&quot;Teva Pharmaceu…</td><td>496</td><td>21903</td><td>11.5</td><td>329.0</td><td>92890</td><td>-79.3</td><td>&quot;Yitzhak Peterb…</td><td>&quot;Pharmaceutical…</td><td>&quot;Health Care&quot;</td><td>0</td><td>&quot;Israel&quot;</td><td>&quot;Petach Tikva, …</td><td>&quot;http://www.tev…</td><td>1</td><td>56960</td><td>33337</td></tr><tr><td>&quot;New China Life…</td><td>497</td><td>21796</td><td>-13.3</td><td>743.9</td><td>100609</td><td>-45.6</td><td>&quot;Wan Feng&quot;</td><td>&quot;Insurance: Lif…</td><td>&quot;Financials&quot;</td><td>427</td><td>&quot;China&quot;</td><td>&quot;Beijing, China…</td><td>&quot;http://www.new…</td><td>2</td><td>54378</td><td>8507</td></tr><tr><td>&quot;Wm. Morrison S…</td><td>498</td><td>21741</td><td>-11.3</td><td>406.4</td><td>11630</td><td>20.4</td><td>&quot;David T. Potts…</td><td>&quot;Food and Drug …</td><td>&quot;Food &amp; Drug St…</td><td>437</td><td>&quot;Britain&quot;</td><td>&quot;Bradford, Brit…</td><td>&quot;http://www.mor…</td><td>13</td><td>77210</td><td>5111</td></tr><tr><td>&quot;TUI&quot;</td><td>499</td><td>21655</td><td>-5.5</td><td>1151.7</td><td>16247</td><td>195.5</td><td>&quot;Friedrich Jous…</td><td>&quot;Travel Service…</td><td>&quot;Business Servi…</td><td>467</td><td>&quot;Germany&quot;</td><td>&quot;Hanover, Germa…</td><td>&quot;http://www.tui…</td><td>23</td><td>66779</td><td>3006</td></tr><tr><td>&quot;AutoNation&quot;</td><td>500</td><td>21609</td><td>3.6</td><td>430.5</td><td>10060</td><td>-2.7</td><td>&quot;Michael J. Jac…</td><td>&quot;Specialty Reta…</td><td>&quot;Retailing&quot;</td><td>0</td><td>&quot;USA&quot;</td><td>&quot;Fort Lauderdal…</td><td>&quot;http://www.aut…</td><td>12</td><td>26000</td><td>2310</td></tr></tbody></table></div>"
            ]
          },
          "metadata": {},
          "execution_count": 9
        }
      ]
    },
    {
      "cell_type": "markdown",
      "source": [
        "## Ładowanie pliku CSV - interpretacja wartości NaN"
      ],
      "metadata": {
        "id": "f4ELH7yglOUs"
      }
    },
    {
      "cell_type": "code",
      "source": [
        "url = \"https://raw.githubusercontent.com/marianwitkowski/bs-datasets/main/f500.csv\"\n",
        "df = pl.read_csv(url, separator=\",\", null_values=['?','*'])\n",
        "df.head()\n"
      ],
      "metadata": {
        "colab": {
          "base_uri": "https://localhost:8080/",
          "height": 379
        },
        "id": "SDueiYVnwpyY",
        "outputId": "a1d9c1ed-5341-46f8-f410-eedf9afd5237"
      },
      "execution_count": 10,
      "outputs": [
        {
          "output_type": "execute_result",
          "data": {
            "text/plain": [
              "shape: (5, 17)\n",
              "┌────────────┬──────┬──────────┬────────────┬───┬────────────┬────────────┬───────────┬────────────┐\n",
              "│ company    ┆ rank ┆ revenues ┆ revenue_ch ┆ … ┆ website    ┆ years_on_g ┆ employees ┆ total_stoc │\n",
              "│ ---        ┆ ---  ┆ ---      ┆ ange       ┆   ┆ ---        ┆ lobal_500_ ┆ ---       ┆ kholder_eq │\n",
              "│ str        ┆ i64  ┆ i64      ┆ ---        ┆   ┆ str        ┆ list       ┆ i64       ┆ uity       │\n",
              "│            ┆      ┆          ┆ f64        ┆   ┆            ┆ ---        ┆           ┆ ---        │\n",
              "│            ┆      ┆          ┆            ┆   ┆            ┆ i64        ┆           ┆ i64        │\n",
              "╞════════════╪══════╪══════════╪════════════╪═══╪════════════╪════════════╪═══════════╪════════════╡\n",
              "│ Walmart    ┆ 1    ┆ 485873   ┆ 0.8        ┆ … ┆ http://www ┆ 23         ┆ 2300000   ┆ 77798      │\n",
              "│            ┆      ┆          ┆            ┆   ┆ .walmart.c ┆            ┆           ┆            │\n",
              "│            ┆      ┆          ┆            ┆   ┆ om         ┆            ┆           ┆            │\n",
              "│ State Grid ┆ 2    ┆ 315199   ┆ -4.4       ┆ … ┆ http://www ┆ 17         ┆ 926067    ┆ 209456     │\n",
              "│            ┆      ┆          ┆            ┆   ┆ .sgcc.com. ┆            ┆           ┆            │\n",
              "│            ┆      ┆          ┆            ┆   ┆ cn         ┆            ┆           ┆            │\n",
              "│ Sinopec    ┆ 3    ┆ 267518   ┆ -9.1       ┆ … ┆ http://www ┆ 19         ┆ 713288    ┆ 106523     │\n",
              "│ Group      ┆      ┆          ┆            ┆   ┆ .sinopec.c ┆            ┆           ┆            │\n",
              "│            ┆      ┆          ┆            ┆   ┆ om         ┆            ┆           ┆            │\n",
              "│ China      ┆ 4    ┆ 262573   ┆ -12.3      ┆ … ┆ http://www ┆ 17         ┆ 1512048   ┆ 301893     │\n",
              "│ National   ┆      ┆          ┆            ┆   ┆ .cnpc.com. ┆            ┆           ┆            │\n",
              "│ Petroleum  ┆      ┆          ┆            ┆   ┆ cn         ┆            ┆           ┆            │\n",
              "│ Toyota     ┆ 5    ┆ 254694   ┆ 7.7        ┆ … ┆ http://www ┆ 23         ┆ 364445    ┆ 157210     │\n",
              "│ Motor      ┆      ┆          ┆            ┆   ┆ .toyota-gl ┆            ┆           ┆            │\n",
              "│            ┆      ┆          ┆            ┆   ┆ obal.com   ┆            ┆           ┆            │\n",
              "└────────────┴──────┴──────────┴────────────┴───┴────────────┴────────────┴───────────┴────────────┘"
            ],
            "text/html": [
              "<div><style>\n",
              ".dataframe > thead > tr,\n",
              ".dataframe > tbody > tr {\n",
              "  text-align: right;\n",
              "  white-space: pre-wrap;\n",
              "}\n",
              "</style>\n",
              "<small>shape: (5, 17)</small><table border=\"1\" class=\"dataframe\"><thead><tr><th>company</th><th>rank</th><th>revenues</th><th>revenue_change</th><th>profits</th><th>assets</th><th>profit_change</th><th>ceo</th><th>industry</th><th>sector</th><th>previous_rank</th><th>country</th><th>hq_location</th><th>website</th><th>years_on_global_500_list</th><th>employees</th><th>total_stockholder_equity</th></tr><tr><td>str</td><td>i64</td><td>i64</td><td>f64</td><td>f64</td><td>i64</td><td>f64</td><td>str</td><td>str</td><td>str</td><td>i64</td><td>str</td><td>str</td><td>str</td><td>i64</td><td>i64</td><td>i64</td></tr></thead><tbody><tr><td>&quot;Walmart&quot;</td><td>1</td><td>485873</td><td>0.8</td><td>13643.0</td><td>198825</td><td>-7.2</td><td>&quot;C. Douglas McM…</td><td>&quot;General Mercha…</td><td>&quot;Retailing&quot;</td><td>1</td><td>&quot;USA&quot;</td><td>&quot;Bentonville, A…</td><td>&quot;http://www.wal…</td><td>23</td><td>2300000</td><td>77798</td></tr><tr><td>&quot;State Grid&quot;</td><td>2</td><td>315199</td><td>-4.4</td><td>9571.3</td><td>489838</td><td>-6.2</td><td>&quot;Kou Wei&quot;</td><td>&quot;Utilities&quot;</td><td>&quot;Energy&quot;</td><td>2</td><td>&quot;China&quot;</td><td>&quot;Beijing, China…</td><td>&quot;http://www.sgc…</td><td>17</td><td>926067</td><td>209456</td></tr><tr><td>&quot;Sinopec Group&quot;</td><td>3</td><td>267518</td><td>-9.1</td><td>1257.9</td><td>310726</td><td>-65.0</td><td>&quot;Wang Yupu&quot;</td><td>&quot;Petroleum Refi…</td><td>&quot;Energy&quot;</td><td>4</td><td>&quot;China&quot;</td><td>&quot;Beijing, China…</td><td>&quot;http://www.sin…</td><td>19</td><td>713288</td><td>106523</td></tr><tr><td>&quot;China National…</td><td>4</td><td>262573</td><td>-12.3</td><td>1867.5</td><td>585619</td><td>-73.7</td><td>&quot;Zhang Jianhua&quot;</td><td>&quot;Petroleum Refi…</td><td>&quot;Energy&quot;</td><td>3</td><td>&quot;China&quot;</td><td>&quot;Beijing, China…</td><td>&quot;http://www.cnp…</td><td>17</td><td>1512048</td><td>301893</td></tr><tr><td>&quot;Toyota Motor&quot;</td><td>5</td><td>254694</td><td>7.7</td><td>16899.3</td><td>437575</td><td>-12.3</td><td>&quot;Akio Toyoda&quot;</td><td>&quot;Motor Vehicles…</td><td>&quot;Motor Vehicles…</td><td>8</td><td>&quot;Japan&quot;</td><td>&quot;Toyota, Japan&quot;</td><td>&quot;http://www.toy…</td><td>23</td><td>364445</td><td>157210</td></tr></tbody></table></div>"
            ]
          },
          "metadata": {},
          "execution_count": 10
        }
      ]
    },
    {
      "cell_type": "markdown",
      "source": [
        "## Ładowanie pliku CSV - określanie typu kolumn"
      ],
      "metadata": {
        "id": "abLQpnHqlcXY"
      }
    },
    {
      "cell_type": "code",
      "source": [
        "url = \"https://raw.githubusercontent.com/marianwitkowski/bs-datasets/main/f500.csv\"\n",
        "df = pl.read_csv(url, separator=\",\", dtypes={\n",
        "    'rank' : pl.Int64, 'revenue_change' : pl.Float64,  'previous_rank' : pl.UInt16\n",
        "})\n",
        "df.head()"
      ],
      "metadata": {
        "colab": {
          "base_uri": "https://localhost:8080/",
          "height": 379
        },
        "id": "rzRBeh5IlYl_",
        "outputId": "7b42ef23-b069-4294-e380-25d7fc4cd8bf"
      },
      "execution_count": 15,
      "outputs": [
        {
          "output_type": "execute_result",
          "data": {
            "text/plain": [
              "shape: (5, 17)\n",
              "┌────────────┬──────┬──────────┬────────────┬───┬────────────┬────────────┬───────────┬────────────┐\n",
              "│ company    ┆ rank ┆ revenues ┆ revenue_ch ┆ … ┆ website    ┆ years_on_g ┆ employees ┆ total_stoc │\n",
              "│ ---        ┆ ---  ┆ ---      ┆ ange       ┆   ┆ ---        ┆ lobal_500_ ┆ ---       ┆ kholder_eq │\n",
              "│ str        ┆ i64  ┆ i64      ┆ ---        ┆   ┆ str        ┆ list       ┆ i64       ┆ uity       │\n",
              "│            ┆      ┆          ┆ f64        ┆   ┆            ┆ ---        ┆           ┆ ---        │\n",
              "│            ┆      ┆          ┆            ┆   ┆            ┆ i64        ┆           ┆ i64        │\n",
              "╞════════════╪══════╪══════════╪════════════╪═══╪════════════╪════════════╪═══════════╪════════════╡\n",
              "│ Walmart    ┆ 1    ┆ 485873   ┆ 0.8        ┆ … ┆ http://www ┆ 23         ┆ 2300000   ┆ 77798      │\n",
              "│            ┆      ┆          ┆            ┆   ┆ .walmart.c ┆            ┆           ┆            │\n",
              "│            ┆      ┆          ┆            ┆   ┆ om         ┆            ┆           ┆            │\n",
              "│ State Grid ┆ 2    ┆ 315199   ┆ -4.4       ┆ … ┆ http://www ┆ 17         ┆ 926067    ┆ 209456     │\n",
              "│            ┆      ┆          ┆            ┆   ┆ .sgcc.com. ┆            ┆           ┆            │\n",
              "│            ┆      ┆          ┆            ┆   ┆ cn         ┆            ┆           ┆            │\n",
              "│ Sinopec    ┆ 3    ┆ 267518   ┆ -9.1       ┆ … ┆ http://www ┆ 19         ┆ 713288    ┆ 106523     │\n",
              "│ Group      ┆      ┆          ┆            ┆   ┆ .sinopec.c ┆            ┆           ┆            │\n",
              "│            ┆      ┆          ┆            ┆   ┆ om         ┆            ┆           ┆            │\n",
              "│ China      ┆ 4    ┆ 262573   ┆ -12.3      ┆ … ┆ http://www ┆ 17         ┆ 1512048   ┆ 301893     │\n",
              "│ National   ┆      ┆          ┆            ┆   ┆ .cnpc.com. ┆            ┆           ┆            │\n",
              "│ Petroleum  ┆      ┆          ┆            ┆   ┆ cn         ┆            ┆           ┆            │\n",
              "│ Toyota     ┆ 5    ┆ 254694   ┆ 7.7        ┆ … ┆ http://www ┆ 23         ┆ 364445    ┆ 157210     │\n",
              "│ Motor      ┆      ┆          ┆            ┆   ┆ .toyota-gl ┆            ┆           ┆            │\n",
              "│            ┆      ┆          ┆            ┆   ┆ obal.com   ┆            ┆           ┆            │\n",
              "└────────────┴──────┴──────────┴────────────┴───┴────────────┴────────────┴───────────┴────────────┘"
            ],
            "text/html": [
              "<div><style>\n",
              ".dataframe > thead > tr,\n",
              ".dataframe > tbody > tr {\n",
              "  text-align: right;\n",
              "  white-space: pre-wrap;\n",
              "}\n",
              "</style>\n",
              "<small>shape: (5, 17)</small><table border=\"1\" class=\"dataframe\"><thead><tr><th>company</th><th>rank</th><th>revenues</th><th>revenue_change</th><th>profits</th><th>assets</th><th>profit_change</th><th>ceo</th><th>industry</th><th>sector</th><th>previous_rank</th><th>country</th><th>hq_location</th><th>website</th><th>years_on_global_500_list</th><th>employees</th><th>total_stockholder_equity</th></tr><tr><td>str</td><td>i64</td><td>i64</td><td>f64</td><td>f64</td><td>i64</td><td>f64</td><td>str</td><td>str</td><td>str</td><td>u16</td><td>str</td><td>str</td><td>str</td><td>i64</td><td>i64</td><td>i64</td></tr></thead><tbody><tr><td>&quot;Walmart&quot;</td><td>1</td><td>485873</td><td>0.8</td><td>13643.0</td><td>198825</td><td>-7.2</td><td>&quot;C. Douglas McM…</td><td>&quot;General Mercha…</td><td>&quot;Retailing&quot;</td><td>1</td><td>&quot;USA&quot;</td><td>&quot;Bentonville, A…</td><td>&quot;http://www.wal…</td><td>23</td><td>2300000</td><td>77798</td></tr><tr><td>&quot;State Grid&quot;</td><td>2</td><td>315199</td><td>-4.4</td><td>9571.3</td><td>489838</td><td>-6.2</td><td>&quot;Kou Wei&quot;</td><td>&quot;Utilities&quot;</td><td>&quot;Energy&quot;</td><td>2</td><td>&quot;China&quot;</td><td>&quot;Beijing, China…</td><td>&quot;http://www.sgc…</td><td>17</td><td>926067</td><td>209456</td></tr><tr><td>&quot;Sinopec Group&quot;</td><td>3</td><td>267518</td><td>-9.1</td><td>1257.9</td><td>310726</td><td>-65.0</td><td>&quot;Wang Yupu&quot;</td><td>&quot;Petroleum Refi…</td><td>&quot;Energy&quot;</td><td>4</td><td>&quot;China&quot;</td><td>&quot;Beijing, China…</td><td>&quot;http://www.sin…</td><td>19</td><td>713288</td><td>106523</td></tr><tr><td>&quot;China National…</td><td>4</td><td>262573</td><td>-12.3</td><td>1867.5</td><td>585619</td><td>-73.7</td><td>&quot;Zhang Jianhua&quot;</td><td>&quot;Petroleum Refi…</td><td>&quot;Energy&quot;</td><td>3</td><td>&quot;China&quot;</td><td>&quot;Beijing, China…</td><td>&quot;http://www.cnp…</td><td>17</td><td>1512048</td><td>301893</td></tr><tr><td>&quot;Toyota Motor&quot;</td><td>5</td><td>254694</td><td>7.7</td><td>16899.3</td><td>437575</td><td>-12.3</td><td>&quot;Akio Toyoda&quot;</td><td>&quot;Motor Vehicles…</td><td>&quot;Motor Vehicles…</td><td>8</td><td>&quot;Japan&quot;</td><td>&quot;Toyota, Japan&quot;</td><td>&quot;http://www.toy…</td><td>23</td><td>364445</td><td>157210</td></tr></tbody></table></div>"
            ]
          },
          "metadata": {},
          "execution_count": 15
        }
      ]
    },
    {
      "cell_type": "code",
      "source": [],
      "metadata": {
        "id": "Aicatl3mnUg-"
      },
      "execution_count": null,
      "outputs": []
    }
  ]
}