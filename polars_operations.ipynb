{
  "nbformat": 4,
  "nbformat_minor": 0,
  "metadata": {
    "colab": {
      "provenance": []
    },
    "kernelspec": {
      "name": "python3",
      "display_name": "Python 3"
    },
    "language_info": {
      "name": "python"
    }
  },
  "cells": [
    {
      "cell_type": "code",
      "source": [
        "!pip install polars -U"
      ],
      "metadata": {
        "colab": {
          "base_uri": "https://localhost:8080/"
        },
        "id": "g-ZbDdXu3Gpn",
        "outputId": "7144c0ea-8a87-4cff-ae8d-530a689aa955"
      },
      "execution_count": 94,
      "outputs": [
        {
          "output_type": "stream",
          "name": "stdout",
          "text": [
            "Requirement already satisfied: polars in /usr/local/lib/python3.10/dist-packages (0.20.3)\n"
          ]
        }
      ]
    },
    {
      "cell_type": "code",
      "execution_count": 95,
      "metadata": {
        "id": "dIoUm9X_zxpI"
      },
      "outputs": [],
      "source": [
        "import polars as pl\n",
        "import warnings\n",
        "\n",
        "warnings.filterwarnings(\"ignore\")"
      ]
    },
    {
      "cell_type": "markdown",
      "source": [
        "\n",
        "## Ładowanie danych do DataFrame"
      ],
      "metadata": {
        "id": "5nUJv7Nr0cI8"
      }
    },
    {
      "cell_type": "code",
      "source": [
        "url = \"https://bit.ly/3io3vC6\"\n",
        "df = pl.read_csv(url, ignore_errors=True)"
      ],
      "metadata": {
        "id": "TXoy5JDfz1OV"
      },
      "execution_count": 96,
      "outputs": []
    },
    {
      "cell_type": "markdown",
      "source": [
        "## Pokaż początkowe rekordy w DataFrame\n"
      ],
      "metadata": {
        "id": "H28Vve3S0jip"
      }
    },
    {
      "cell_type": "code",
      "source": [
        "df.head()"
      ],
      "metadata": {
        "colab": {
          "base_uri": "https://localhost:8080/",
          "height": 255
        },
        "id": "t2CfCEokz_1u",
        "outputId": "f95d1307-421d-47c6-eb05-a2aefca234a2"
      },
      "execution_count": 97,
      "outputs": [
        {
          "output_type": "execute_result",
          "data": {
            "text/plain": [
              "shape: (5, 6)\n",
              "┌─────────────┬──────┬──────────┬───────────┬─────────┬────────────┐\n",
              "│ country     ┆ year ┆ pop      ┆ continent ┆ lifeExp ┆ gdpPercap  │\n",
              "│ ---         ┆ ---  ┆ ---      ┆ ---       ┆ ---     ┆ ---        │\n",
              "│ str         ┆ i64  ┆ i64      ┆ str       ┆ f64     ┆ f64        │\n",
              "╞═════════════╪══════╪══════════╪═══════════╪═════════╪════════════╡\n",
              "│ Afghanistan ┆ 1952 ┆ 8425333  ┆ Asia      ┆ 28.801  ┆ 779.445314 │\n",
              "│ Afghanistan ┆ 1957 ┆ 9240934  ┆ Asia      ┆ 30.332  ┆ 820.85303  │\n",
              "│ Afghanistan ┆ 1962 ┆ 10267083 ┆ Asia      ┆ 31.997  ┆ 853.10071  │\n",
              "│ Afghanistan ┆ 1967 ┆ 11537966 ┆ Asia      ┆ 34.02   ┆ 836.197138 │\n",
              "│ Afghanistan ┆ 1972 ┆ 13079460 ┆ Asia      ┆ 36.088  ┆ 739.981106 │\n",
              "└─────────────┴──────┴──────────┴───────────┴─────────┴────────────┘"
            ],
            "text/html": [
              "<div><style>\n",
              ".dataframe > thead > tr,\n",
              ".dataframe > tbody > tr {\n",
              "  text-align: right;\n",
              "  white-space: pre-wrap;\n",
              "}\n",
              "</style>\n",
              "<small>shape: (5, 6)</small><table border=\"1\" class=\"dataframe\"><thead><tr><th>country</th><th>year</th><th>pop</th><th>continent</th><th>lifeExp</th><th>gdpPercap</th></tr><tr><td>str</td><td>i64</td><td>i64</td><td>str</td><td>f64</td><td>f64</td></tr></thead><tbody><tr><td>&quot;Afghanistan&quot;</td><td>1952</td><td>8425333</td><td>&quot;Asia&quot;</td><td>28.801</td><td>779.445314</td></tr><tr><td>&quot;Afghanistan&quot;</td><td>1957</td><td>9240934</td><td>&quot;Asia&quot;</td><td>30.332</td><td>820.85303</td></tr><tr><td>&quot;Afghanistan&quot;</td><td>1962</td><td>10267083</td><td>&quot;Asia&quot;</td><td>31.997</td><td>853.10071</td></tr><tr><td>&quot;Afghanistan&quot;</td><td>1967</td><td>11537966</td><td>&quot;Asia&quot;</td><td>34.02</td><td>836.197138</td></tr><tr><td>&quot;Afghanistan&quot;</td><td>1972</td><td>13079460</td><td>&quot;Asia&quot;</td><td>36.088</td><td>739.981106</td></tr></tbody></table></div>"
            ]
          },
          "metadata": {},
          "execution_count": 97
        }
      ]
    },
    {
      "cell_type": "markdown",
      "source": [
        "## Pokaż końcowe rekordy w DataFrame\n"
      ],
      "metadata": {
        "id": "i-wS19uV0nsh"
      }
    },
    {
      "cell_type": "code",
      "source": [
        "df.tail(10)"
      ],
      "metadata": {
        "colab": {
          "base_uri": "https://localhost:8080/",
          "height": 412
        },
        "id": "E6Po3JK-0VKN",
        "outputId": "809e36a8-9f80-4061-e480-30e56a5dec2d"
      },
      "execution_count": 98,
      "outputs": [
        {
          "output_type": "execute_result",
          "data": {
            "text/plain": [
              "shape: (10, 6)\n",
              "┌──────────┬──────┬──────────┬───────────┬─────────┬────────────┐\n",
              "│ country  ┆ year ┆ pop      ┆ continent ┆ lifeExp ┆ gdpPercap  │\n",
              "│ ---      ┆ ---  ┆ ---      ┆ ---       ┆ ---     ┆ ---        │\n",
              "│ str      ┆ i64  ┆ i64      ┆ str       ┆ f64     ┆ f64        │\n",
              "╞══════════╪══════╪══════════╪═══════════╪═════════╪════════════╡\n",
              "│ Zimbabwe ┆ 1962 ┆ 4277736  ┆ Africa    ┆ 52.358  ┆ 527.272182 │\n",
              "│ Zimbabwe ┆ 1967 ┆ 4995432  ┆ Africa    ┆ 53.995  ┆ 569.795071 │\n",
              "│ Zimbabwe ┆ 1972 ┆ 5861135  ┆ Africa    ┆ 55.635  ┆ 799.362176 │\n",
              "│ Zimbabwe ┆ 1977 ┆ 6642107  ┆ Africa    ┆ 57.674  ┆ 685.587682 │\n",
              "│ …        ┆ …    ┆ …        ┆ …         ┆ …       ┆ …          │\n",
              "│ Zimbabwe ┆ 1992 ┆ 10704340 ┆ Africa    ┆ 60.377  ┆ 693.420786 │\n",
              "│ Zimbabwe ┆ 1997 ┆ 11404948 ┆ Africa    ┆ 46.809  ┆ 792.44996  │\n",
              "│ Zimbabwe ┆ 2002 ┆ 11926563 ┆ Africa    ┆ 39.989  ┆ 672.038623 │\n",
              "│ Zimbabwe ┆ 2007 ┆ 12311143 ┆ Africa    ┆ 43.487  ┆ 469.709298 │\n",
              "└──────────┴──────┴──────────┴───────────┴─────────┴────────────┘"
            ],
            "text/html": [
              "<div><style>\n",
              ".dataframe > thead > tr,\n",
              ".dataframe > tbody > tr {\n",
              "  text-align: right;\n",
              "  white-space: pre-wrap;\n",
              "}\n",
              "</style>\n",
              "<small>shape: (10, 6)</small><table border=\"1\" class=\"dataframe\"><thead><tr><th>country</th><th>year</th><th>pop</th><th>continent</th><th>lifeExp</th><th>gdpPercap</th></tr><tr><td>str</td><td>i64</td><td>i64</td><td>str</td><td>f64</td><td>f64</td></tr></thead><tbody><tr><td>&quot;Zimbabwe&quot;</td><td>1962</td><td>4277736</td><td>&quot;Africa&quot;</td><td>52.358</td><td>527.272182</td></tr><tr><td>&quot;Zimbabwe&quot;</td><td>1967</td><td>4995432</td><td>&quot;Africa&quot;</td><td>53.995</td><td>569.795071</td></tr><tr><td>&quot;Zimbabwe&quot;</td><td>1972</td><td>5861135</td><td>&quot;Africa&quot;</td><td>55.635</td><td>799.362176</td></tr><tr><td>&quot;Zimbabwe&quot;</td><td>1977</td><td>6642107</td><td>&quot;Africa&quot;</td><td>57.674</td><td>685.587682</td></tr><tr><td>&quot;Zimbabwe&quot;</td><td>1982</td><td>7636524</td><td>&quot;Africa&quot;</td><td>60.363</td><td>788.855041</td></tr><tr><td>&quot;Zimbabwe&quot;</td><td>1987</td><td>9216418</td><td>&quot;Africa&quot;</td><td>62.351</td><td>706.157306</td></tr><tr><td>&quot;Zimbabwe&quot;</td><td>1992</td><td>10704340</td><td>&quot;Africa&quot;</td><td>60.377</td><td>693.420786</td></tr><tr><td>&quot;Zimbabwe&quot;</td><td>1997</td><td>11404948</td><td>&quot;Africa&quot;</td><td>46.809</td><td>792.44996</td></tr><tr><td>&quot;Zimbabwe&quot;</td><td>2002</td><td>11926563</td><td>&quot;Africa&quot;</td><td>39.989</td><td>672.038623</td></tr><tr><td>&quot;Zimbabwe&quot;</td><td>2007</td><td>12311143</td><td>&quot;Africa&quot;</td><td>43.487</td><td>469.709298</td></tr></tbody></table></div>"
            ]
          },
          "metadata": {},
          "execution_count": 98
        }
      ]
    },
    {
      "cell_type": "markdown",
      "source": [
        "\n",
        "## Pobranie danych z DataFrame\n"
      ],
      "metadata": {
        "id": "cCR7QzB70sFh"
      }
    },
    {
      "cell_type": "code",
      "source": [
        "# pojedyczna kolumna\n",
        "df[\"country\"]\n",
        "# df.select(\"country\")\n",
        "# df.get_column(\"country\")"
      ],
      "metadata": {
        "colab": {
          "base_uri": "https://localhost:8080/",
          "height": 882
        },
        "id": "IcWq-rIO0xZG",
        "outputId": "812dec57-8e61-40a9-9a50-f83fed5643ec"
      },
      "execution_count": 99,
      "outputs": [
        {
          "output_type": "execute_result",
          "data": {
            "text/plain": [
              "shape: (1_704,)\n",
              "Series: 'country' [str]\n",
              "[\n",
              "\t\"Afghanistan\"\n",
              "\t\"Afghanistan\"\n",
              "\t\"Afghanistan\"\n",
              "\t\"Afghanistan\"\n",
              "\t\"Afghanistan\"\n",
              "\t\"Afghanistan\"\n",
              "\t\"Afghanistan\"\n",
              "\t\"Afghanistan\"\n",
              "\t\"Afghanistan\"\n",
              "\t\"Afghanistan\"\n",
              "\t\"Afghanistan\"\n",
              "\t\"Afghanistan\"\n",
              "\t…\n",
              "\t\"Zambia\"\n",
              "\t\"Zimbabwe\"\n",
              "\t\"Zimbabwe\"\n",
              "\t\"Zimbabwe\"\n",
              "\t\"Zimbabwe\"\n",
              "\t\"Zimbabwe\"\n",
              "\t\"Zimbabwe\"\n",
              "\t\"Zimbabwe\"\n",
              "\t\"Zimbabwe\"\n",
              "\t\"Zimbabwe\"\n",
              "\t\"Zimbabwe\"\n",
              "\t\"Zimbabwe\"\n",
              "\t\"Zimbabwe\"\n",
              "]"
            ],
            "text/html": [
              "<div><style>\n",
              ".dataframe > thead > tr,\n",
              ".dataframe > tbody > tr {\n",
              "  text-align: right;\n",
              "  white-space: pre-wrap;\n",
              "}\n",
              "</style>\n",
              "<small>shape: (1_704,)</small><table border=\"1\" class=\"dataframe\"><thead><tr><th>country</th></tr><tr><td>str</td></tr></thead><tbody><tr><td>&quot;Afghanistan&quot;</td></tr><tr><td>&quot;Afghanistan&quot;</td></tr><tr><td>&quot;Afghanistan&quot;</td></tr><tr><td>&quot;Afghanistan&quot;</td></tr><tr><td>&quot;Afghanistan&quot;</td></tr><tr><td>&quot;Afghanistan&quot;</td></tr><tr><td>&quot;Afghanistan&quot;</td></tr><tr><td>&quot;Afghanistan&quot;</td></tr><tr><td>&quot;Afghanistan&quot;</td></tr><tr><td>&quot;Afghanistan&quot;</td></tr><tr><td>&quot;Afghanistan&quot;</td></tr><tr><td>&quot;Afghanistan&quot;</td></tr><tr><td>&hellip;</td></tr><tr><td>&quot;Zimbabwe&quot;</td></tr><tr><td>&quot;Zimbabwe&quot;</td></tr><tr><td>&quot;Zimbabwe&quot;</td></tr><tr><td>&quot;Zimbabwe&quot;</td></tr><tr><td>&quot;Zimbabwe&quot;</td></tr><tr><td>&quot;Zimbabwe&quot;</td></tr><tr><td>&quot;Zimbabwe&quot;</td></tr><tr><td>&quot;Zimbabwe&quot;</td></tr><tr><td>&quot;Zimbabwe&quot;</td></tr><tr><td>&quot;Zimbabwe&quot;</td></tr><tr><td>&quot;Zimbabwe&quot;</td></tr><tr><td>&quot;Zimbabwe&quot;</td></tr></tbody></table></div>"
            ]
          },
          "metadata": {},
          "execution_count": 99
        }
      ]
    },
    {
      "cell_type": "code",
      "source": [
        "# wiele kolumn\n",
        "df[ [\"country\",\"continent\",\"gdpPercap\"] ]"
      ],
      "metadata": {
        "colab": {
          "base_uri": "https://localhost:8080/",
          "height": 882
        },
        "id": "KZPONrDO07Cz",
        "outputId": "5261ecae-42f6-4a21-b78c-45d65dd01566"
      },
      "execution_count": 100,
      "outputs": [
        {
          "output_type": "execute_result",
          "data": {
            "text/plain": [
              "shape: (1_704, 3)\n",
              "┌─────────────┬───────────┬────────────┐\n",
              "│ country     ┆ continent ┆ gdpPercap  │\n",
              "│ ---         ┆ ---       ┆ ---        │\n",
              "│ str         ┆ str       ┆ f64        │\n",
              "╞═════════════╪═══════════╪════════════╡\n",
              "│ Afghanistan ┆ Asia      ┆ 779.445314 │\n",
              "│ Afghanistan ┆ Asia      ┆ 820.85303  │\n",
              "│ Afghanistan ┆ Asia      ┆ 853.10071  │\n",
              "│ Afghanistan ┆ Asia      ┆ 836.197138 │\n",
              "│ …           ┆ …         ┆ …          │\n",
              "│ Zimbabwe    ┆ Africa    ┆ 693.420786 │\n",
              "│ Zimbabwe    ┆ Africa    ┆ 792.44996  │\n",
              "│ Zimbabwe    ┆ Africa    ┆ 672.038623 │\n",
              "│ Zimbabwe    ┆ Africa    ┆ 469.709298 │\n",
              "└─────────────┴───────────┴────────────┘"
            ],
            "text/html": [
              "<div><style>\n",
              ".dataframe > thead > tr,\n",
              ".dataframe > tbody > tr {\n",
              "  text-align: right;\n",
              "  white-space: pre-wrap;\n",
              "}\n",
              "</style>\n",
              "<small>shape: (1_704, 3)</small><table border=\"1\" class=\"dataframe\"><thead><tr><th>country</th><th>continent</th><th>gdpPercap</th></tr><tr><td>str</td><td>str</td><td>f64</td></tr></thead><tbody><tr><td>&quot;Afghanistan&quot;</td><td>&quot;Asia&quot;</td><td>779.445314</td></tr><tr><td>&quot;Afghanistan&quot;</td><td>&quot;Asia&quot;</td><td>820.85303</td></tr><tr><td>&quot;Afghanistan&quot;</td><td>&quot;Asia&quot;</td><td>853.10071</td></tr><tr><td>&quot;Afghanistan&quot;</td><td>&quot;Asia&quot;</td><td>836.197138</td></tr><tr><td>&quot;Afghanistan&quot;</td><td>&quot;Asia&quot;</td><td>739.981106</td></tr><tr><td>&quot;Afghanistan&quot;</td><td>&quot;Asia&quot;</td><td>786.11336</td></tr><tr><td>&quot;Afghanistan&quot;</td><td>&quot;Asia&quot;</td><td>978.011439</td></tr><tr><td>&quot;Afghanistan&quot;</td><td>&quot;Asia&quot;</td><td>852.395945</td></tr><tr><td>&quot;Afghanistan&quot;</td><td>&quot;Asia&quot;</td><td>649.341395</td></tr><tr><td>&quot;Afghanistan&quot;</td><td>&quot;Asia&quot;</td><td>635.341351</td></tr><tr><td>&quot;Afghanistan&quot;</td><td>&quot;Asia&quot;</td><td>726.734055</td></tr><tr><td>&quot;Afghanistan&quot;</td><td>&quot;Asia&quot;</td><td>974.580338</td></tr><tr><td>&hellip;</td><td>&hellip;</td><td>&hellip;</td></tr><tr><td>&quot;Zimbabwe&quot;</td><td>&quot;Africa&quot;</td><td>406.884115</td></tr><tr><td>&quot;Zimbabwe&quot;</td><td>&quot;Africa&quot;</td><td>518.764268</td></tr><tr><td>&quot;Zimbabwe&quot;</td><td>&quot;Africa&quot;</td><td>527.272182</td></tr><tr><td>&quot;Zimbabwe&quot;</td><td>&quot;Africa&quot;</td><td>569.795071</td></tr><tr><td>&quot;Zimbabwe&quot;</td><td>&quot;Africa&quot;</td><td>799.362176</td></tr><tr><td>&quot;Zimbabwe&quot;</td><td>&quot;Africa&quot;</td><td>685.587682</td></tr><tr><td>&quot;Zimbabwe&quot;</td><td>&quot;Africa&quot;</td><td>788.855041</td></tr><tr><td>&quot;Zimbabwe&quot;</td><td>&quot;Africa&quot;</td><td>706.157306</td></tr><tr><td>&quot;Zimbabwe&quot;</td><td>&quot;Africa&quot;</td><td>693.420786</td></tr><tr><td>&quot;Zimbabwe&quot;</td><td>&quot;Africa&quot;</td><td>792.44996</td></tr><tr><td>&quot;Zimbabwe&quot;</td><td>&quot;Africa&quot;</td><td>672.038623</td></tr><tr><td>&quot;Zimbabwe&quot;</td><td>&quot;Africa&quot;</td><td>469.709298</td></tr></tbody></table></div>"
            ]
          },
          "metadata": {},
          "execution_count": 100
        }
      ]
    },
    {
      "cell_type": "code",
      "source": [
        "# określenie pobieranych wierszy i kolumn\n",
        "# pobranie wierszy od  1 do 10 włącznie i kolumn \"country\",\"continent\",\"gdpPercap\"\n",
        "df.slice(0, 10).select([\"country\",\"continent\",\"gdpPercap\"] )"
      ],
      "metadata": {
        "colab": {
          "base_uri": "https://localhost:8080/",
          "height": 412
        },
        "id": "L33Z2n2C1Jiy",
        "outputId": "1b8fc1f9-f700-4c98-ce80-973f11288797"
      },
      "execution_count": 101,
      "outputs": [
        {
          "output_type": "execute_result",
          "data": {
            "text/plain": [
              "shape: (10, 3)\n",
              "┌─────────────┬───────────┬────────────┐\n",
              "│ country     ┆ continent ┆ gdpPercap  │\n",
              "│ ---         ┆ ---       ┆ ---        │\n",
              "│ str         ┆ str       ┆ f64        │\n",
              "╞═════════════╪═══════════╪════════════╡\n",
              "│ Afghanistan ┆ Asia      ┆ 779.445314 │\n",
              "│ Afghanistan ┆ Asia      ┆ 820.85303  │\n",
              "│ Afghanistan ┆ Asia      ┆ 853.10071  │\n",
              "│ Afghanistan ┆ Asia      ┆ 836.197138 │\n",
              "│ …           ┆ …         ┆ …          │\n",
              "│ Afghanistan ┆ Asia      ┆ 978.011439 │\n",
              "│ Afghanistan ┆ Asia      ┆ 852.395945 │\n",
              "│ Afghanistan ┆ Asia      ┆ 649.341395 │\n",
              "│ Afghanistan ┆ Asia      ┆ 635.341351 │\n",
              "└─────────────┴───────────┴────────────┘"
            ],
            "text/html": [
              "<div><style>\n",
              ".dataframe > thead > tr,\n",
              ".dataframe > tbody > tr {\n",
              "  text-align: right;\n",
              "  white-space: pre-wrap;\n",
              "}\n",
              "</style>\n",
              "<small>shape: (10, 3)</small><table border=\"1\" class=\"dataframe\"><thead><tr><th>country</th><th>continent</th><th>gdpPercap</th></tr><tr><td>str</td><td>str</td><td>f64</td></tr></thead><tbody><tr><td>&quot;Afghanistan&quot;</td><td>&quot;Asia&quot;</td><td>779.445314</td></tr><tr><td>&quot;Afghanistan&quot;</td><td>&quot;Asia&quot;</td><td>820.85303</td></tr><tr><td>&quot;Afghanistan&quot;</td><td>&quot;Asia&quot;</td><td>853.10071</td></tr><tr><td>&quot;Afghanistan&quot;</td><td>&quot;Asia&quot;</td><td>836.197138</td></tr><tr><td>&quot;Afghanistan&quot;</td><td>&quot;Asia&quot;</td><td>739.981106</td></tr><tr><td>&quot;Afghanistan&quot;</td><td>&quot;Asia&quot;</td><td>786.11336</td></tr><tr><td>&quot;Afghanistan&quot;</td><td>&quot;Asia&quot;</td><td>978.011439</td></tr><tr><td>&quot;Afghanistan&quot;</td><td>&quot;Asia&quot;</td><td>852.395945</td></tr><tr><td>&quot;Afghanistan&quot;</td><td>&quot;Asia&quot;</td><td>649.341395</td></tr><tr><td>&quot;Afghanistan&quot;</td><td>&quot;Asia&quot;</td><td>635.341351</td></tr></tbody></table></div>"
            ]
          },
          "metadata": {},
          "execution_count": 101
        }
      ]
    },
    {
      "cell_type": "code",
      "source": [
        "# Przykładowe indeksy kolumn, które chcesz wybrać\n",
        "columns_ix = [0, 2, 4]  # na przykład pierwsza i trzecia kolumna\n",
        "\n",
        "# Pobranie nazw kolumn na podstawie ich indeksów\n",
        "cols = [df.columns[i] for i in columns_ix]\n",
        "df.slice(len(df)-10, None).select(cols)"
      ],
      "metadata": {
        "colab": {
          "base_uri": "https://localhost:8080/",
          "height": 412
        },
        "id": "7pmRxx-m1qP6",
        "outputId": "94d458dc-9fd8-47d5-bff1-8dd977136f9a"
      },
      "execution_count": 102,
      "outputs": [
        {
          "output_type": "execute_result",
          "data": {
            "text/plain": [
              "shape: (10, 3)\n",
              "┌──────────┬──────────┬─────────┐\n",
              "│ country  ┆ pop      ┆ lifeExp │\n",
              "│ ---      ┆ ---      ┆ ---     │\n",
              "│ str      ┆ i64      ┆ f64     │\n",
              "╞══════════╪══════════╪═════════╡\n",
              "│ Zimbabwe ┆ 4277736  ┆ 52.358  │\n",
              "│ Zimbabwe ┆ 4995432  ┆ 53.995  │\n",
              "│ Zimbabwe ┆ 5861135  ┆ 55.635  │\n",
              "│ Zimbabwe ┆ 6642107  ┆ 57.674  │\n",
              "│ …        ┆ …        ┆ …       │\n",
              "│ Zimbabwe ┆ 10704340 ┆ 60.377  │\n",
              "│ Zimbabwe ┆ 11404948 ┆ 46.809  │\n",
              "│ Zimbabwe ┆ 11926563 ┆ 39.989  │\n",
              "│ Zimbabwe ┆ 12311143 ┆ 43.487  │\n",
              "└──────────┴──────────┴─────────┘"
            ],
            "text/html": [
              "<div><style>\n",
              ".dataframe > thead > tr,\n",
              ".dataframe > tbody > tr {\n",
              "  text-align: right;\n",
              "  white-space: pre-wrap;\n",
              "}\n",
              "</style>\n",
              "<small>shape: (10, 3)</small><table border=\"1\" class=\"dataframe\"><thead><tr><th>country</th><th>pop</th><th>lifeExp</th></tr><tr><td>str</td><td>i64</td><td>f64</td></tr></thead><tbody><tr><td>&quot;Zimbabwe&quot;</td><td>4277736</td><td>52.358</td></tr><tr><td>&quot;Zimbabwe&quot;</td><td>4995432</td><td>53.995</td></tr><tr><td>&quot;Zimbabwe&quot;</td><td>5861135</td><td>55.635</td></tr><tr><td>&quot;Zimbabwe&quot;</td><td>6642107</td><td>57.674</td></tr><tr><td>&quot;Zimbabwe&quot;</td><td>7636524</td><td>60.363</td></tr><tr><td>&quot;Zimbabwe&quot;</td><td>9216418</td><td>62.351</td></tr><tr><td>&quot;Zimbabwe&quot;</td><td>10704340</td><td>60.377</td></tr><tr><td>&quot;Zimbabwe&quot;</td><td>11404948</td><td>46.809</td></tr><tr><td>&quot;Zimbabwe&quot;</td><td>11926563</td><td>39.989</td></tr><tr><td>&quot;Zimbabwe&quot;</td><td>12311143</td><td>43.487</td></tr></tbody></table></div>"
            ]
          },
          "metadata": {},
          "execution_count": 102
        }
      ]
    },
    {
      "cell_type": "code",
      "source": [
        "# pobierz co 3-ci wiersz i co 2-gą kolumną\n",
        "df_every_third_row = df[::3]\n",
        "column_indices = range(0, len(df.columns), 2)\n",
        "column_names = [df.columns[i] for i in column_indices]\n",
        "df_every_third_row.select(column_names)"
      ],
      "metadata": {
        "colab": {
          "base_uri": "https://localhost:8080/",
          "height": 882
        },
        "id": "lsWNW7Lq2KNe",
        "outputId": "4d44e01d-e261-47b2-aedc-3c20645eff72"
      },
      "execution_count": 103,
      "outputs": [
        {
          "output_type": "execute_result",
          "data": {
            "text/plain": [
              "shape: (568, 3)\n",
              "┌─────────────┬──────────┬─────────┐\n",
              "│ country     ┆ pop      ┆ lifeExp │\n",
              "│ ---         ┆ ---      ┆ ---     │\n",
              "│ str         ┆ i64      ┆ f64     │\n",
              "╞═════════════╪══════════╪═════════╡\n",
              "│ Afghanistan ┆ 8425333  ┆ 28.801  │\n",
              "│ Afghanistan ┆ 11537966 ┆ 34.02   │\n",
              "│ Afghanistan ┆ 12881816 ┆ 39.854  │\n",
              "│ Afghanistan ┆ 22227415 ┆ 41.763  │\n",
              "│ …           ┆ …        ┆ …       │\n",
              "│ Zimbabwe    ┆ 3080907  ┆ 48.451  │\n",
              "│ Zimbabwe    ┆ 4995432  ┆ 53.995  │\n",
              "│ Zimbabwe    ┆ 7636524  ┆ 60.363  │\n",
              "│ Zimbabwe    ┆ 11404948 ┆ 46.809  │\n",
              "└─────────────┴──────────┴─────────┘"
            ],
            "text/html": [
              "<div><style>\n",
              ".dataframe > thead > tr,\n",
              ".dataframe > tbody > tr {\n",
              "  text-align: right;\n",
              "  white-space: pre-wrap;\n",
              "}\n",
              "</style>\n",
              "<small>shape: (568, 3)</small><table border=\"1\" class=\"dataframe\"><thead><tr><th>country</th><th>pop</th><th>lifeExp</th></tr><tr><td>str</td><td>i64</td><td>f64</td></tr></thead><tbody><tr><td>&quot;Afghanistan&quot;</td><td>8425333</td><td>28.801</td></tr><tr><td>&quot;Afghanistan&quot;</td><td>11537966</td><td>34.02</td></tr><tr><td>&quot;Afghanistan&quot;</td><td>12881816</td><td>39.854</td></tr><tr><td>&quot;Afghanistan&quot;</td><td>22227415</td><td>41.763</td></tr><tr><td>&quot;Albania&quot;</td><td>1282697</td><td>55.23</td></tr><tr><td>&quot;Albania&quot;</td><td>1984060</td><td>66.22</td></tr><tr><td>&quot;Albania&quot;</td><td>2780097</td><td>70.42</td></tr><tr><td>&quot;Albania&quot;</td><td>3428038</td><td>72.95</td></tr><tr><td>&quot;Algeria&quot;</td><td>9279525</td><td>43.077</td></tr><tr><td>&quot;Algeria&quot;</td><td>12760499</td><td>51.407</td></tr><tr><td>&quot;Algeria&quot;</td><td>20033753</td><td>61.368</td></tr><tr><td>&quot;Algeria&quot;</td><td>29072015</td><td>69.152</td></tr><tr><td>&hellip;</td><td>&hellip;</td><td>&hellip;</td></tr><tr><td>&quot;Yemen Rep.&quot;</td><td>4963829</td><td>32.548</td></tr><tr><td>&quot;Yemen Rep.&quot;</td><td>6740785</td><td>36.984</td></tr><tr><td>&quot;Yemen Rep.&quot;</td><td>9657618</td><td>49.113</td></tr><tr><td>&quot;Yemen Rep.&quot;</td><td>15826497</td><td>58.02</td></tr><tr><td>&quot;Zambia&quot;</td><td>2672000</td><td>42.038</td></tr><tr><td>&quot;Zambia&quot;</td><td>3900000</td><td>47.768</td></tr><tr><td>&quot;Zambia&quot;</td><td>6100407</td><td>51.821</td></tr><tr><td>&quot;Zambia&quot;</td><td>9417789</td><td>40.238</td></tr><tr><td>&quot;Zimbabwe&quot;</td><td>3080907</td><td>48.451</td></tr><tr><td>&quot;Zimbabwe&quot;</td><td>4995432</td><td>53.995</td></tr><tr><td>&quot;Zimbabwe&quot;</td><td>7636524</td><td>60.363</td></tr><tr><td>&quot;Zimbabwe&quot;</td><td>11404948</td><td>46.809</td></tr></tbody></table></div>"
            ]
          },
          "metadata": {},
          "execution_count": 103
        }
      ]
    },
    {
      "cell_type": "markdown",
      "source": [
        "## Pobranie informacji o kolumnach\n"
      ],
      "metadata": {
        "id": "KyqOrCq95EnG"
      }
    },
    {
      "cell_type": "code",
      "source": [
        "df.columns"
      ],
      "metadata": {
        "colab": {
          "base_uri": "https://localhost:8080/"
        },
        "id": "eCyIH4tY4Y5E",
        "outputId": "a9cba180-2592-4c90-a318-40c414720dea"
      },
      "execution_count": 104,
      "outputs": [
        {
          "output_type": "execute_result",
          "data": {
            "text/plain": [
              "['country', 'year', 'pop', 'continent', 'lifeExp', 'gdpPercap']"
            ]
          },
          "metadata": {},
          "execution_count": 104
        }
      ]
    },
    {
      "cell_type": "markdown",
      "source": [
        "## Pobranie informacji o typach danych kolumn\n"
      ],
      "metadata": {
        "id": "rSJtr1nR5LCj"
      }
    },
    {
      "cell_type": "code",
      "source": [
        "df.dtypes"
      ],
      "metadata": {
        "colab": {
          "base_uri": "https://localhost:8080/"
        },
        "id": "Co7uqiUX5Otd",
        "outputId": "73827f2b-bd36-4e14-be1e-c9a98a9f2384"
      },
      "execution_count": 105,
      "outputs": [
        {
          "output_type": "execute_result",
          "data": {
            "text/plain": [
              "[String, Int64, Int64, String, Float64, Float64]"
            ]
          },
          "metadata": {},
          "execution_count": 105
        }
      ]
    },
    {
      "cell_type": "markdown",
      "source": [
        "## Zmiana typu kolumny w DataFrame\n"
      ],
      "metadata": {
        "id": "QLlq4MgT5lQa"
      }
    },
    {
      "cell_type": "code",
      "source": [
        "df = df.with_columns([df['year'].cast(pl.Int16)])\n",
        "df = df.with_columns([df['lifeExp'].cast(pl.Float32)])\n",
        "df.head()"
      ],
      "metadata": {
        "colab": {
          "base_uri": "https://localhost:8080/",
          "height": 255
        },
        "id": "GESw3yq75QmM",
        "outputId": "eb9ea09d-0ca8-4dbb-f234-575a77d5f689"
      },
      "execution_count": 106,
      "outputs": [
        {
          "output_type": "execute_result",
          "data": {
            "text/plain": [
              "shape: (5, 6)\n",
              "┌─────────────┬──────┬──────────┬───────────┬───────────┬────────────┐\n",
              "│ country     ┆ year ┆ pop      ┆ continent ┆ lifeExp   ┆ gdpPercap  │\n",
              "│ ---         ┆ ---  ┆ ---      ┆ ---       ┆ ---       ┆ ---        │\n",
              "│ str         ┆ i16  ┆ i64      ┆ str       ┆ f32       ┆ f64        │\n",
              "╞═════════════╪══════╪══════════╪═══════════╪═══════════╪════════════╡\n",
              "│ Afghanistan ┆ 1952 ┆ 8425333  ┆ Asia      ┆ 28.801001 ┆ 779.445314 │\n",
              "│ Afghanistan ┆ 1957 ┆ 9240934  ┆ Asia      ┆ 30.332001 ┆ 820.85303  │\n",
              "│ Afghanistan ┆ 1962 ┆ 10267083 ┆ Asia      ┆ 31.997    ┆ 853.10071  │\n",
              "│ Afghanistan ┆ 1967 ┆ 11537966 ┆ Asia      ┆ 34.02     ┆ 836.197138 │\n",
              "│ Afghanistan ┆ 1972 ┆ 13079460 ┆ Asia      ┆ 36.088001 ┆ 739.981106 │\n",
              "└─────────────┴──────┴──────────┴───────────┴───────────┴────────────┘"
            ],
            "text/html": [
              "<div><style>\n",
              ".dataframe > thead > tr,\n",
              ".dataframe > tbody > tr {\n",
              "  text-align: right;\n",
              "  white-space: pre-wrap;\n",
              "}\n",
              "</style>\n",
              "<small>shape: (5, 6)</small><table border=\"1\" class=\"dataframe\"><thead><tr><th>country</th><th>year</th><th>pop</th><th>continent</th><th>lifeExp</th><th>gdpPercap</th></tr><tr><td>str</td><td>i16</td><td>i64</td><td>str</td><td>f32</td><td>f64</td></tr></thead><tbody><tr><td>&quot;Afghanistan&quot;</td><td>1952</td><td>8425333</td><td>&quot;Asia&quot;</td><td>28.801001</td><td>779.445314</td></tr><tr><td>&quot;Afghanistan&quot;</td><td>1957</td><td>9240934</td><td>&quot;Asia&quot;</td><td>30.332001</td><td>820.85303</td></tr><tr><td>&quot;Afghanistan&quot;</td><td>1962</td><td>10267083</td><td>&quot;Asia&quot;</td><td>31.997</td><td>853.10071</td></tr><tr><td>&quot;Afghanistan&quot;</td><td>1967</td><td>11537966</td><td>&quot;Asia&quot;</td><td>34.02</td><td>836.197138</td></tr><tr><td>&quot;Afghanistan&quot;</td><td>1972</td><td>13079460</td><td>&quot;Asia&quot;</td><td>36.088001</td><td>739.981106</td></tr></tbody></table></div>"
            ]
          },
          "metadata": {},
          "execution_count": 106
        }
      ]
    },
    {
      "cell_type": "markdown",
      "source": [
        "##  Metryki statystyczne danych w DataFrame\n"
      ],
      "metadata": {
        "id": "tJygVY1C6gaE"
      }
    },
    {
      "cell_type": "code",
      "source": [
        "df.describe()"
      ],
      "metadata": {
        "colab": {
          "base_uri": "https://localhost:8080/",
          "height": 380
        },
        "id": "-sUvt44y6FQz",
        "outputId": "5c2864fd-4978-4ee0-f1c3-5fec573ef55c"
      },
      "execution_count": 107,
      "outputs": [
        {
          "output_type": "execute_result",
          "data": {
            "text/plain": [
              "shape: (9, 7)\n",
              "┌────────────┬─────────────┬──────────┬─────────────┬───────────┬───────────┬─────────────┐\n",
              "│ describe   ┆ country     ┆ year     ┆ pop         ┆ continent ┆ lifeExp   ┆ gdpPercap   │\n",
              "│ ---        ┆ ---         ┆ ---      ┆ ---         ┆ ---       ┆ ---       ┆ ---         │\n",
              "│ str        ┆ str         ┆ f64      ┆ f64         ┆ str       ┆ f64       ┆ f64         │\n",
              "╞════════════╪═════════════╪══════════╪═════════════╪═══════════╪═══════════╪═════════════╡\n",
              "│ count      ┆ 1704        ┆ 1704.0   ┆ 1693.0      ┆ 1704      ┆ 1704.0    ┆ 1704.0      │\n",
              "│ null_count ┆ 0           ┆ 0.0      ┆ 11.0        ┆ 0         ┆ 0.0       ┆ 0.0         │\n",
              "│ mean       ┆ null        ┆ 1979.5   ┆ 2.5762e7    ┆ null      ┆ 59.474438 ┆ 7215.327081 │\n",
              "│ std        ┆ null        ┆ 17.26533 ┆ 9.4025e7    ┆ null      ┆ 12.917108 ┆ 9857.454543 │\n",
              "│ min        ┆ Afghanistan ┆ 1952.0   ┆ 60011.0     ┆ Africa    ┆ 23.599001 ┆ 241.165876  │\n",
              "│ 25%        ┆ null        ┆ 1967.0   ┆ 2.780132e6  ┆ null      ┆ 48.210999 ┆ 1202.201361 │\n",
              "│ 50%        ┆ null        ┆ 1982.0   ┆ 6.990574e6  ┆ null      ┆ 60.764999 ┆ 3533.00391  │\n",
              "│ 75%        ┆ null        ┆ 1992.0   ┆ 1.8698655e7 ┆ null      ┆ 70.845001 ┆ 9325.068238 │\n",
              "│ max        ┆ Zimbabwe    ┆ 2007.0   ┆ 1.3187e9    ┆ Oceania   ┆ 82.602997 ┆ 113523.1329 │\n",
              "└────────────┴─────────────┴──────────┴─────────────┴───────────┴───────────┴─────────────┘"
            ],
            "text/html": [
              "<div><style>\n",
              ".dataframe > thead > tr,\n",
              ".dataframe > tbody > tr {\n",
              "  text-align: right;\n",
              "  white-space: pre-wrap;\n",
              "}\n",
              "</style>\n",
              "<small>shape: (9, 7)</small><table border=\"1\" class=\"dataframe\"><thead><tr><th>describe</th><th>country</th><th>year</th><th>pop</th><th>continent</th><th>lifeExp</th><th>gdpPercap</th></tr><tr><td>str</td><td>str</td><td>f64</td><td>f64</td><td>str</td><td>f64</td><td>f64</td></tr></thead><tbody><tr><td>&quot;count&quot;</td><td>&quot;1704&quot;</td><td>1704.0</td><td>1693.0</td><td>&quot;1704&quot;</td><td>1704.0</td><td>1704.0</td></tr><tr><td>&quot;null_count&quot;</td><td>&quot;0&quot;</td><td>0.0</td><td>11.0</td><td>&quot;0&quot;</td><td>0.0</td><td>0.0</td></tr><tr><td>&quot;mean&quot;</td><td>null</td><td>1979.5</td><td>2.5762e7</td><td>null</td><td>59.474438</td><td>7215.327081</td></tr><tr><td>&quot;std&quot;</td><td>null</td><td>17.26533</td><td>9.4025e7</td><td>null</td><td>12.917108</td><td>9857.454543</td></tr><tr><td>&quot;min&quot;</td><td>&quot;Afghanistan&quot;</td><td>1952.0</td><td>60011.0</td><td>&quot;Africa&quot;</td><td>23.599001</td><td>241.165876</td></tr><tr><td>&quot;25%&quot;</td><td>null</td><td>1967.0</td><td>2.780132e6</td><td>null</td><td>48.210999</td><td>1202.201361</td></tr><tr><td>&quot;50%&quot;</td><td>null</td><td>1982.0</td><td>6.990574e6</td><td>null</td><td>60.764999</td><td>3533.00391</td></tr><tr><td>&quot;75%&quot;</td><td>null</td><td>1992.0</td><td>1.8698655e7</td><td>null</td><td>70.845001</td><td>9325.068238</td></tr><tr><td>&quot;max&quot;</td><td>&quot;Zimbabwe&quot;</td><td>2007.0</td><td>1.3187e9</td><td>&quot;Oceania&quot;</td><td>82.602997</td><td>113523.1329</td></tr></tbody></table></div>"
            ]
          },
          "metadata": {},
          "execution_count": 107
        }
      ]
    },
    {
      "cell_type": "markdown",
      "source": [
        "## Ilość miejsca zajmowanego w RAM przez DataFrame\n"
      ],
      "metadata": {
        "id": "_lKugumZ6vWl"
      }
    },
    {
      "cell_type": "code",
      "source": [
        "import io\n",
        "# Zapisz DataFrame do bufora w formacie binarnym\n",
        "buffer = io.BytesIO()\n",
        "df.write_ipc(buffer)\n",
        "\n",
        "# Oblicz rozmiar bufora (w bajtach)\n",
        "buffer.getbuffer().nbytes"
      ],
      "metadata": {
        "colab": {
          "base_uri": "https://localhost:8080/"
        },
        "id": "7W26NfaW6j7j",
        "outputId": "70ce8481-7ce9-4f4f-b503-7edc10ac70b6"
      },
      "execution_count": 108,
      "outputs": [
        {
          "output_type": "execute_result",
          "data": {
            "text/plain": [
              "91486"
            ]
          },
          "metadata": {},
          "execution_count": 108
        }
      ]
    },
    {
      "cell_type": "markdown",
      "source": [
        "## Sortowanie danych wg kolumn(y)\n"
      ],
      "metadata": {
        "id": "Def1Dvpc7j64"
      }
    },
    {
      "cell_type": "code",
      "source": [
        "# Sortowanie DataFrame wg kolumny 'nazwa_kolumny' w porządku rosnącym\n",
        "# Jeśli chcesz sortowanie malejące, użyj argumentu descending\n",
        "df.sort(\"year\", descending=True)"
      ],
      "metadata": {
        "colab": {
          "base_uri": "https://localhost:8080/",
          "height": 882
        },
        "id": "-oKAcBM064YV",
        "outputId": "77b28d51-8ac8-4eb7-d198-7379e19120d3"
      },
      "execution_count": 109,
      "outputs": [
        {
          "output_type": "execute_result",
          "data": {
            "text/plain": [
              "shape: (1_704, 6)\n",
              "┌────────────────────┬──────┬──────────┬───────────┬───────────┬─────────────┐\n",
              "│ country            ┆ year ┆ pop      ┆ continent ┆ lifeExp   ┆ gdpPercap   │\n",
              "│ ---                ┆ ---  ┆ ---      ┆ ---       ┆ ---       ┆ ---         │\n",
              "│ str                ┆ i16  ┆ i64      ┆ str       ┆ f32       ┆ f64         │\n",
              "╞════════════════════╪══════╪══════════╪═══════════╪═══════════╪═════════════╡\n",
              "│ Afghanistan        ┆ 2007 ┆ 31889923 ┆ Asia      ┆ 43.827999 ┆ 974.580338  │\n",
              "│ Albania            ┆ 2007 ┆ 3600523  ┆ Europe    ┆ 76.422997 ┆ 5937.029526 │\n",
              "│ Algeria            ┆ 2007 ┆ 33333216 ┆ Africa    ┆ 72.301003 ┆ 6223.367465 │\n",
              "│ Angola             ┆ 2007 ┆ 12420476 ┆ Africa    ┆ 42.730999 ┆ 4797.231267 │\n",
              "│ …                  ┆ …    ┆ …        ┆ …         ┆ …         ┆ …           │\n",
              "│ West Bank and Gaza ┆ 1952 ┆ 1030585  ┆ Asia      ┆ 43.16     ┆ 1515.592329 │\n",
              "│ Yemen Rep.         ┆ 1952 ┆ 4963829  ┆ Asia      ┆ 32.548    ┆ 781.717576  │\n",
              "│ Zambia             ┆ 1952 ┆ 2672000  ┆ Africa    ┆ 42.037998 ┆ 1147.388831 │\n",
              "│ Zimbabwe           ┆ 1952 ┆ 3080907  ┆ Africa    ┆ 48.451    ┆ 406.884115  │\n",
              "└────────────────────┴──────┴──────────┴───────────┴───────────┴─────────────┘"
            ],
            "text/html": [
              "<div><style>\n",
              ".dataframe > thead > tr,\n",
              ".dataframe > tbody > tr {\n",
              "  text-align: right;\n",
              "  white-space: pre-wrap;\n",
              "}\n",
              "</style>\n",
              "<small>shape: (1_704, 6)</small><table border=\"1\" class=\"dataframe\"><thead><tr><th>country</th><th>year</th><th>pop</th><th>continent</th><th>lifeExp</th><th>gdpPercap</th></tr><tr><td>str</td><td>i16</td><td>i64</td><td>str</td><td>f32</td><td>f64</td></tr></thead><tbody><tr><td>&quot;Afghanistan&quot;</td><td>2007</td><td>31889923</td><td>&quot;Asia&quot;</td><td>43.827999</td><td>974.580338</td></tr><tr><td>&quot;Albania&quot;</td><td>2007</td><td>3600523</td><td>&quot;Europe&quot;</td><td>76.422997</td><td>5937.029526</td></tr><tr><td>&quot;Algeria&quot;</td><td>2007</td><td>33333216</td><td>&quot;Africa&quot;</td><td>72.301003</td><td>6223.367465</td></tr><tr><td>&quot;Angola&quot;</td><td>2007</td><td>12420476</td><td>&quot;Africa&quot;</td><td>42.730999</td><td>4797.231267</td></tr><tr><td>&quot;Argentina&quot;</td><td>2007</td><td>40301927</td><td>&quot;Americas&quot;</td><td>75.32</td><td>12779.37964</td></tr><tr><td>&quot;Australia&quot;</td><td>2007</td><td>20434176</td><td>&quot;Oceania&quot;</td><td>81.235001</td><td>34435.36744</td></tr><tr><td>&quot;Austria&quot;</td><td>2007</td><td>8199783</td><td>&quot;Europe&quot;</td><td>79.829002</td><td>36126.4927</td></tr><tr><td>&quot;Bahrain&quot;</td><td>2007</td><td>708573</td><td>&quot;Asia&quot;</td><td>75.635002</td><td>29796.04834</td></tr><tr><td>&quot;Bangladesh&quot;</td><td>2007</td><td>150448339</td><td>&quot;Asia&quot;</td><td>64.061996</td><td>1391.253792</td></tr><tr><td>&quot;Belgium&quot;</td><td>2007</td><td>10392226</td><td>&quot;Europe&quot;</td><td>79.441002</td><td>33692.60508</td></tr><tr><td>&quot;Benin&quot;</td><td>2007</td><td>8078314</td><td>&quot;Africa&quot;</td><td>56.728001</td><td>1441.284873</td></tr><tr><td>&quot;Bolivia&quot;</td><td>2007</td><td>9119152</td><td>&quot;Americas&quot;</td><td>65.554001</td><td>3822.137084</td></tr><tr><td>&hellip;</td><td>&hellip;</td><td>&hellip;</td><td>&hellip;</td><td>&hellip;</td><td>&hellip;</td></tr><tr><td>&quot;Tunisia&quot;</td><td>1952</td><td>3647735</td><td>&quot;Africa&quot;</td><td>44.599998</td><td>1468.475631</td></tr><tr><td>&quot;Turkey&quot;</td><td>1952</td><td>22235677</td><td>&quot;Europe&quot;</td><td>43.584999</td><td>1969.10098</td></tr><tr><td>&quot;Uganda&quot;</td><td>1952</td><td>5824797</td><td>&quot;Africa&quot;</td><td>39.978001</td><td>734.753484</td></tr><tr><td>&quot;United Kingdom…</td><td>1952</td><td>50430000</td><td>&quot;Europe&quot;</td><td>69.18</td><td>9979.508487</td></tr><tr><td>&quot;United States&quot;</td><td>1952</td><td>157553000</td><td>&quot;Americas&quot;</td><td>68.440002</td><td>13990.48208</td></tr><tr><td>&quot;Uruguay&quot;</td><td>1952</td><td>2252965</td><td>&quot;Americas&quot;</td><td>66.070999</td><td>5716.766744</td></tr><tr><td>&quot;Venezuela&quot;</td><td>1952</td><td>5439568</td><td>&quot;Americas&quot;</td><td>55.088001</td><td>7689.799761</td></tr><tr><td>&quot;Vietnam&quot;</td><td>1952</td><td>26246839</td><td>&quot;Asia&quot;</td><td>40.411999</td><td>605.066492</td></tr><tr><td>&quot;West Bank and …</td><td>1952</td><td>1030585</td><td>&quot;Asia&quot;</td><td>43.16</td><td>1515.592329</td></tr><tr><td>&quot;Yemen Rep.&quot;</td><td>1952</td><td>4963829</td><td>&quot;Asia&quot;</td><td>32.548</td><td>781.717576</td></tr><tr><td>&quot;Zambia&quot;</td><td>1952</td><td>2672000</td><td>&quot;Africa&quot;</td><td>42.037998</td><td>1147.388831</td></tr><tr><td>&quot;Zimbabwe&quot;</td><td>1952</td><td>3080907</td><td>&quot;Africa&quot;</td><td>48.451</td><td>406.884115</td></tr></tbody></table></div>"
            ]
          },
          "metadata": {},
          "execution_count": 109
        }
      ]
    },
    {
      "cell_type": "code",
      "source": [
        "df.sort(['country','pop'], descending=[True,False])"
      ],
      "metadata": {
        "colab": {
          "base_uri": "https://localhost:8080/",
          "height": 882
        },
        "id": "kx8GlhpB7rZG",
        "outputId": "9b7999c3-e091-4eb8-91a1-01c397a805b2"
      },
      "execution_count": 110,
      "outputs": [
        {
          "output_type": "execute_result",
          "data": {
            "text/plain": [
              "shape: (1_704, 6)\n",
              "┌─────────────┬──────┬──────────┬───────────┬───────────┬────────────┐\n",
              "│ country     ┆ year ┆ pop      ┆ continent ┆ lifeExp   ┆ gdpPercap  │\n",
              "│ ---         ┆ ---  ┆ ---      ┆ ---       ┆ ---       ┆ ---        │\n",
              "│ str         ┆ i16  ┆ i64      ┆ str       ┆ f32       ┆ f64        │\n",
              "╞═════════════╪══════╪══════════╪═══════════╪═══════════╪════════════╡\n",
              "│ Zimbabwe    ┆ 1952 ┆ 3080907  ┆ Africa    ┆ 48.451    ┆ 406.884115 │\n",
              "│ Zimbabwe    ┆ 1957 ┆ 3646340  ┆ Africa    ┆ 50.469002 ┆ 518.764268 │\n",
              "│ Zimbabwe    ┆ 1962 ┆ 4277736  ┆ Africa    ┆ 52.358002 ┆ 527.272182 │\n",
              "│ Zimbabwe    ┆ 1967 ┆ 4995432  ┆ Africa    ┆ 53.994999 ┆ 569.795071 │\n",
              "│ …           ┆ …    ┆ …        ┆ …         ┆ …         ┆ …          │\n",
              "│ Afghanistan ┆ 1992 ┆ 16317921 ┆ Asia      ┆ 41.674    ┆ 649.341395 │\n",
              "│ Afghanistan ┆ 1997 ┆ 22227415 ┆ Asia      ┆ 41.763    ┆ 635.341351 │\n",
              "│ Afghanistan ┆ 2002 ┆ 25268405 ┆ Asia      ┆ 42.129002 ┆ 726.734055 │\n",
              "│ Afghanistan ┆ 2007 ┆ 31889923 ┆ Asia      ┆ 43.827999 ┆ 974.580338 │\n",
              "└─────────────┴──────┴──────────┴───────────┴───────────┴────────────┘"
            ],
            "text/html": [
              "<div><style>\n",
              ".dataframe > thead > tr,\n",
              ".dataframe > tbody > tr {\n",
              "  text-align: right;\n",
              "  white-space: pre-wrap;\n",
              "}\n",
              "</style>\n",
              "<small>shape: (1_704, 6)</small><table border=\"1\" class=\"dataframe\"><thead><tr><th>country</th><th>year</th><th>pop</th><th>continent</th><th>lifeExp</th><th>gdpPercap</th></tr><tr><td>str</td><td>i16</td><td>i64</td><td>str</td><td>f32</td><td>f64</td></tr></thead><tbody><tr><td>&quot;Zimbabwe&quot;</td><td>1952</td><td>3080907</td><td>&quot;Africa&quot;</td><td>48.451</td><td>406.884115</td></tr><tr><td>&quot;Zimbabwe&quot;</td><td>1957</td><td>3646340</td><td>&quot;Africa&quot;</td><td>50.469002</td><td>518.764268</td></tr><tr><td>&quot;Zimbabwe&quot;</td><td>1962</td><td>4277736</td><td>&quot;Africa&quot;</td><td>52.358002</td><td>527.272182</td></tr><tr><td>&quot;Zimbabwe&quot;</td><td>1967</td><td>4995432</td><td>&quot;Africa&quot;</td><td>53.994999</td><td>569.795071</td></tr><tr><td>&quot;Zimbabwe&quot;</td><td>1972</td><td>5861135</td><td>&quot;Africa&quot;</td><td>55.634998</td><td>799.362176</td></tr><tr><td>&quot;Zimbabwe&quot;</td><td>1977</td><td>6642107</td><td>&quot;Africa&quot;</td><td>57.674</td><td>685.587682</td></tr><tr><td>&quot;Zimbabwe&quot;</td><td>1982</td><td>7636524</td><td>&quot;Africa&quot;</td><td>60.362999</td><td>788.855041</td></tr><tr><td>&quot;Zimbabwe&quot;</td><td>1987</td><td>9216418</td><td>&quot;Africa&quot;</td><td>62.351002</td><td>706.157306</td></tr><tr><td>&quot;Zimbabwe&quot;</td><td>1992</td><td>10704340</td><td>&quot;Africa&quot;</td><td>60.376999</td><td>693.420786</td></tr><tr><td>&quot;Zimbabwe&quot;</td><td>1997</td><td>11404948</td><td>&quot;Africa&quot;</td><td>46.808998</td><td>792.44996</td></tr><tr><td>&quot;Zimbabwe&quot;</td><td>2002</td><td>11926563</td><td>&quot;Africa&quot;</td><td>39.988998</td><td>672.038623</td></tr><tr><td>&quot;Zimbabwe&quot;</td><td>2007</td><td>12311143</td><td>&quot;Africa&quot;</td><td>43.487</td><td>469.709298</td></tr><tr><td>&hellip;</td><td>&hellip;</td><td>&hellip;</td><td>&hellip;</td><td>&hellip;</td><td>&hellip;</td></tr><tr><td>&quot;Afghanistan&quot;</td><td>1952</td><td>8425333</td><td>&quot;Asia&quot;</td><td>28.801001</td><td>779.445314</td></tr><tr><td>&quot;Afghanistan&quot;</td><td>1957</td><td>9240934</td><td>&quot;Asia&quot;</td><td>30.332001</td><td>820.85303</td></tr><tr><td>&quot;Afghanistan&quot;</td><td>1962</td><td>10267083</td><td>&quot;Asia&quot;</td><td>31.997</td><td>853.10071</td></tr><tr><td>&quot;Afghanistan&quot;</td><td>1967</td><td>11537966</td><td>&quot;Asia&quot;</td><td>34.02</td><td>836.197138</td></tr><tr><td>&quot;Afghanistan&quot;</td><td>1982</td><td>12881816</td><td>&quot;Asia&quot;</td><td>39.854</td><td>978.011439</td></tr><tr><td>&quot;Afghanistan&quot;</td><td>1972</td><td>13079460</td><td>&quot;Asia&quot;</td><td>36.088001</td><td>739.981106</td></tr><tr><td>&quot;Afghanistan&quot;</td><td>1987</td><td>13867957</td><td>&quot;Asia&quot;</td><td>40.821999</td><td>852.395945</td></tr><tr><td>&quot;Afghanistan&quot;</td><td>1977</td><td>14880372</td><td>&quot;Asia&quot;</td><td>38.438</td><td>786.11336</td></tr><tr><td>&quot;Afghanistan&quot;</td><td>1992</td><td>16317921</td><td>&quot;Asia&quot;</td><td>41.674</td><td>649.341395</td></tr><tr><td>&quot;Afghanistan&quot;</td><td>1997</td><td>22227415</td><td>&quot;Asia&quot;</td><td>41.763</td><td>635.341351</td></tr><tr><td>&quot;Afghanistan&quot;</td><td>2002</td><td>25268405</td><td>&quot;Asia&quot;</td><td>42.129002</td><td>726.734055</td></tr><tr><td>&quot;Afghanistan&quot;</td><td>2007</td><td>31889923</td><td>&quot;Asia&quot;</td><td>43.827999</td><td>974.580338</td></tr></tbody></table></div>"
            ]
          },
          "metadata": {},
          "execution_count": 110
        }
      ]
    },
    {
      "cell_type": "markdown",
      "source": [
        "## Pobieranie największych wartości na podstawie kolumny\n"
      ],
      "metadata": {
        "id": "RarChPz-87zW"
      }
    },
    {
      "cell_type": "code",
      "source": [
        "df.sort('pop', descending=True).slice(0,5)"
      ],
      "metadata": {
        "colab": {
          "base_uri": "https://localhost:8080/",
          "height": 255
        },
        "id": "FCrgJQy78aPk",
        "outputId": "950ed1c9-681c-4dfd-e9af-bd0770e49dd1"
      },
      "execution_count": 111,
      "outputs": [
        {
          "output_type": "execute_result",
          "data": {
            "text/plain": [
              "shape: (5, 6)\n",
              "┌─────────┬──────┬──────┬───────────┬───────────┬─────────────┐\n",
              "│ country ┆ year ┆ pop  ┆ continent ┆ lifeExp   ┆ gdpPercap   │\n",
              "│ ---     ┆ ---  ┆ ---  ┆ ---       ┆ ---       ┆ ---         │\n",
              "│ str     ┆ i16  ┆ i64  ┆ str       ┆ f32       ┆ f64         │\n",
              "╞═════════╪══════╪══════╪═══════════╪═══════════╪═════════════╡\n",
              "│ India   ┆ 1997 ┆ null ┆ Asia      ┆ 61.764999 ┆ 1458.817442 │\n",
              "│ India   ┆ 1992 ┆ null ┆ Asia      ┆ 60.223    ┆ 1164.406809 │\n",
              "│ India   ┆ 1987 ┆ null ┆ Asia      ┆ 58.553001 ┆ 976.512676  │\n",
              "│ India   ┆ 1982 ┆ null ┆ Asia      ┆ 56.596001 ┆ 855.723538  │\n",
              "│ India   ┆ 1977 ┆ null ┆ Asia      ┆ 54.208    ┆ 813.337323  │\n",
              "└─────────┴──────┴──────┴───────────┴───────────┴─────────────┘"
            ],
            "text/html": [
              "<div><style>\n",
              ".dataframe > thead > tr,\n",
              ".dataframe > tbody > tr {\n",
              "  text-align: right;\n",
              "  white-space: pre-wrap;\n",
              "}\n",
              "</style>\n",
              "<small>shape: (5, 6)</small><table border=\"1\" class=\"dataframe\"><thead><tr><th>country</th><th>year</th><th>pop</th><th>continent</th><th>lifeExp</th><th>gdpPercap</th></tr><tr><td>str</td><td>i16</td><td>i64</td><td>str</td><td>f32</td><td>f64</td></tr></thead><tbody><tr><td>&quot;India&quot;</td><td>1997</td><td>null</td><td>&quot;Asia&quot;</td><td>61.764999</td><td>1458.817442</td></tr><tr><td>&quot;India&quot;</td><td>1992</td><td>null</td><td>&quot;Asia&quot;</td><td>60.223</td><td>1164.406809</td></tr><tr><td>&quot;India&quot;</td><td>1987</td><td>null</td><td>&quot;Asia&quot;</td><td>58.553001</td><td>976.512676</td></tr><tr><td>&quot;India&quot;</td><td>1982</td><td>null</td><td>&quot;Asia&quot;</td><td>56.596001</td><td>855.723538</td></tr><tr><td>&quot;India&quot;</td><td>1977</td><td>null</td><td>&quot;Asia&quot;</td><td>54.208</td><td>813.337323</td></tr></tbody></table></div>"
            ]
          },
          "metadata": {},
          "execution_count": 111
        }
      ]
    },
    {
      "cell_type": "markdown",
      "source": [
        "## Pobieranie najmniejszych wartości na podstawie kolumny\n"
      ],
      "metadata": {
        "id": "-LTtF5ea9Hp9"
      }
    },
    {
      "cell_type": "code",
      "source": [
        "df.sort('lifeExp').slice(0,5)"
      ],
      "metadata": {
        "colab": {
          "base_uri": "https://localhost:8080/",
          "height": 255
        },
        "id": "I41e1g6q9CtU",
        "outputId": "0a485302-7ca7-4ae3-e768-e1396feb9f53"
      },
      "execution_count": 112,
      "outputs": [
        {
          "output_type": "execute_result",
          "data": {
            "text/plain": [
              "shape: (5, 6)\n",
              "┌──────────────┬──────┬─────────┬───────────┬───────────┬─────────────┐\n",
              "│ country      ┆ year ┆ pop     ┆ continent ┆ lifeExp   ┆ gdpPercap   │\n",
              "│ ---          ┆ ---  ┆ ---     ┆ ---       ┆ ---       ┆ ---         │\n",
              "│ str          ┆ i16  ┆ i64     ┆ str       ┆ f32       ┆ f64         │\n",
              "╞══════════════╪══════╪═════════╪═══════════╪═══════════╪═════════════╡\n",
              "│ Rwanda       ┆ 1992 ┆ 7290203 ┆ Africa    ┆ 23.599001 ┆ 737.068595  │\n",
              "│ Afghanistan  ┆ 1952 ┆ 8425333 ┆ Asia      ┆ 28.801001 ┆ 779.445314  │\n",
              "│ Gambia       ┆ 1952 ┆ 284320  ┆ Africa    ┆ 30.0      ┆ 485.230659  │\n",
              "│ Angola       ┆ 1952 ┆ 4232095 ┆ Africa    ┆ 30.014999 ┆ 3520.610273 │\n",
              "│ Sierra Leone ┆ 1952 ┆ 2143249 ┆ Africa    ┆ 30.330999 ┆ 879.787736  │\n",
              "└──────────────┴──────┴─────────┴───────────┴───────────┴─────────────┘"
            ],
            "text/html": [
              "<div><style>\n",
              ".dataframe > thead > tr,\n",
              ".dataframe > tbody > tr {\n",
              "  text-align: right;\n",
              "  white-space: pre-wrap;\n",
              "}\n",
              "</style>\n",
              "<small>shape: (5, 6)</small><table border=\"1\" class=\"dataframe\"><thead><tr><th>country</th><th>year</th><th>pop</th><th>continent</th><th>lifeExp</th><th>gdpPercap</th></tr><tr><td>str</td><td>i16</td><td>i64</td><td>str</td><td>f32</td><td>f64</td></tr></thead><tbody><tr><td>&quot;Rwanda&quot;</td><td>1992</td><td>7290203</td><td>&quot;Africa&quot;</td><td>23.599001</td><td>737.068595</td></tr><tr><td>&quot;Afghanistan&quot;</td><td>1952</td><td>8425333</td><td>&quot;Asia&quot;</td><td>28.801001</td><td>779.445314</td></tr><tr><td>&quot;Gambia&quot;</td><td>1952</td><td>284320</td><td>&quot;Africa&quot;</td><td>30.0</td><td>485.230659</td></tr><tr><td>&quot;Angola&quot;</td><td>1952</td><td>4232095</td><td>&quot;Africa&quot;</td><td>30.014999</td><td>3520.610273</td></tr><tr><td>&quot;Sierra Leone&quot;</td><td>1952</td><td>2143249</td><td>&quot;Africa&quot;</td><td>30.330999</td><td>879.787736</td></tr></tbody></table></div>"
            ]
          },
          "metadata": {},
          "execution_count": 112
        }
      ]
    },
    {
      "cell_type": "markdown",
      "source": [
        "## Zmiana nazw kolumn"
      ],
      "metadata": {
        "id": "p9nekBXg9mM6"
      }
    },
    {
      "cell_type": "code",
      "source": [
        "df = df.rename({\"country\":\"Country\", \"gdpPercap\":\"GDP_per_cap\"})\n",
        "df.head()"
      ],
      "metadata": {
        "colab": {
          "base_uri": "https://localhost:8080/",
          "height": 255
        },
        "id": "9ZwfPFeP9Mmb",
        "outputId": "d25e50c0-1b46-4b74-c9f8-92eaa03c57f3"
      },
      "execution_count": 113,
      "outputs": [
        {
          "output_type": "execute_result",
          "data": {
            "text/plain": [
              "shape: (5, 6)\n",
              "┌─────────────┬──────┬──────────┬───────────┬───────────┬─────────────┐\n",
              "│ Country     ┆ year ┆ pop      ┆ continent ┆ lifeExp   ┆ GDP_per_cap │\n",
              "│ ---         ┆ ---  ┆ ---      ┆ ---       ┆ ---       ┆ ---         │\n",
              "│ str         ┆ i16  ┆ i64      ┆ str       ┆ f32       ┆ f64         │\n",
              "╞═════════════╪══════╪══════════╪═══════════╪═══════════╪═════════════╡\n",
              "│ Afghanistan ┆ 1952 ┆ 8425333  ┆ Asia      ┆ 28.801001 ┆ 779.445314  │\n",
              "│ Afghanistan ┆ 1957 ┆ 9240934  ┆ Asia      ┆ 30.332001 ┆ 820.85303   │\n",
              "│ Afghanistan ┆ 1962 ┆ 10267083 ┆ Asia      ┆ 31.997    ┆ 853.10071   │\n",
              "│ Afghanistan ┆ 1967 ┆ 11537966 ┆ Asia      ┆ 34.02     ┆ 836.197138  │\n",
              "│ Afghanistan ┆ 1972 ┆ 13079460 ┆ Asia      ┆ 36.088001 ┆ 739.981106  │\n",
              "└─────────────┴──────┴──────────┴───────────┴───────────┴─────────────┘"
            ],
            "text/html": [
              "<div><style>\n",
              ".dataframe > thead > tr,\n",
              ".dataframe > tbody > tr {\n",
              "  text-align: right;\n",
              "  white-space: pre-wrap;\n",
              "}\n",
              "</style>\n",
              "<small>shape: (5, 6)</small><table border=\"1\" class=\"dataframe\"><thead><tr><th>Country</th><th>year</th><th>pop</th><th>continent</th><th>lifeExp</th><th>GDP_per_cap</th></tr><tr><td>str</td><td>i16</td><td>i64</td><td>str</td><td>f32</td><td>f64</td></tr></thead><tbody><tr><td>&quot;Afghanistan&quot;</td><td>1952</td><td>8425333</td><td>&quot;Asia&quot;</td><td>28.801001</td><td>779.445314</td></tr><tr><td>&quot;Afghanistan&quot;</td><td>1957</td><td>9240934</td><td>&quot;Asia&quot;</td><td>30.332001</td><td>820.85303</td></tr><tr><td>&quot;Afghanistan&quot;</td><td>1962</td><td>10267083</td><td>&quot;Asia&quot;</td><td>31.997</td><td>853.10071</td></tr><tr><td>&quot;Afghanistan&quot;</td><td>1967</td><td>11537966</td><td>&quot;Asia&quot;</td><td>34.02</td><td>836.197138</td></tr><tr><td>&quot;Afghanistan&quot;</td><td>1972</td><td>13079460</td><td>&quot;Asia&quot;</td><td>36.088001</td><td>739.981106</td></tr></tbody></table></div>"
            ]
          },
          "metadata": {},
          "execution_count": 113
        }
      ]
    },
    {
      "cell_type": "markdown",
      "source": [
        "## Przekształcanie zawartości kolumny\n",
        "\n",
        "Dodatkowa kolumna \"pop_range\" będzie przyjmować wartość z zakresu L,M,H w zależności o wartości kolumny \"pop\" wg reguły:\n",
        "\n",
        "- L dla <50mln\n",
        "- M dla >=50mln i <100mln\n",
        "- H dla >=100mln"
      ],
      "metadata": {
        "id": "h3uykIUJ_DZa"
      }
    },
    {
      "cell_type": "code",
      "source": [
        "def apply_pop(x):\n",
        "    if x < 50_000_000:\n",
        "        return \"L\"\n",
        "    elif x < 100_000_000:\n",
        "        return \"M\"\n",
        "    else:\n",
        "        return \"H\"\n",
        "\n",
        "# Stosowanie funkcji do kolumny 'pop'\n",
        "df = df.with_columns([df[\"pop\"].apply(apply_pop).alias(\"pop_range\")])\n",
        "\n",
        "# Wyświetlanie pierwszych 3 wierszy\n",
        "print(df.head(3))"
      ],
      "metadata": {
        "colab": {
          "base_uri": "https://localhost:8080/"
        },
        "id": "chFGG9DX9uES",
        "outputId": "5037e829-6145-42fa-de27-67cbef6a61bd"
      },
      "execution_count": 114,
      "outputs": [
        {
          "output_type": "stream",
          "name": "stdout",
          "text": [
            "shape: (3, 7)\n",
            "┌─────────────┬──────┬──────────┬───────────┬───────────┬─────────────┬───────────┐\n",
            "│ Country     ┆ year ┆ pop      ┆ continent ┆ lifeExp   ┆ GDP_per_cap ┆ pop_range │\n",
            "│ ---         ┆ ---  ┆ ---      ┆ ---       ┆ ---       ┆ ---         ┆ ---       │\n",
            "│ str         ┆ i16  ┆ i64      ┆ str       ┆ f32       ┆ f64         ┆ str       │\n",
            "╞═════════════╪══════╪══════════╪═══════════╪═══════════╪═════════════╪═══════════╡\n",
            "│ Afghanistan ┆ 1952 ┆ 8425333  ┆ Asia      ┆ 28.801001 ┆ 779.445314  ┆ L         │\n",
            "│ Afghanistan ┆ 1957 ┆ 9240934  ┆ Asia      ┆ 30.332001 ┆ 820.85303   ┆ L         │\n",
            "│ Afghanistan ┆ 1962 ┆ 10267083 ┆ Asia      ┆ 31.997    ┆ 853.10071   ┆ L         │\n",
            "└─────────────┴──────┴──────────┴───────────┴───────────┴─────────────┴───────────┘\n"
          ]
        }
      ]
    },
    {
      "cell_type": "markdown",
      "source": [
        "## Mapowanie wartości w kolumnie\n",
        "\n",
        "zmapuj kolumnę \"pop_range\" wg schematu: dla L wartość Low, dla M - Medium, dla H - High"
      ],
      "metadata": {
        "id": "Fb0uwh2WAMHi"
      }
    },
    {
      "cell_type": "code",
      "source": [
        "df = df.with_columns([\n",
        "    pl.when(df[\"pop_range\"] == \"L\")\n",
        "      .then(pl.lit(\"Low\"))\n",
        "      .when(df[\"pop_range\"] == \"M\")\n",
        "      .then(pl.lit(\"Medium\"))\n",
        "      .when(df[\"pop_range\"] == \"H\")\n",
        "      .then(pl.lit(\"High\"))\n",
        "      .otherwise(df[\"pop_range\"])\n",
        "      .alias(\"pop_range\")\n",
        "])\n",
        "\n",
        "# Wyświetl pierwsze wiersze\n",
        "print(df.head())"
      ],
      "metadata": {
        "colab": {
          "base_uri": "https://localhost:8080/"
        },
        "id": "jYmATgjs_Oc3",
        "outputId": "43aca847-feea-47f3-db25-60d8ee789882"
      },
      "execution_count": 115,
      "outputs": [
        {
          "output_type": "stream",
          "name": "stdout",
          "text": [
            "shape: (5, 7)\n",
            "┌─────────────┬──────┬──────────┬───────────┬───────────┬─────────────┬───────────┐\n",
            "│ Country     ┆ year ┆ pop      ┆ continent ┆ lifeExp   ┆ GDP_per_cap ┆ pop_range │\n",
            "│ ---         ┆ ---  ┆ ---      ┆ ---       ┆ ---       ┆ ---         ┆ ---       │\n",
            "│ str         ┆ i16  ┆ i64      ┆ str       ┆ f32       ┆ f64         ┆ str       │\n",
            "╞═════════════╪══════╪══════════╪═══════════╪═══════════╪═════════════╪═══════════╡\n",
            "│ Afghanistan ┆ 1952 ┆ 8425333  ┆ Asia      ┆ 28.801001 ┆ 779.445314  ┆ Low       │\n",
            "│ Afghanistan ┆ 1957 ┆ 9240934  ┆ Asia      ┆ 30.332001 ┆ 820.85303   ┆ Low       │\n",
            "│ Afghanistan ┆ 1962 ┆ 10267083 ┆ Asia      ┆ 31.997    ┆ 853.10071   ┆ Low       │\n",
            "│ Afghanistan ┆ 1967 ┆ 11537966 ┆ Asia      ┆ 34.02     ┆ 836.197138  ┆ Low       │\n",
            "│ Afghanistan ┆ 1972 ┆ 13079460 ┆ Asia      ┆ 36.088001 ┆ 739.981106  ┆ Low       │\n",
            "└─────────────┴──────┴──────────┴───────────┴───────────┴─────────────┴───────────┘\n"
          ]
        }
      ]
    },
    {
      "cell_type": "markdown",
      "source": [
        "## Usuwanie kolumn(y)"
      ],
      "metadata": {
        "id": "asB9ygHhAv1e"
      }
    },
    {
      "cell_type": "code",
      "source": [
        "df.drop(\"pop\")"
      ],
      "metadata": {
        "colab": {
          "base_uri": "https://localhost:8080/",
          "height": 882
        },
        "id": "_vroW_Q-AcZr",
        "outputId": "a9c880a4-4a93-41d9-c82f-73ce29404c67"
      },
      "execution_count": 116,
      "outputs": [
        {
          "output_type": "execute_result",
          "data": {
            "text/plain": [
              "shape: (1_704, 6)\n",
              "┌─────────────┬──────┬───────────┬───────────┬─────────────┬───────────┐\n",
              "│ Country     ┆ year ┆ continent ┆ lifeExp   ┆ GDP_per_cap ┆ pop_range │\n",
              "│ ---         ┆ ---  ┆ ---       ┆ ---       ┆ ---         ┆ ---       │\n",
              "│ str         ┆ i16  ┆ str       ┆ f32       ┆ f64         ┆ str       │\n",
              "╞═════════════╪══════╪═══════════╪═══════════╪═════════════╪═══════════╡\n",
              "│ Afghanistan ┆ 1952 ┆ Asia      ┆ 28.801001 ┆ 779.445314  ┆ Low       │\n",
              "│ Afghanistan ┆ 1957 ┆ Asia      ┆ 30.332001 ┆ 820.85303   ┆ Low       │\n",
              "│ Afghanistan ┆ 1962 ┆ Asia      ┆ 31.997    ┆ 853.10071   ┆ Low       │\n",
              "│ Afghanistan ┆ 1967 ┆ Asia      ┆ 34.02     ┆ 836.197138  ┆ Low       │\n",
              "│ …           ┆ …    ┆ …         ┆ …         ┆ …           ┆ …         │\n",
              "│ Zimbabwe    ┆ 1992 ┆ Africa    ┆ 60.376999 ┆ 693.420786  ┆ Low       │\n",
              "│ Zimbabwe    ┆ 1997 ┆ Africa    ┆ 46.808998 ┆ 792.44996   ┆ Low       │\n",
              "│ Zimbabwe    ┆ 2002 ┆ Africa    ┆ 39.988998 ┆ 672.038623  ┆ Low       │\n",
              "│ Zimbabwe    ┆ 2007 ┆ Africa    ┆ 43.487    ┆ 469.709298  ┆ Low       │\n",
              "└─────────────┴──────┴───────────┴───────────┴─────────────┴───────────┘"
            ],
            "text/html": [
              "<div><style>\n",
              ".dataframe > thead > tr,\n",
              ".dataframe > tbody > tr {\n",
              "  text-align: right;\n",
              "  white-space: pre-wrap;\n",
              "}\n",
              "</style>\n",
              "<small>shape: (1_704, 6)</small><table border=\"1\" class=\"dataframe\"><thead><tr><th>Country</th><th>year</th><th>continent</th><th>lifeExp</th><th>GDP_per_cap</th><th>pop_range</th></tr><tr><td>str</td><td>i16</td><td>str</td><td>f32</td><td>f64</td><td>str</td></tr></thead><tbody><tr><td>&quot;Afghanistan&quot;</td><td>1952</td><td>&quot;Asia&quot;</td><td>28.801001</td><td>779.445314</td><td>&quot;Low&quot;</td></tr><tr><td>&quot;Afghanistan&quot;</td><td>1957</td><td>&quot;Asia&quot;</td><td>30.332001</td><td>820.85303</td><td>&quot;Low&quot;</td></tr><tr><td>&quot;Afghanistan&quot;</td><td>1962</td><td>&quot;Asia&quot;</td><td>31.997</td><td>853.10071</td><td>&quot;Low&quot;</td></tr><tr><td>&quot;Afghanistan&quot;</td><td>1967</td><td>&quot;Asia&quot;</td><td>34.02</td><td>836.197138</td><td>&quot;Low&quot;</td></tr><tr><td>&quot;Afghanistan&quot;</td><td>1972</td><td>&quot;Asia&quot;</td><td>36.088001</td><td>739.981106</td><td>&quot;Low&quot;</td></tr><tr><td>&quot;Afghanistan&quot;</td><td>1977</td><td>&quot;Asia&quot;</td><td>38.438</td><td>786.11336</td><td>&quot;Low&quot;</td></tr><tr><td>&quot;Afghanistan&quot;</td><td>1982</td><td>&quot;Asia&quot;</td><td>39.854</td><td>978.011439</td><td>&quot;Low&quot;</td></tr><tr><td>&quot;Afghanistan&quot;</td><td>1987</td><td>&quot;Asia&quot;</td><td>40.821999</td><td>852.395945</td><td>&quot;Low&quot;</td></tr><tr><td>&quot;Afghanistan&quot;</td><td>1992</td><td>&quot;Asia&quot;</td><td>41.674</td><td>649.341395</td><td>&quot;Low&quot;</td></tr><tr><td>&quot;Afghanistan&quot;</td><td>1997</td><td>&quot;Asia&quot;</td><td>41.763</td><td>635.341351</td><td>&quot;Low&quot;</td></tr><tr><td>&quot;Afghanistan&quot;</td><td>2002</td><td>&quot;Asia&quot;</td><td>42.129002</td><td>726.734055</td><td>&quot;Low&quot;</td></tr><tr><td>&quot;Afghanistan&quot;</td><td>2007</td><td>&quot;Asia&quot;</td><td>43.827999</td><td>974.580338</td><td>&quot;Low&quot;</td></tr><tr><td>&hellip;</td><td>&hellip;</td><td>&hellip;</td><td>&hellip;</td><td>&hellip;</td><td>&hellip;</td></tr><tr><td>&quot;Zimbabwe&quot;</td><td>1952</td><td>&quot;Africa&quot;</td><td>48.451</td><td>406.884115</td><td>&quot;Low&quot;</td></tr><tr><td>&quot;Zimbabwe&quot;</td><td>1957</td><td>&quot;Africa&quot;</td><td>50.469002</td><td>518.764268</td><td>&quot;Low&quot;</td></tr><tr><td>&quot;Zimbabwe&quot;</td><td>1962</td><td>&quot;Africa&quot;</td><td>52.358002</td><td>527.272182</td><td>&quot;Low&quot;</td></tr><tr><td>&quot;Zimbabwe&quot;</td><td>1967</td><td>&quot;Africa&quot;</td><td>53.994999</td><td>569.795071</td><td>&quot;Low&quot;</td></tr><tr><td>&quot;Zimbabwe&quot;</td><td>1972</td><td>&quot;Africa&quot;</td><td>55.634998</td><td>799.362176</td><td>&quot;Low&quot;</td></tr><tr><td>&quot;Zimbabwe&quot;</td><td>1977</td><td>&quot;Africa&quot;</td><td>57.674</td><td>685.587682</td><td>&quot;Low&quot;</td></tr><tr><td>&quot;Zimbabwe&quot;</td><td>1982</td><td>&quot;Africa&quot;</td><td>60.362999</td><td>788.855041</td><td>&quot;Low&quot;</td></tr><tr><td>&quot;Zimbabwe&quot;</td><td>1987</td><td>&quot;Africa&quot;</td><td>62.351002</td><td>706.157306</td><td>&quot;Low&quot;</td></tr><tr><td>&quot;Zimbabwe&quot;</td><td>1992</td><td>&quot;Africa&quot;</td><td>60.376999</td><td>693.420786</td><td>&quot;Low&quot;</td></tr><tr><td>&quot;Zimbabwe&quot;</td><td>1997</td><td>&quot;Africa&quot;</td><td>46.808998</td><td>792.44996</td><td>&quot;Low&quot;</td></tr><tr><td>&quot;Zimbabwe&quot;</td><td>2002</td><td>&quot;Africa&quot;</td><td>39.988998</td><td>672.038623</td><td>&quot;Low&quot;</td></tr><tr><td>&quot;Zimbabwe&quot;</td><td>2007</td><td>&quot;Africa&quot;</td><td>43.487</td><td>469.709298</td><td>&quot;Low&quot;</td></tr></tbody></table></div>"
            ]
          },
          "metadata": {},
          "execution_count": 116
        }
      ]
    },
    {
      "cell_type": "code",
      "source": [
        "df.drop([\"pop\",\"continent\"])"
      ],
      "metadata": {
        "colab": {
          "base_uri": "https://localhost:8080/",
          "height": 882
        },
        "id": "d8QQdnyYA1GV",
        "outputId": "aa3505f2-1108-4d55-fc92-1af95b66c1e4"
      },
      "execution_count": 117,
      "outputs": [
        {
          "output_type": "execute_result",
          "data": {
            "text/plain": [
              "shape: (1_704, 5)\n",
              "┌─────────────┬──────┬───────────┬─────────────┬───────────┐\n",
              "│ Country     ┆ year ┆ lifeExp   ┆ GDP_per_cap ┆ pop_range │\n",
              "│ ---         ┆ ---  ┆ ---       ┆ ---         ┆ ---       │\n",
              "│ str         ┆ i16  ┆ f32       ┆ f64         ┆ str       │\n",
              "╞═════════════╪══════╪═══════════╪═════════════╪═══════════╡\n",
              "│ Afghanistan ┆ 1952 ┆ 28.801001 ┆ 779.445314  ┆ Low       │\n",
              "│ Afghanistan ┆ 1957 ┆ 30.332001 ┆ 820.85303   ┆ Low       │\n",
              "│ Afghanistan ┆ 1962 ┆ 31.997    ┆ 853.10071   ┆ Low       │\n",
              "│ Afghanistan ┆ 1967 ┆ 34.02     ┆ 836.197138  ┆ Low       │\n",
              "│ …           ┆ …    ┆ …         ┆ …           ┆ …         │\n",
              "│ Zimbabwe    ┆ 1992 ┆ 60.376999 ┆ 693.420786  ┆ Low       │\n",
              "│ Zimbabwe    ┆ 1997 ┆ 46.808998 ┆ 792.44996   ┆ Low       │\n",
              "│ Zimbabwe    ┆ 2002 ┆ 39.988998 ┆ 672.038623  ┆ Low       │\n",
              "│ Zimbabwe    ┆ 2007 ┆ 43.487    ┆ 469.709298  ┆ Low       │\n",
              "└─────────────┴──────┴───────────┴─────────────┴───────────┘"
            ],
            "text/html": [
              "<div><style>\n",
              ".dataframe > thead > tr,\n",
              ".dataframe > tbody > tr {\n",
              "  text-align: right;\n",
              "  white-space: pre-wrap;\n",
              "}\n",
              "</style>\n",
              "<small>shape: (1_704, 5)</small><table border=\"1\" class=\"dataframe\"><thead><tr><th>Country</th><th>year</th><th>lifeExp</th><th>GDP_per_cap</th><th>pop_range</th></tr><tr><td>str</td><td>i16</td><td>f32</td><td>f64</td><td>str</td></tr></thead><tbody><tr><td>&quot;Afghanistan&quot;</td><td>1952</td><td>28.801001</td><td>779.445314</td><td>&quot;Low&quot;</td></tr><tr><td>&quot;Afghanistan&quot;</td><td>1957</td><td>30.332001</td><td>820.85303</td><td>&quot;Low&quot;</td></tr><tr><td>&quot;Afghanistan&quot;</td><td>1962</td><td>31.997</td><td>853.10071</td><td>&quot;Low&quot;</td></tr><tr><td>&quot;Afghanistan&quot;</td><td>1967</td><td>34.02</td><td>836.197138</td><td>&quot;Low&quot;</td></tr><tr><td>&quot;Afghanistan&quot;</td><td>1972</td><td>36.088001</td><td>739.981106</td><td>&quot;Low&quot;</td></tr><tr><td>&quot;Afghanistan&quot;</td><td>1977</td><td>38.438</td><td>786.11336</td><td>&quot;Low&quot;</td></tr><tr><td>&quot;Afghanistan&quot;</td><td>1982</td><td>39.854</td><td>978.011439</td><td>&quot;Low&quot;</td></tr><tr><td>&quot;Afghanistan&quot;</td><td>1987</td><td>40.821999</td><td>852.395945</td><td>&quot;Low&quot;</td></tr><tr><td>&quot;Afghanistan&quot;</td><td>1992</td><td>41.674</td><td>649.341395</td><td>&quot;Low&quot;</td></tr><tr><td>&quot;Afghanistan&quot;</td><td>1997</td><td>41.763</td><td>635.341351</td><td>&quot;Low&quot;</td></tr><tr><td>&quot;Afghanistan&quot;</td><td>2002</td><td>42.129002</td><td>726.734055</td><td>&quot;Low&quot;</td></tr><tr><td>&quot;Afghanistan&quot;</td><td>2007</td><td>43.827999</td><td>974.580338</td><td>&quot;Low&quot;</td></tr><tr><td>&hellip;</td><td>&hellip;</td><td>&hellip;</td><td>&hellip;</td><td>&hellip;</td></tr><tr><td>&quot;Zimbabwe&quot;</td><td>1952</td><td>48.451</td><td>406.884115</td><td>&quot;Low&quot;</td></tr><tr><td>&quot;Zimbabwe&quot;</td><td>1957</td><td>50.469002</td><td>518.764268</td><td>&quot;Low&quot;</td></tr><tr><td>&quot;Zimbabwe&quot;</td><td>1962</td><td>52.358002</td><td>527.272182</td><td>&quot;Low&quot;</td></tr><tr><td>&quot;Zimbabwe&quot;</td><td>1967</td><td>53.994999</td><td>569.795071</td><td>&quot;Low&quot;</td></tr><tr><td>&quot;Zimbabwe&quot;</td><td>1972</td><td>55.634998</td><td>799.362176</td><td>&quot;Low&quot;</td></tr><tr><td>&quot;Zimbabwe&quot;</td><td>1977</td><td>57.674</td><td>685.587682</td><td>&quot;Low&quot;</td></tr><tr><td>&quot;Zimbabwe&quot;</td><td>1982</td><td>60.362999</td><td>788.855041</td><td>&quot;Low&quot;</td></tr><tr><td>&quot;Zimbabwe&quot;</td><td>1987</td><td>62.351002</td><td>706.157306</td><td>&quot;Low&quot;</td></tr><tr><td>&quot;Zimbabwe&quot;</td><td>1992</td><td>60.376999</td><td>693.420786</td><td>&quot;Low&quot;</td></tr><tr><td>&quot;Zimbabwe&quot;</td><td>1997</td><td>46.808998</td><td>792.44996</td><td>&quot;Low&quot;</td></tr><tr><td>&quot;Zimbabwe&quot;</td><td>2002</td><td>39.988998</td><td>672.038623</td><td>&quot;Low&quot;</td></tr><tr><td>&quot;Zimbabwe&quot;</td><td>2007</td><td>43.487</td><td>469.709298</td><td>&quot;Low&quot;</td></tr></tbody></table></div>"
            ]
          },
          "metadata": {},
          "execution_count": 117
        }
      ]
    },
    {
      "cell_type": "markdown",
      "source": [
        "## Przekształcanie kolumny typu object z wykorzystanie funkcji obiektów string\n"
      ],
      "metadata": {
        "id": "ACNfcd_eBPek"
      }
    },
    {
      "cell_type": "code",
      "source": [
        "# Zmiana wartości w kolumnie 'Country' na wielkie litery\n",
        "df = df.with_columns([\n",
        "    df[\"Country\"].str.to_uppercase().alias(\"Country\")\n",
        "])\n",
        "\n",
        "# Wyświetl pierwsze wiersze\n",
        "print(df.head())"
      ],
      "metadata": {
        "colab": {
          "base_uri": "https://localhost:8080/"
        },
        "id": "kckPLG4MA4lk",
        "outputId": "bb1b22eb-faa1-401c-d7bd-d564fd166e85"
      },
      "execution_count": 118,
      "outputs": [
        {
          "output_type": "stream",
          "name": "stdout",
          "text": [
            "shape: (5, 7)\n",
            "┌─────────────┬──────┬──────────┬───────────┬───────────┬─────────────┬───────────┐\n",
            "│ Country     ┆ year ┆ pop      ┆ continent ┆ lifeExp   ┆ GDP_per_cap ┆ pop_range │\n",
            "│ ---         ┆ ---  ┆ ---      ┆ ---       ┆ ---       ┆ ---         ┆ ---       │\n",
            "│ str         ┆ i16  ┆ i64      ┆ str       ┆ f32       ┆ f64         ┆ str       │\n",
            "╞═════════════╪══════╪══════════╪═══════════╪═══════════╪═════════════╪═══════════╡\n",
            "│ AFGHANISTAN ┆ 1952 ┆ 8425333  ┆ Asia      ┆ 28.801001 ┆ 779.445314  ┆ Low       │\n",
            "│ AFGHANISTAN ┆ 1957 ┆ 9240934  ┆ Asia      ┆ 30.332001 ┆ 820.85303   ┆ Low       │\n",
            "│ AFGHANISTAN ┆ 1962 ┆ 10267083 ┆ Asia      ┆ 31.997    ┆ 853.10071   ┆ Low       │\n",
            "│ AFGHANISTAN ┆ 1967 ┆ 11537966 ┆ Asia      ┆ 34.02     ┆ 836.197138  ┆ Low       │\n",
            "│ AFGHANISTAN ┆ 1972 ┆ 13079460 ┆ Asia      ┆ 36.088001 ┆ 739.981106  ┆ Low       │\n",
            "└─────────────┴──────┴──────────┴───────────┴───────────┴─────────────┴───────────┘\n"
          ]
        }
      ]
    },
    {
      "cell_type": "markdown",
      "source": [
        "## Pobranie losowych wierszy z DataFrame\n"
      ],
      "metadata": {
        "id": "fR8l1puzCUye"
      }
    },
    {
      "cell_type": "code",
      "source": [
        "# ilościowo - z parametrem \"n\"\n",
        "df.sample(n=10, seed=0)"
      ],
      "metadata": {
        "colab": {
          "base_uri": "https://localhost:8080/",
          "height": 412
        },
        "id": "iagVllP1BVVl",
        "outputId": "d10a3800-4ebe-40f3-ad3c-6962a30be5aa"
      },
      "execution_count": 119,
      "outputs": [
        {
          "output_type": "execute_result",
          "data": {
            "text/plain": [
              "shape: (10, 7)\n",
              "┌────────────────────┬──────┬──────────┬───────────┬───────────┬─────────────┬───────────┐\n",
              "│ Country            ┆ year ┆ pop      ┆ continent ┆ lifeExp   ┆ GDP_per_cap ┆ pop_range │\n",
              "│ ---                ┆ ---  ┆ ---      ┆ ---       ┆ ---       ┆ ---         ┆ ---       │\n",
              "│ str                ┆ i16  ┆ i64      ┆ str       ┆ f32       ┆ f64         ┆ str       │\n",
              "╞════════════════════╪══════╪══════════╪═══════════╪═══════════╪═════════════╪═══════════╡\n",
              "│ ISRAEL             ┆ 1962 ┆ 2310904  ┆ Asia      ┆ 69.389999 ┆ 7105.630706 ┆ Low       │\n",
              "│ IRELAND            ┆ 1952 ┆ 2952156  ┆ Europe    ┆ 66.910004 ┆ 5210.280328 ┆ Low       │\n",
              "│ JAMAICA            ┆ 1972 ┆ 1997616  ┆ Americas  ┆ 69.0      ┆ 7433.889293 ┆ Low       │\n",
              "│ TANZANIA           ┆ 2007 ┆ 38139640 ┆ Africa    ┆ 52.516998 ┆ 1107.482182 ┆ Low       │\n",
              "│ …                  ┆ …    ┆ …        ┆ …         ┆ …         ┆ …           ┆ …         │\n",
              "│ DENMARK            ┆ 1957 ┆ 4487831  ┆ Europe    ┆ 71.809998 ┆ 11099.65935 ┆ Low       │\n",
              "│ WEST BANK AND GAZA ┆ 1977 ┆ 1261091  ┆ Asia      ┆ 60.764999 ┆ 3682.831494 ┆ Low       │\n",
              "│ NEW ZEALAND        ┆ 1977 ┆ 3164900  ┆ Oceania   ┆ 72.220001 ┆ 16233.7177  ┆ Low       │\n",
              "│ BAHRAIN            ┆ 1997 ┆ 598561   ┆ Asia      ┆ 73.925003 ┆ 20292.01679 ┆ Low       │\n",
              "└────────────────────┴──────┴──────────┴───────────┴───────────┴─────────────┴───────────┘"
            ],
            "text/html": [
              "<div><style>\n",
              ".dataframe > thead > tr,\n",
              ".dataframe > tbody > tr {\n",
              "  text-align: right;\n",
              "  white-space: pre-wrap;\n",
              "}\n",
              "</style>\n",
              "<small>shape: (10, 7)</small><table border=\"1\" class=\"dataframe\"><thead><tr><th>Country</th><th>year</th><th>pop</th><th>continent</th><th>lifeExp</th><th>GDP_per_cap</th><th>pop_range</th></tr><tr><td>str</td><td>i16</td><td>i64</td><td>str</td><td>f32</td><td>f64</td><td>str</td></tr></thead><tbody><tr><td>&quot;ISRAEL&quot;</td><td>1962</td><td>2310904</td><td>&quot;Asia&quot;</td><td>69.389999</td><td>7105.630706</td><td>&quot;Low&quot;</td></tr><tr><td>&quot;IRELAND&quot;</td><td>1952</td><td>2952156</td><td>&quot;Europe&quot;</td><td>66.910004</td><td>5210.280328</td><td>&quot;Low&quot;</td></tr><tr><td>&quot;JAMAICA&quot;</td><td>1972</td><td>1997616</td><td>&quot;Americas&quot;</td><td>69.0</td><td>7433.889293</td><td>&quot;Low&quot;</td></tr><tr><td>&quot;TANZANIA&quot;</td><td>2007</td><td>38139640</td><td>&quot;Africa&quot;</td><td>52.516998</td><td>1107.482182</td><td>&quot;Low&quot;</td></tr><tr><td>&quot;UNITED KINGDOM…</td><td>1982</td><td>56339704</td><td>&quot;Europe&quot;</td><td>74.040001</td><td>18232.42452</td><td>&quot;Medium&quot;</td></tr><tr><td>&quot;HONG KONG CHIN…</td><td>2007</td><td>6980412</td><td>&quot;Asia&quot;</td><td>82.208</td><td>39724.97867</td><td>&quot;Low&quot;</td></tr><tr><td>&quot;DENMARK&quot;</td><td>1957</td><td>4487831</td><td>&quot;Europe&quot;</td><td>71.809998</td><td>11099.65935</td><td>&quot;Low&quot;</td></tr><tr><td>&quot;WEST BANK AND …</td><td>1977</td><td>1261091</td><td>&quot;Asia&quot;</td><td>60.764999</td><td>3682.831494</td><td>&quot;Low&quot;</td></tr><tr><td>&quot;NEW ZEALAND&quot;</td><td>1977</td><td>3164900</td><td>&quot;Oceania&quot;</td><td>72.220001</td><td>16233.7177</td><td>&quot;Low&quot;</td></tr><tr><td>&quot;BAHRAIN&quot;</td><td>1997</td><td>598561</td><td>&quot;Asia&quot;</td><td>73.925003</td><td>20292.01679</td><td>&quot;Low&quot;</td></tr></tbody></table></div>"
            ]
          },
          "metadata": {},
          "execution_count": 119
        }
      ]
    },
    {
      "cell_type": "code",
      "source": [
        "# procentowo - z parametrem \"frac\"\n",
        "df.sample(fraction=0.5/100, seed=42)"
      ],
      "metadata": {
        "colab": {
          "base_uri": "https://localhost:8080/",
          "height": 349
        },
        "id": "ImEPwkMrCh42",
        "outputId": "8710c5ae-fd5b-43a0-a557-00b1169cbca2"
      },
      "execution_count": 120,
      "outputs": [
        {
          "output_type": "execute_result",
          "data": {
            "text/plain": [
              "shape: (8, 7)\n",
              "┌──────────────────────────┬──────┬─────────┬───────────┬───────────┬─────────────┬───────────┐\n",
              "│ Country                  ┆ year ┆ pop     ┆ continent ┆ lifeExp   ┆ GDP_per_cap ┆ pop_range │\n",
              "│ ---                      ┆ ---  ┆ ---     ┆ ---       ┆ ---       ┆ ---         ┆ ---       │\n",
              "│ str                      ┆ i16  ┆ i64     ┆ str       ┆ f32       ┆ f64         ┆ str       │\n",
              "╞══════════════════════════╪══════╪═════════╪═══════════╪═══════════╪═════════════╪═══════════╡\n",
              "│ CHAD                     ┆ 1982 ┆ 4875118 ┆ Africa    ┆ 49.516998 ┆ 797.908101  ┆ Low       │\n",
              "│ FINLAND                  ┆ 1952 ┆ 4090500 ┆ Europe    ┆ 66.550003 ┆ 6424.519071 ┆ Low       │\n",
              "│ ERITREA                  ┆ 2002 ┆ 4414865 ┆ Africa    ┆ 55.240002 ┆ 765.350001  ┆ Low       │\n",
              "│ PORTUGAL                 ┆ 1962 ┆ 9019800 ┆ Europe    ┆ 64.389999 ┆ 4727.954889 ┆ Low       │\n",
              "│ MADAGASCAR               ┆ 1977 ┆ 8007166 ┆ Africa    ┆ 46.881001 ┆ 1544.228586 ┆ Low       │\n",
              "│ CENTRAL AFRICAN REPUBLIC ┆ 1977 ┆ 2167533 ┆ Africa    ┆ 46.775002 ┆ 1109.374338 ┆ Low       │\n",
              "│ GABON                    ┆ 1962 ┆ 455661  ┆ Africa    ┆ 40.488998 ┆ 6631.459222 ┆ Low       │\n",
              "│ JAMAICA                  ┆ 1962 ┆ 1665128 ┆ Americas  ┆ 65.610001 ┆ 5246.107524 ┆ Low       │\n",
              "└──────────────────────────┴──────┴─────────┴───────────┴───────────┴─────────────┴───────────┘"
            ],
            "text/html": [
              "<div><style>\n",
              ".dataframe > thead > tr,\n",
              ".dataframe > tbody > tr {\n",
              "  text-align: right;\n",
              "  white-space: pre-wrap;\n",
              "}\n",
              "</style>\n",
              "<small>shape: (8, 7)</small><table border=\"1\" class=\"dataframe\"><thead><tr><th>Country</th><th>year</th><th>pop</th><th>continent</th><th>lifeExp</th><th>GDP_per_cap</th><th>pop_range</th></tr><tr><td>str</td><td>i16</td><td>i64</td><td>str</td><td>f32</td><td>f64</td><td>str</td></tr></thead><tbody><tr><td>&quot;CHAD&quot;</td><td>1982</td><td>4875118</td><td>&quot;Africa&quot;</td><td>49.516998</td><td>797.908101</td><td>&quot;Low&quot;</td></tr><tr><td>&quot;FINLAND&quot;</td><td>1952</td><td>4090500</td><td>&quot;Europe&quot;</td><td>66.550003</td><td>6424.519071</td><td>&quot;Low&quot;</td></tr><tr><td>&quot;ERITREA&quot;</td><td>2002</td><td>4414865</td><td>&quot;Africa&quot;</td><td>55.240002</td><td>765.350001</td><td>&quot;Low&quot;</td></tr><tr><td>&quot;PORTUGAL&quot;</td><td>1962</td><td>9019800</td><td>&quot;Europe&quot;</td><td>64.389999</td><td>4727.954889</td><td>&quot;Low&quot;</td></tr><tr><td>&quot;MADAGASCAR&quot;</td><td>1977</td><td>8007166</td><td>&quot;Africa&quot;</td><td>46.881001</td><td>1544.228586</td><td>&quot;Low&quot;</td></tr><tr><td>&quot;CENTRAL AFRICA…</td><td>1977</td><td>2167533</td><td>&quot;Africa&quot;</td><td>46.775002</td><td>1109.374338</td><td>&quot;Low&quot;</td></tr><tr><td>&quot;GABON&quot;</td><td>1962</td><td>455661</td><td>&quot;Africa&quot;</td><td>40.488998</td><td>6631.459222</td><td>&quot;Low&quot;</td></tr><tr><td>&quot;JAMAICA&quot;</td><td>1962</td><td>1665128</td><td>&quot;Americas&quot;</td><td>65.610001</td><td>5246.107524</td><td>&quot;Low&quot;</td></tr></tbody></table></div>"
            ]
          },
          "metadata": {},
          "execution_count": 120
        }
      ]
    },
    {
      "cell_type": "markdown",
      "source": [
        "## Pobranie wartości unikalnych z kolumny\n"
      ],
      "metadata": {
        "id": "lOAyQR5RDDu2"
      }
    },
    {
      "cell_type": "code",
      "source": [
        "df[\"Country\"].unique()"
      ],
      "metadata": {
        "colab": {
          "base_uri": "https://localhost:8080/",
          "height": 882
        },
        "id": "-gS1R-D1CnwF",
        "outputId": "95d69d5a-2ff9-4715-a0c1-0ecda5a7d3d3"
      },
      "execution_count": 121,
      "outputs": [
        {
          "output_type": "execute_result",
          "data": {
            "text/plain": [
              "shape: (142,)\n",
              "Series: 'Country' [str]\n",
              "[\n",
              "\t\"PORTUGAL\"\n",
              "\t\"MOZAMBIQUE\"\n",
              "\t\"SIERRA LEONE\"\n",
              "\t\"VIETNAM\"\n",
              "\t\"SLOVENIA\"\n",
              "\t\"SWEDEN\"\n",
              "\t\"MONGOLIA\"\n",
              "\t\"SENEGAL\"\n",
              "\t\"ALGERIA\"\n",
              "\t\"THAILAND\"\n",
              "\t\"BAHRAIN\"\n",
              "\t\"NORWAY\"\n",
              "\t…\n",
              "\t\"BULGARIA\"\n",
              "\t\"WEST BANK AND …\n",
              "\t\"ERITREA\"\n",
              "\t\"NEPAL\"\n",
              "\t\"GERMANY\"\n",
              "\t\"BENIN\"\n",
              "\t\"UNITED STATES\"\n",
              "\t\"COTE D'IVOIRE\"\n",
              "\t\"YEMEN REP.\"\n",
              "\t\"BELGIUM\"\n",
              "\t\"UNITED KINGDOM…\n",
              "\t\"CONGO DEM. REP…\n",
              "\t\"CHAD\"\n",
              "]"
            ],
            "text/html": [
              "<div><style>\n",
              ".dataframe > thead > tr,\n",
              ".dataframe > tbody > tr {\n",
              "  text-align: right;\n",
              "  white-space: pre-wrap;\n",
              "}\n",
              "</style>\n",
              "<small>shape: (142,)</small><table border=\"1\" class=\"dataframe\"><thead><tr><th>Country</th></tr><tr><td>str</td></tr></thead><tbody><tr><td>&quot;PORTUGAL&quot;</td></tr><tr><td>&quot;MOZAMBIQUE&quot;</td></tr><tr><td>&quot;SIERRA LEONE&quot;</td></tr><tr><td>&quot;VIETNAM&quot;</td></tr><tr><td>&quot;SLOVENIA&quot;</td></tr><tr><td>&quot;SWEDEN&quot;</td></tr><tr><td>&quot;MONGOLIA&quot;</td></tr><tr><td>&quot;SENEGAL&quot;</td></tr><tr><td>&quot;ALGERIA&quot;</td></tr><tr><td>&quot;THAILAND&quot;</td></tr><tr><td>&quot;BAHRAIN&quot;</td></tr><tr><td>&quot;NORWAY&quot;</td></tr><tr><td>&hellip;</td></tr><tr><td>&quot;WEST BANK AND …</td></tr><tr><td>&quot;ERITREA&quot;</td></tr><tr><td>&quot;NEPAL&quot;</td></tr><tr><td>&quot;GERMANY&quot;</td></tr><tr><td>&quot;BENIN&quot;</td></tr><tr><td>&quot;UNITED STATES&quot;</td></tr><tr><td>&quot;COTE D&#x27;IVOIRE&quot;</td></tr><tr><td>&quot;YEMEN REP.&quot;</td></tr><tr><td>&quot;BELGIUM&quot;</td></tr><tr><td>&quot;UNITED KINGDOM…</td></tr><tr><td>&quot;CONGO DEM. REP…</td></tr><tr><td>&quot;CHAD&quot;</td></tr></tbody></table></div>"
            ]
          },
          "metadata": {},
          "execution_count": 121
        }
      ]
    },
    {
      "cell_type": "markdown",
      "source": [
        "## Pobranie statystyki wartości unikalnych\n"
      ],
      "metadata": {
        "id": "4BMpaRH1DmM2"
      }
    },
    {
      "cell_type": "code",
      "source": [
        "df[\"Country\"].value_counts()"
      ],
      "metadata": {
        "colab": {
          "base_uri": "https://localhost:8080/",
          "height": 882
        },
        "id": "GJ4QyU5ADKqS",
        "outputId": "721a9361-47bc-4004-f6c7-6e8a06e6a0d4"
      },
      "execution_count": 122,
      "outputs": [
        {
          "output_type": "execute_result",
          "data": {
            "text/plain": [
              "shape: (142, 2)\n",
              "┌─────────────┬───────┐\n",
              "│ Country     ┆ count │\n",
              "│ ---         ┆ ---   │\n",
              "│ str         ┆ u32   │\n",
              "╞═════════════╪═══════╡\n",
              "│ CAMBODIA    ┆ 12    │\n",
              "│ THAILAND    ┆ 12    │\n",
              "│ TUNISIA     ┆ 12    │\n",
              "│ NIGERIA     ┆ 12    │\n",
              "│ …           ┆ …     │\n",
              "│ EL SALVADOR ┆ 12    │\n",
              "│ ALGERIA     ┆ 12    │\n",
              "│ SYRIA       ┆ 12    │\n",
              "│ BULGARIA    ┆ 12    │\n",
              "└─────────────┴───────┘"
            ],
            "text/html": [
              "<div><style>\n",
              ".dataframe > thead > tr,\n",
              ".dataframe > tbody > tr {\n",
              "  text-align: right;\n",
              "  white-space: pre-wrap;\n",
              "}\n",
              "</style>\n",
              "<small>shape: (142, 2)</small><table border=\"1\" class=\"dataframe\"><thead><tr><th>Country</th><th>count</th></tr><tr><td>str</td><td>u32</td></tr></thead><tbody><tr><td>&quot;CAMBODIA&quot;</td><td>12</td></tr><tr><td>&quot;THAILAND&quot;</td><td>12</td></tr><tr><td>&quot;TUNISIA&quot;</td><td>12</td></tr><tr><td>&quot;NIGERIA&quot;</td><td>12</td></tr><tr><td>&quot;SLOVENIA&quot;</td><td>12</td></tr><tr><td>&quot;CONGO REP.&quot;</td><td>12</td></tr><tr><td>&quot;AUSTRALIA&quot;</td><td>12</td></tr><tr><td>&quot;HUNGARY&quot;</td><td>12</td></tr><tr><td>&quot;HONDURAS&quot;</td><td>12</td></tr><tr><td>&quot;CENTRAL AFRICA…</td><td>12</td></tr><tr><td>&quot;LEBANON&quot;</td><td>12</td></tr><tr><td>&quot;KOREA DEM. REP…</td><td>12</td></tr><tr><td>&hellip;</td><td>&hellip;</td></tr><tr><td>&quot;ZAMBIA&quot;</td><td>12</td></tr><tr><td>&quot;CZECH REPUBLIC…</td><td>12</td></tr><tr><td>&quot;INDIA&quot;</td><td>12</td></tr><tr><td>&quot;MOROCCO&quot;</td><td>12</td></tr><tr><td>&quot;ALBANIA&quot;</td><td>12</td></tr><tr><td>&quot;YEMEN REP.&quot;</td><td>12</td></tr><tr><td>&quot;ARGENTINA&quot;</td><td>12</td></tr><tr><td>&quot;ICELAND&quot;</td><td>12</td></tr><tr><td>&quot;EL SALVADOR&quot;</td><td>12</td></tr><tr><td>&quot;ALGERIA&quot;</td><td>12</td></tr><tr><td>&quot;SYRIA&quot;</td><td>12</td></tr><tr><td>&quot;BULGARIA&quot;</td><td>12</td></tr></tbody></table></div>"
            ]
          },
          "metadata": {},
          "execution_count": 122
        }
      ]
    },
    {
      "cell_type": "markdown",
      "source": [
        "## Filtrowanie danych"
      ],
      "metadata": {
        "id": "N6rp1UVtEKnA"
      }
    },
    {
      "cell_type": "code",
      "source": [
        "# Wybór wierszy spełniających określone warunki\n",
        "df_filtered = df.filter(\n",
        "    (df[\"year\"] > 1957) &\n",
        "    (df[\"lifeExp\"] > 40) &\n",
        "    ~(df[\"pop_range\"] == \"Low\") &\n",
        "    ((df[\"continent\"] == \"Asia\") | (df[\"continent\"] == \"Europe\"))\n",
        ")\n",
        "df_filtered"
      ],
      "metadata": {
        "colab": {
          "base_uri": "https://localhost:8080/",
          "height": 882
        },
        "id": "z35FL4eBDUue",
        "outputId": "5229a96e-5ed0-43dc-f7f4-a928737b2421"
      },
      "execution_count": 123,
      "outputs": [
        {
          "output_type": "execute_result",
          "data": {
            "text/plain": [
              "shape: (118, 7)\n",
              "┌────────────┬──────┬──────────┬───────────┬───────────┬─────────────┬───────────┐\n",
              "│ Country    ┆ year ┆ pop      ┆ continent ┆ lifeExp   ┆ GDP_per_cap ┆ pop_range │\n",
              "│ ---        ┆ ---  ┆ ---      ┆ ---       ┆ ---       ┆ ---         ┆ ---       │\n",
              "│ str        ┆ i16  ┆ i64      ┆ str       ┆ f32       ┆ f64         ┆ str       │\n",
              "╞════════════╪══════╪══════════╪═══════════╪═══════════╪═════════════╪═══════════╡\n",
              "│ BANGLADESH ┆ 1962 ┆ 56839289 ┆ Asia      ┆ 41.216    ┆ 686.341554  ┆ Medium    │\n",
              "│ BANGLADESH ┆ 1967 ┆ 62821884 ┆ Asia      ┆ 43.452999 ┆ 721.186086  ┆ Medium    │\n",
              "│ BANGLADESH ┆ 1972 ┆ 70759295 ┆ Asia      ┆ 45.251999 ┆ 630.233627  ┆ Medium    │\n",
              "│ BANGLADESH ┆ 1977 ┆ 80428306 ┆ Asia      ┆ 46.923    ┆ 659.877232  ┆ Medium    │\n",
              "│ …          ┆ …    ┆ …        ┆ …         ┆ …         ┆ …           ┆ …         │\n",
              "│ VIETNAM    ┆ 1992 ┆ 69940728 ┆ Asia      ┆ 67.662003 ┆ 989.023149  ┆ Medium    │\n",
              "│ VIETNAM    ┆ 1997 ┆ 76048996 ┆ Asia      ┆ 70.671997 ┆ 1385.896769 ┆ Medium    │\n",
              "│ VIETNAM    ┆ 2002 ┆ 80908147 ┆ Asia      ┆ 73.016998 ┆ 1764.456677 ┆ Medium    │\n",
              "│ VIETNAM    ┆ 2007 ┆ 85262356 ┆ Asia      ┆ 74.249001 ┆ 2441.576404 ┆ Medium    │\n",
              "└────────────┴──────┴──────────┴───────────┴───────────┴─────────────┴───────────┘"
            ],
            "text/html": [
              "<div><style>\n",
              ".dataframe > thead > tr,\n",
              ".dataframe > tbody > tr {\n",
              "  text-align: right;\n",
              "  white-space: pre-wrap;\n",
              "}\n",
              "</style>\n",
              "<small>shape: (118, 7)</small><table border=\"1\" class=\"dataframe\"><thead><tr><th>Country</th><th>year</th><th>pop</th><th>continent</th><th>lifeExp</th><th>GDP_per_cap</th><th>pop_range</th></tr><tr><td>str</td><td>i16</td><td>i64</td><td>str</td><td>f32</td><td>f64</td><td>str</td></tr></thead><tbody><tr><td>&quot;BANGLADESH&quot;</td><td>1962</td><td>56839289</td><td>&quot;Asia&quot;</td><td>41.216</td><td>686.341554</td><td>&quot;Medium&quot;</td></tr><tr><td>&quot;BANGLADESH&quot;</td><td>1967</td><td>62821884</td><td>&quot;Asia&quot;</td><td>43.452999</td><td>721.186086</td><td>&quot;Medium&quot;</td></tr><tr><td>&quot;BANGLADESH&quot;</td><td>1972</td><td>70759295</td><td>&quot;Asia&quot;</td><td>45.251999</td><td>630.233627</td><td>&quot;Medium&quot;</td></tr><tr><td>&quot;BANGLADESH&quot;</td><td>1977</td><td>80428306</td><td>&quot;Asia&quot;</td><td>46.923</td><td>659.877232</td><td>&quot;Medium&quot;</td></tr><tr><td>&quot;BANGLADESH&quot;</td><td>1982</td><td>93074406</td><td>&quot;Asia&quot;</td><td>50.008999</td><td>676.981866</td><td>&quot;Medium&quot;</td></tr><tr><td>&quot;BANGLADESH&quot;</td><td>1987</td><td>103764241</td><td>&quot;Asia&quot;</td><td>52.819</td><td>751.979403</td><td>&quot;High&quot;</td></tr><tr><td>&quot;BANGLADESH&quot;</td><td>1992</td><td>113704579</td><td>&quot;Asia&quot;</td><td>56.018002</td><td>837.810164</td><td>&quot;High&quot;</td></tr><tr><td>&quot;BANGLADESH&quot;</td><td>1997</td><td>123315288</td><td>&quot;Asia&quot;</td><td>59.411999</td><td>972.770035</td><td>&quot;High&quot;</td></tr><tr><td>&quot;BANGLADESH&quot;</td><td>2002</td><td>135656790</td><td>&quot;Asia&quot;</td><td>62.013</td><td>1136.39043</td><td>&quot;High&quot;</td></tr><tr><td>&quot;BANGLADESH&quot;</td><td>2007</td><td>150448339</td><td>&quot;Asia&quot;</td><td>64.061996</td><td>1391.253792</td><td>&quot;High&quot;</td></tr><tr><td>&quot;CHINA&quot;</td><td>1962</td><td>665770000</td><td>&quot;Asia&quot;</td><td>44.501362</td><td>487.674018</td><td>&quot;High&quot;</td></tr><tr><td>&quot;CHINA&quot;</td><td>1967</td><td>754550000</td><td>&quot;Asia&quot;</td><td>58.381119</td><td>612.705693</td><td>&quot;High&quot;</td></tr><tr><td>&hellip;</td><td>&hellip;</td><td>&hellip;</td><td>&hellip;</td><td>&hellip;</td><td>&hellip;</td><td>&hellip;</td></tr><tr><td>&quot;UNITED KINGDOM…</td><td>1987</td><td>56981620</td><td>&quot;Europe&quot;</td><td>75.007004</td><td>21664.78767</td><td>&quot;Medium&quot;</td></tr><tr><td>&quot;UNITED KINGDOM…</td><td>1992</td><td>57866349</td><td>&quot;Europe&quot;</td><td>76.419998</td><td>22705.09254</td><td>&quot;Medium&quot;</td></tr><tr><td>&quot;UNITED KINGDOM…</td><td>1997</td><td>58808266</td><td>&quot;Europe&quot;</td><td>77.218002</td><td>26074.53136</td><td>&quot;Medium&quot;</td></tr><tr><td>&quot;UNITED KINGDOM…</td><td>2002</td><td>59912431</td><td>&quot;Europe&quot;</td><td>78.471001</td><td>29478.99919</td><td>&quot;Medium&quot;</td></tr><tr><td>&quot;UNITED KINGDOM…</td><td>2007</td><td>60776238</td><td>&quot;Europe&quot;</td><td>79.425003</td><td>33203.26128</td><td>&quot;Medium&quot;</td></tr><tr><td>&quot;VIETNAM&quot;</td><td>1977</td><td>50533506</td><td>&quot;Asia&quot;</td><td>55.764</td><td>713.53712</td><td>&quot;Medium&quot;</td></tr><tr><td>&quot;VIETNAM&quot;</td><td>1982</td><td>56142181</td><td>&quot;Asia&quot;</td><td>58.816002</td><td>707.235786</td><td>&quot;Medium&quot;</td></tr><tr><td>&quot;VIETNAM&quot;</td><td>1987</td><td>62826491</td><td>&quot;Asia&quot;</td><td>62.82</td><td>820.799445</td><td>&quot;Medium&quot;</td></tr><tr><td>&quot;VIETNAM&quot;</td><td>1992</td><td>69940728</td><td>&quot;Asia&quot;</td><td>67.662003</td><td>989.023149</td><td>&quot;Medium&quot;</td></tr><tr><td>&quot;VIETNAM&quot;</td><td>1997</td><td>76048996</td><td>&quot;Asia&quot;</td><td>70.671997</td><td>1385.896769</td><td>&quot;Medium&quot;</td></tr><tr><td>&quot;VIETNAM&quot;</td><td>2002</td><td>80908147</td><td>&quot;Asia&quot;</td><td>73.016998</td><td>1764.456677</td><td>&quot;Medium&quot;</td></tr><tr><td>&quot;VIETNAM&quot;</td><td>2007</td><td>85262356</td><td>&quot;Asia&quot;</td><td>74.249001</td><td>2441.576404</td><td>&quot;Medium&quot;</td></tr></tbody></table></div>"
            ]
          },
          "metadata": {},
          "execution_count": 123
        }
      ]
    },
    {
      "cell_type": "markdown",
      "source": [
        "## Groupowanie danych"
      ],
      "metadata": {
        "id": "Kb7uU46NEf9G"
      }
    },
    {
      "cell_type": "code",
      "source": [
        "dfg = df.groupby('continent')"
      ],
      "metadata": {
        "id": "xQOR-11WERUk"
      },
      "execution_count": 124,
      "outputs": []
    },
    {
      "cell_type": "markdown",
      "source": [
        "\n",
        "\n",
        "Zliczenie elementów w poszczególnych grupach\n"
      ],
      "metadata": {
        "id": "gdbYUPmEEkQI"
      }
    },
    {
      "cell_type": "code",
      "source": [
        "dfg.count()"
      ],
      "metadata": {
        "colab": {
          "base_uri": "https://localhost:8080/",
          "height": 255
        },
        "id": "Db3a03HwESzs",
        "outputId": "7e3af194-6744-4640-bf0d-5802502fe325"
      },
      "execution_count": 125,
      "outputs": [
        {
          "output_type": "execute_result",
          "data": {
            "text/plain": [
              "shape: (5, 2)\n",
              "┌───────────┬───────┐\n",
              "│ continent ┆ count │\n",
              "│ ---       ┆ ---   │\n",
              "│ str       ┆ u32   │\n",
              "╞═══════════╪═══════╡\n",
              "│ Oceania   ┆ 24    │\n",
              "│ Americas  ┆ 300   │\n",
              "│ Africa    ┆ 624   │\n",
              "│ Europe    ┆ 360   │\n",
              "│ Asia      ┆ 396   │\n",
              "└───────────┴───────┘"
            ],
            "text/html": [
              "<div><style>\n",
              ".dataframe > thead > tr,\n",
              ".dataframe > tbody > tr {\n",
              "  text-align: right;\n",
              "  white-space: pre-wrap;\n",
              "}\n",
              "</style>\n",
              "<small>shape: (5, 2)</small><table border=\"1\" class=\"dataframe\"><thead><tr><th>continent</th><th>count</th></tr><tr><td>str</td><td>u32</td></tr></thead><tbody><tr><td>&quot;Oceania&quot;</td><td>24</td></tr><tr><td>&quot;Americas&quot;</td><td>300</td></tr><tr><td>&quot;Africa&quot;</td><td>624</td></tr><tr><td>&quot;Europe&quot;</td><td>360</td></tr><tr><td>&quot;Asia&quot;</td><td>396</td></tr></tbody></table></div>"
            ]
          },
          "metadata": {},
          "execution_count": 125
        }
      ]
    },
    {
      "cell_type": "markdown",
      "source": [
        "\n",
        "\n",
        "\n",
        "\n",
        "Wykonanie funkcji agregującej"
      ],
      "metadata": {
        "id": "jOiwkos9EouV"
      }
    },
    {
      "cell_type": "code",
      "source": [
        "dfg.agg([\n",
        "    pl.col(\"GDP_per_cap\").mean().alias(\"GDP_per_cap_mean\"),\n",
        "    pl.col(\"lifeExp\").std().alias(\"lifeExp_std\"),\n",
        "])"
      ],
      "metadata": {
        "colab": {
          "base_uri": "https://localhost:8080/",
          "height": 255
        },
        "id": "VHIRnvjSEnBw",
        "outputId": "3b2019a4-b58b-4a47-837d-65c4f664d42e"
      },
      "execution_count": 126,
      "outputs": [
        {
          "output_type": "execute_result",
          "data": {
            "text/plain": [
              "shape: (5, 3)\n",
              "┌───────────┬──────────────────┬─────────────┐\n",
              "│ continent ┆ GDP_per_cap_mean ┆ lifeExp_std │\n",
              "│ ---       ┆ ---              ┆ ---         │\n",
              "│ str       ┆ f64              ┆ f32         │\n",
              "╞═══════════╪══════════════════╪═════════════╡\n",
              "│ Americas  ┆ 7136.110356      ┆ 9.345088    │\n",
              "│ Oceania   ┆ 18621.609223     ┆ 3.795612    │\n",
              "│ Africa    ┆ 2193.754578      ┆ 9.15021     │\n",
              "│ Asia      ┆ 7902.150428      ┆ 11.864532   │\n",
              "│ Europe    ┆ 14469.475533     ┆ 5.433178    │\n",
              "└───────────┴──────────────────┴─────────────┘"
            ],
            "text/html": [
              "<div><style>\n",
              ".dataframe > thead > tr,\n",
              ".dataframe > tbody > tr {\n",
              "  text-align: right;\n",
              "  white-space: pre-wrap;\n",
              "}\n",
              "</style>\n",
              "<small>shape: (5, 3)</small><table border=\"1\" class=\"dataframe\"><thead><tr><th>continent</th><th>GDP_per_cap_mean</th><th>lifeExp_std</th></tr><tr><td>str</td><td>f64</td><td>f32</td></tr></thead><tbody><tr><td>&quot;Americas&quot;</td><td>7136.110356</td><td>9.345088</td></tr><tr><td>&quot;Oceania&quot;</td><td>18621.609223</td><td>3.795612</td></tr><tr><td>&quot;Africa&quot;</td><td>2193.754578</td><td>9.15021</td></tr><tr><td>&quot;Asia&quot;</td><td>7902.150428</td><td>11.864532</td></tr><tr><td>&quot;Europe&quot;</td><td>14469.475533</td><td>5.433178</td></tr></tbody></table></div>"
            ]
          },
          "metadata": {},
          "execution_count": 126
        }
      ]
    },
    {
      "cell_type": "markdown",
      "source": [
        "\n",
        "\n",
        "Pobranie top wartości z każdej grupy dla wartości z zadanej kolumny"
      ],
      "metadata": {
        "id": "xEia_XsLHTT3"
      }
    },
    {
      "cell_type": "code",
      "source": [
        "df.sort(\"lifeExp\", descending=True).groupby(\"continent\").first()"
      ],
      "metadata": {
        "colab": {
          "base_uri": "https://localhost:8080/",
          "height": 255
        },
        "id": "-_KaY4taErx0",
        "outputId": "dd81061d-c233-43dc-b5c8-ed0244bfb8ed"
      },
      "execution_count": 127,
      "outputs": [
        {
          "output_type": "execute_result",
          "data": {
            "text/plain": [
              "shape: (5, 7)\n",
              "┌───────────┬───────────┬──────┬───────────┬───────────┬─────────────┬───────────┐\n",
              "│ continent ┆ Country   ┆ year ┆ pop       ┆ lifeExp   ┆ GDP_per_cap ┆ pop_range │\n",
              "│ ---       ┆ ---       ┆ ---  ┆ ---       ┆ ---       ┆ ---         ┆ ---       │\n",
              "│ str       ┆ str       ┆ i16  ┆ i64       ┆ f32       ┆ f64         ┆ str       │\n",
              "╞═══════════╪═══════════╪══════╪═══════════╪═══════════╪═════════════╪═══════════╡\n",
              "│ Africa    ┆ REUNION   ┆ 2007 ┆ 798094    ┆ 76.442001 ┆ 7670.122558 ┆ Low       │\n",
              "│ Oceania   ┆ AUSTRALIA ┆ 2007 ┆ 20434176  ┆ 81.235001 ┆ 34435.36744 ┆ Low       │\n",
              "│ Asia      ┆ JAPAN     ┆ 2007 ┆ 127467972 ┆ 82.602997 ┆ 31656.06806 ┆ High      │\n",
              "│ Americas  ┆ CANADA    ┆ 2007 ┆ 33390141  ┆ 80.653    ┆ 36319.23501 ┆ Low       │\n",
              "│ Europe    ┆ ICELAND   ┆ 2007 ┆ 301931    ┆ 81.757004 ┆ 36180.78919 ┆ Low       │\n",
              "└───────────┴───────────┴──────┴───────────┴───────────┴─────────────┴───────────┘"
            ],
            "text/html": [
              "<div><style>\n",
              ".dataframe > thead > tr,\n",
              ".dataframe > tbody > tr {\n",
              "  text-align: right;\n",
              "  white-space: pre-wrap;\n",
              "}\n",
              "</style>\n",
              "<small>shape: (5, 7)</small><table border=\"1\" class=\"dataframe\"><thead><tr><th>continent</th><th>Country</th><th>year</th><th>pop</th><th>lifeExp</th><th>GDP_per_cap</th><th>pop_range</th></tr><tr><td>str</td><td>str</td><td>i16</td><td>i64</td><td>f32</td><td>f64</td><td>str</td></tr></thead><tbody><tr><td>&quot;Africa&quot;</td><td>&quot;REUNION&quot;</td><td>2007</td><td>798094</td><td>76.442001</td><td>7670.122558</td><td>&quot;Low&quot;</td></tr><tr><td>&quot;Oceania&quot;</td><td>&quot;AUSTRALIA&quot;</td><td>2007</td><td>20434176</td><td>81.235001</td><td>34435.36744</td><td>&quot;Low&quot;</td></tr><tr><td>&quot;Asia&quot;</td><td>&quot;JAPAN&quot;</td><td>2007</td><td>127467972</td><td>82.602997</td><td>31656.06806</td><td>&quot;High&quot;</td></tr><tr><td>&quot;Americas&quot;</td><td>&quot;CANADA&quot;</td><td>2007</td><td>33390141</td><td>80.653</td><td>36319.23501</td><td>&quot;Low&quot;</td></tr><tr><td>&quot;Europe&quot;</td><td>&quot;ICELAND&quot;</td><td>2007</td><td>301931</td><td>81.757004</td><td>36180.78919</td><td>&quot;Low&quot;</td></tr></tbody></table></div>"
            ]
          },
          "metadata": {},
          "execution_count": 127
        }
      ]
    },
    {
      "cell_type": "markdown",
      "source": [
        "## Deduplikacja danych"
      ],
      "metadata": {
        "id": "MSO56x5M8_KO"
      }
    },
    {
      "cell_type": "markdown",
      "source": [
        "\n",
        "\n",
        "Znajdowanie duplikatów"
      ],
      "metadata": {
        "id": "fs4c3_Lc9YHc"
      }
    },
    {
      "cell_type": "code",
      "source": [
        "df.is_duplicated().sum()"
      ],
      "metadata": {
        "colab": {
          "base_uri": "https://localhost:8080/"
        },
        "id": "MCejwGrCHZrw",
        "outputId": "68ec9832-2099-4b88-e344-74196d5c923e"
      },
      "execution_count": 128,
      "outputs": [
        {
          "output_type": "execute_result",
          "data": {
            "text/plain": [
              "0"
            ]
          },
          "metadata": {},
          "execution_count": 128
        }
      ]
    },
    {
      "cell_type": "markdown",
      "source": [
        "\n",
        "\n",
        "Pokaż zduplikowane rekordy\n",
        "\n"
      ],
      "metadata": {
        "id": "s0_ohbne9c6f"
      }
    },
    {
      "cell_type": "code",
      "source": [
        "df.filter(df.is_duplicated())"
      ],
      "metadata": {
        "colab": {
          "base_uri": "https://localhost:8080/",
          "height": 98
        },
        "id": "Nhn3d6-MFk2L",
        "outputId": "53a2a6d6-1b7d-42f1-fcf5-fbeeee244925"
      },
      "execution_count": 129,
      "outputs": [
        {
          "output_type": "execute_result",
          "data": {
            "text/plain": [
              "shape: (0, 7)\n",
              "┌─────────┬──────┬─────┬───────────┬─────────┬─────────────┬───────────┐\n",
              "│ Country ┆ year ┆ pop ┆ continent ┆ lifeExp ┆ GDP_per_cap ┆ pop_range │\n",
              "│ ---     ┆ ---  ┆ --- ┆ ---       ┆ ---     ┆ ---         ┆ ---       │\n",
              "│ str     ┆ i16  ┆ i64 ┆ str       ┆ f32     ┆ f64         ┆ str       │\n",
              "╞═════════╪══════╪═════╪═══════════╪═════════╪═════════════╪═══════════╡\n",
              "└─────────┴──────┴─────┴───────────┴─────────┴─────────────┴───────────┘"
            ],
            "text/html": [
              "<div><style>\n",
              ".dataframe > thead > tr,\n",
              ".dataframe > tbody > tr {\n",
              "  text-align: right;\n",
              "  white-space: pre-wrap;\n",
              "}\n",
              "</style>\n",
              "<small>shape: (0, 7)</small><table border=\"1\" class=\"dataframe\"><thead><tr><th>Country</th><th>year</th><th>pop</th><th>continent</th><th>lifeExp</th><th>GDP_per_cap</th><th>pop_range</th></tr><tr><td>str</td><td>i16</td><td>i64</td><td>str</td><td>f32</td><td>f64</td><td>str</td></tr></thead><tbody></tbody></table></div>"
            ]
          },
          "metadata": {},
          "execution_count": 129
        }
      ]
    },
    {
      "cell_type": "code",
      "source": [
        "# Wybierz kolumny, na podstawie których chcesz znaleźć duplikaty\n",
        "selected_columns = [\"Country\"]  # Zastąp odpowiednimi nazwami kolumn\n",
        "\n",
        "# Grupowanie danych na podstawie wybranych kolumn i zliczanie liczby wystąpień\n",
        "grouped = df.groupby(selected_columns).agg([\n",
        "    pl.count().alias(\"count\")\n",
        "])\n",
        "\n",
        "# Filtrowanie grup, które mają więcej niż jedno wystąpienie\n",
        "duplicates = grouped.filter(grouped[\"count\"] > 1)\n",
        "\n",
        "# Wyświetlanie grup zduplikowanych rekordów\n",
        "print(duplicates)"
      ],
      "metadata": {
        "colab": {
          "base_uri": "https://localhost:8080/"
        },
        "id": "CgUAbmv09Dzb",
        "outputId": "f85813ef-8581-4bf6-e4c1-3d2a7e99d64e"
      },
      "execution_count": 130,
      "outputs": [
        {
          "output_type": "stream",
          "name": "stdout",
          "text": [
            "shape: (142, 2)\n",
            "┌────────────────────┬───────┐\n",
            "│ Country            ┆ count │\n",
            "│ ---                ┆ ---   │\n",
            "│ str                ┆ u32   │\n",
            "╞════════════════════╪═══════╡\n",
            "│ EQUATORIAL GUINEA  ┆ 12    │\n",
            "│ NETHERLANDS        ┆ 12    │\n",
            "│ HONDURAS           ┆ 12    │\n",
            "│ BURKINA FASO       ┆ 12    │\n",
            "│ …                  ┆ …     │\n",
            "│ LIBERIA            ┆ 12    │\n",
            "│ CHILE              ┆ 12    │\n",
            "│ TUNISIA            ┆ 12    │\n",
            "│ WEST BANK AND GAZA ┆ 12    │\n",
            "└────────────────────┴───────┘\n"
          ]
        }
      ]
    },
    {
      "cell_type": "markdown",
      "source": [
        "usuń duplikaty"
      ],
      "metadata": {
        "id": "UsMDJzeWG7yE"
      }
    },
    {
      "cell_type": "code",
      "source": [
        "df.unique()"
      ],
      "metadata": {
        "colab": {
          "base_uri": "https://localhost:8080/",
          "height": 882
        },
        "id": "Co68uX8g-Qgw",
        "outputId": "1b1bb1d9-e748-4cde-fec4-48f43c630cca"
      },
      "execution_count": 131,
      "outputs": [
        {
          "output_type": "execute_result",
          "data": {
            "text/plain": [
              "shape: (1_704, 7)\n",
              "┌─────────────┬──────┬──────────┬───────────┬───────────┬─────────────┬───────────┐\n",
              "│ Country     ┆ year ┆ pop      ┆ continent ┆ lifeExp   ┆ GDP_per_cap ┆ pop_range │\n",
              "│ ---         ┆ ---  ┆ ---      ┆ ---       ┆ ---       ┆ ---         ┆ ---       │\n",
              "│ str         ┆ i16  ┆ i64      ┆ str       ┆ f32       ┆ f64         ┆ str       │\n",
              "╞═════════════╪══════╪══════════╪═══════════╪═══════════╪═════════════╪═══════════╡\n",
              "│ AFGHANISTAN ┆ 1952 ┆ 8425333  ┆ Asia      ┆ 28.801001 ┆ 779.445314  ┆ Low       │\n",
              "│ AFGHANISTAN ┆ 1957 ┆ 9240934  ┆ Asia      ┆ 30.332001 ┆ 820.85303   ┆ Low       │\n",
              "│ AFGHANISTAN ┆ 1962 ┆ 10267083 ┆ Asia      ┆ 31.997    ┆ 853.10071   ┆ Low       │\n",
              "│ AFGHANISTAN ┆ 1972 ┆ 13079460 ┆ Asia      ┆ 36.088001 ┆ 739.981106  ┆ Low       │\n",
              "│ …           ┆ …    ┆ …        ┆ …         ┆ …         ┆ …           ┆ …         │\n",
              "│ ZIMBABWE    ┆ 1967 ┆ 4995432  ┆ Africa    ┆ 53.994999 ┆ 569.795071  ┆ Low       │\n",
              "│ ZIMBABWE    ┆ 1977 ┆ 6642107  ┆ Africa    ┆ 57.674    ┆ 685.587682  ┆ Low       │\n",
              "│ ZIMBABWE    ┆ 1987 ┆ 9216418  ┆ Africa    ┆ 62.351002 ┆ 706.157306  ┆ Low       │\n",
              "│ ZIMBABWE    ┆ 2007 ┆ 12311143 ┆ Africa    ┆ 43.487    ┆ 469.709298  ┆ Low       │\n",
              "└─────────────┴──────┴──────────┴───────────┴───────────┴─────────────┴───────────┘"
            ],
            "text/html": [
              "<div><style>\n",
              ".dataframe > thead > tr,\n",
              ".dataframe > tbody > tr {\n",
              "  text-align: right;\n",
              "  white-space: pre-wrap;\n",
              "}\n",
              "</style>\n",
              "<small>shape: (1_704, 7)</small><table border=\"1\" class=\"dataframe\"><thead><tr><th>Country</th><th>year</th><th>pop</th><th>continent</th><th>lifeExp</th><th>GDP_per_cap</th><th>pop_range</th></tr><tr><td>str</td><td>i16</td><td>i64</td><td>str</td><td>f32</td><td>f64</td><td>str</td></tr></thead><tbody><tr><td>&quot;AFGHANISTAN&quot;</td><td>1952</td><td>8425333</td><td>&quot;Asia&quot;</td><td>28.801001</td><td>779.445314</td><td>&quot;Low&quot;</td></tr><tr><td>&quot;AFGHANISTAN&quot;</td><td>1957</td><td>9240934</td><td>&quot;Asia&quot;</td><td>30.332001</td><td>820.85303</td><td>&quot;Low&quot;</td></tr><tr><td>&quot;AFGHANISTAN&quot;</td><td>1962</td><td>10267083</td><td>&quot;Asia&quot;</td><td>31.997</td><td>853.10071</td><td>&quot;Low&quot;</td></tr><tr><td>&quot;AFGHANISTAN&quot;</td><td>1972</td><td>13079460</td><td>&quot;Asia&quot;</td><td>36.088001</td><td>739.981106</td><td>&quot;Low&quot;</td></tr><tr><td>&quot;AFGHANISTAN&quot;</td><td>1977</td><td>14880372</td><td>&quot;Asia&quot;</td><td>38.438</td><td>786.11336</td><td>&quot;Low&quot;</td></tr><tr><td>&quot;AFGHANISTAN&quot;</td><td>1987</td><td>13867957</td><td>&quot;Asia&quot;</td><td>40.821999</td><td>852.395945</td><td>&quot;Low&quot;</td></tr><tr><td>&quot;AFGHANISTAN&quot;</td><td>2002</td><td>25268405</td><td>&quot;Asia&quot;</td><td>42.129002</td><td>726.734055</td><td>&quot;Low&quot;</td></tr><tr><td>&quot;ALBANIA&quot;</td><td>1952</td><td>1282697</td><td>&quot;Europe&quot;</td><td>55.23</td><td>1601.056136</td><td>&quot;Low&quot;</td></tr><tr><td>&quot;ALBANIA&quot;</td><td>1967</td><td>1984060</td><td>&quot;Europe&quot;</td><td>66.220001</td><td>2760.196931</td><td>&quot;Low&quot;</td></tr><tr><td>&quot;ALBANIA&quot;</td><td>1972</td><td>2263554</td><td>&quot;Europe&quot;</td><td>67.690002</td><td>3313.422188</td><td>&quot;Low&quot;</td></tr><tr><td>&quot;ALBANIA&quot;</td><td>1977</td><td>2509048</td><td>&quot;Europe&quot;</td><td>68.93</td><td>3533.00391</td><td>&quot;Low&quot;</td></tr><tr><td>&quot;ALBANIA&quot;</td><td>1997</td><td>3428038</td><td>&quot;Europe&quot;</td><td>72.949997</td><td>3193.054604</td><td>&quot;Low&quot;</td></tr><tr><td>&hellip;</td><td>&hellip;</td><td>&hellip;</td><td>&hellip;</td><td>&hellip;</td><td>&hellip;</td><td>&hellip;</td></tr><tr><td>&quot;YEMEN REP.&quot;</td><td>1982</td><td>9657618</td><td>&quot;Asia&quot;</td><td>49.112999</td><td>1977.55701</td><td>&quot;Low&quot;</td></tr><tr><td>&quot;YEMEN REP.&quot;</td><td>2007</td><td>22211743</td><td>&quot;Asia&quot;</td><td>62.698002</td><td>2280.769906</td><td>&quot;Low&quot;</td></tr><tr><td>&quot;ZAMBIA&quot;</td><td>1952</td><td>2672000</td><td>&quot;Africa&quot;</td><td>42.037998</td><td>1147.388831</td><td>&quot;Low&quot;</td></tr><tr><td>&quot;ZAMBIA&quot;</td><td>1957</td><td>3016000</td><td>&quot;Africa&quot;</td><td>44.077</td><td>1311.956766</td><td>&quot;Low&quot;</td></tr><tr><td>&quot;ZAMBIA&quot;</td><td>1962</td><td>3421000</td><td>&quot;Africa&quot;</td><td>46.022999</td><td>1452.725766</td><td>&quot;Low&quot;</td></tr><tr><td>&quot;ZAMBIA&quot;</td><td>1972</td><td>4506497</td><td>&quot;Africa&quot;</td><td>50.106998</td><td>1773.498265</td><td>&quot;Low&quot;</td></tr><tr><td>&quot;ZAMBIA&quot;</td><td>2002</td><td>10595811</td><td>&quot;Africa&quot;</td><td>39.193001</td><td>1071.613938</td><td>&quot;Low&quot;</td></tr><tr><td>&quot;ZIMBABWE&quot;</td><td>1952</td><td>3080907</td><td>&quot;Africa&quot;</td><td>48.451</td><td>406.884115</td><td>&quot;Low&quot;</td></tr><tr><td>&quot;ZIMBABWE&quot;</td><td>1967</td><td>4995432</td><td>&quot;Africa&quot;</td><td>53.994999</td><td>569.795071</td><td>&quot;Low&quot;</td></tr><tr><td>&quot;ZIMBABWE&quot;</td><td>1977</td><td>6642107</td><td>&quot;Africa&quot;</td><td>57.674</td><td>685.587682</td><td>&quot;Low&quot;</td></tr><tr><td>&quot;ZIMBABWE&quot;</td><td>1987</td><td>9216418</td><td>&quot;Africa&quot;</td><td>62.351002</td><td>706.157306</td><td>&quot;Low&quot;</td></tr><tr><td>&quot;ZIMBABWE&quot;</td><td>2007</td><td>12311143</td><td>&quot;Africa&quot;</td><td>43.487</td><td>469.709298</td><td>&quot;Low&quot;</td></tr></tbody></table></div>"
            ]
          },
          "metadata": {},
          "execution_count": 131
        }
      ]
    },
    {
      "cell_type": "code",
      "source": [
        "# Usuń duplikaty na podstawie kryterium kolumn, pozostaw tylko ostanie wystąpienie\n",
        "\n",
        "df.unique(subset=\"Country\", keep=\"last\")"
      ],
      "metadata": {
        "colab": {
          "base_uri": "https://localhost:8080/",
          "height": 882
        },
        "id": "yzyX9SBSGCJ-",
        "outputId": "37c7ae1a-2e7b-49dc-d524-44a02413553f"
      },
      "execution_count": 132,
      "outputs": [
        {
          "output_type": "execute_result",
          "data": {
            "text/plain": [
              "shape: (142, 7)\n",
              "┌───────────────────────┬──────┬──────────┬───────────┬───────────┬─────────────┬───────────┐\n",
              "│ Country               ┆ year ┆ pop      ┆ continent ┆ lifeExp   ┆ GDP_per_cap ┆ pop_range │\n",
              "│ ---                   ┆ ---  ┆ ---      ┆ ---       ┆ ---       ┆ ---         ┆ ---       │\n",
              "│ str                   ┆ i16  ┆ i64      ┆ str       ┆ f32       ┆ f64         ┆ str       │\n",
              "╞═══════════════════════╪══════╪══════════╪═══════════╪═══════════╪═════════════╪═══════════╡\n",
              "│ ISRAEL                ┆ 2007 ┆ 6426679  ┆ Asia      ┆ 80.745003 ┆ 25523.2771  ┆ Low       │\n",
              "│ MALI                  ┆ 2007 ┆ 12031795 ┆ Africa    ┆ 54.466999 ┆ 1042.581557 ┆ Low       │\n",
              "│ REUNION               ┆ 2007 ┆ 798094   ┆ Africa    ┆ 76.442001 ┆ 7670.122558 ┆ Low       │\n",
              "│ DOMINICAN REPUBLIC    ┆ 2007 ┆ 9319622  ┆ Americas  ┆ 72.235001 ┆ 6025.374752 ┆ Low       │\n",
              "│ …                     ┆ …    ┆ …        ┆ …         ┆ …         ┆ …           ┆ …         │\n",
              "│ SLOVAK REPUBLIC       ┆ 2007 ┆ 5447502  ┆ Europe    ┆ 74.663002 ┆ 18678.31435 ┆ Low       │\n",
              "│ MAURITIUS             ┆ 2007 ┆ 1250882  ┆ Africa    ┆ 72.801003 ┆ 10956.99112 ┆ Low       │\n",
              "│ SAO TOME AND PRINCIPE ┆ 2007 ┆ 199579   ┆ Africa    ┆ 65.528    ┆ 1598.435089 ┆ Low       │\n",
              "│ JAMAICA               ┆ 2007 ┆ 2780132  ┆ Americas  ┆ 72.567001 ┆ 7320.880262 ┆ Low       │\n",
              "└───────────────────────┴──────┴──────────┴───────────┴───────────┴─────────────┴───────────┘"
            ],
            "text/html": [
              "<div><style>\n",
              ".dataframe > thead > tr,\n",
              ".dataframe > tbody > tr {\n",
              "  text-align: right;\n",
              "  white-space: pre-wrap;\n",
              "}\n",
              "</style>\n",
              "<small>shape: (142, 7)</small><table border=\"1\" class=\"dataframe\"><thead><tr><th>Country</th><th>year</th><th>pop</th><th>continent</th><th>lifeExp</th><th>GDP_per_cap</th><th>pop_range</th></tr><tr><td>str</td><td>i16</td><td>i64</td><td>str</td><td>f32</td><td>f64</td><td>str</td></tr></thead><tbody><tr><td>&quot;ISRAEL&quot;</td><td>2007</td><td>6426679</td><td>&quot;Asia&quot;</td><td>80.745003</td><td>25523.2771</td><td>&quot;Low&quot;</td></tr><tr><td>&quot;MALI&quot;</td><td>2007</td><td>12031795</td><td>&quot;Africa&quot;</td><td>54.466999</td><td>1042.581557</td><td>&quot;Low&quot;</td></tr><tr><td>&quot;REUNION&quot;</td><td>2007</td><td>798094</td><td>&quot;Africa&quot;</td><td>76.442001</td><td>7670.122558</td><td>&quot;Low&quot;</td></tr><tr><td>&quot;DOMINICAN REPU…</td><td>2007</td><td>9319622</td><td>&quot;Americas&quot;</td><td>72.235001</td><td>6025.374752</td><td>&quot;Low&quot;</td></tr><tr><td>&quot;UNITED STATES&quot;</td><td>2007</td><td>301139947</td><td>&quot;Americas&quot;</td><td>78.241997</td><td>42951.65309</td><td>&quot;High&quot;</td></tr><tr><td>&quot;AFGHANISTAN&quot;</td><td>2007</td><td>31889923</td><td>&quot;Asia&quot;</td><td>43.827999</td><td>974.580338</td><td>&quot;Low&quot;</td></tr><tr><td>&quot;BELGIUM&quot;</td><td>2007</td><td>10392226</td><td>&quot;Europe&quot;</td><td>79.441002</td><td>33692.60508</td><td>&quot;Low&quot;</td></tr><tr><td>&quot;MYANMAR&quot;</td><td>2007</td><td>47761980</td><td>&quot;Asia&quot;</td><td>62.069</td><td>944.0</td><td>&quot;Low&quot;</td></tr><tr><td>&quot;WEST BANK AND …</td><td>2007</td><td>4018332</td><td>&quot;Asia&quot;</td><td>73.421997</td><td>3025.349798</td><td>&quot;Low&quot;</td></tr><tr><td>&quot;MALAWI&quot;</td><td>2007</td><td>13327079</td><td>&quot;Africa&quot;</td><td>48.303001</td><td>759.34991</td><td>&quot;Low&quot;</td></tr><tr><td>&quot;MONTENEGRO&quot;</td><td>2007</td><td>684736</td><td>&quot;Europe&quot;</td><td>74.542999</td><td>9253.896111</td><td>&quot;Low&quot;</td></tr><tr><td>&quot;CUBA&quot;</td><td>2007</td><td>11416987</td><td>&quot;Americas&quot;</td><td>78.273003</td><td>8948.102923</td><td>&quot;Low&quot;</td></tr><tr><td>&hellip;</td><td>&hellip;</td><td>&hellip;</td><td>&hellip;</td><td>&hellip;</td><td>&hellip;</td><td>&hellip;</td></tr><tr><td>&quot;NORWAY&quot;</td><td>2007</td><td>4627926</td><td>&quot;Europe&quot;</td><td>80.195999</td><td>49357.19017</td><td>&quot;Low&quot;</td></tr><tr><td>&quot;KOREA DEM. REP…</td><td>2007</td><td>23301725</td><td>&quot;Asia&quot;</td><td>67.296997</td><td>1593.06548</td><td>&quot;Low&quot;</td></tr><tr><td>&quot;DJIBOUTI&quot;</td><td>2007</td><td>496374</td><td>&quot;Africa&quot;</td><td>54.791</td><td>2082.481567</td><td>&quot;Low&quot;</td></tr><tr><td>&quot;CENTRAL AFRICA…</td><td>2007</td><td>4369038</td><td>&quot;Africa&quot;</td><td>44.741001</td><td>706.016537</td><td>&quot;Low&quot;</td></tr><tr><td>&quot;PUERTO RICO&quot;</td><td>2007</td><td>3942491</td><td>&quot;Americas&quot;</td><td>78.746002</td><td>19328.70901</td><td>&quot;Low&quot;</td></tr><tr><td>&quot;COMOROS&quot;</td><td>2007</td><td>710960</td><td>&quot;Africa&quot;</td><td>65.152</td><td>986.147879</td><td>&quot;Low&quot;</td></tr><tr><td>&quot;BRAZIL&quot;</td><td>2007</td><td>190010647</td><td>&quot;Americas&quot;</td><td>72.389999</td><td>9065.800825</td><td>&quot;High&quot;</td></tr><tr><td>&quot;LESOTHO&quot;</td><td>2007</td><td>2012649</td><td>&quot;Africa&quot;</td><td>42.591999</td><td>1569.331442</td><td>&quot;Low&quot;</td></tr><tr><td>&quot;SLOVAK REPUBLI…</td><td>2007</td><td>5447502</td><td>&quot;Europe&quot;</td><td>74.663002</td><td>18678.31435</td><td>&quot;Low&quot;</td></tr><tr><td>&quot;MAURITIUS&quot;</td><td>2007</td><td>1250882</td><td>&quot;Africa&quot;</td><td>72.801003</td><td>10956.99112</td><td>&quot;Low&quot;</td></tr><tr><td>&quot;SAO TOME AND P…</td><td>2007</td><td>199579</td><td>&quot;Africa&quot;</td><td>65.528</td><td>1598.435089</td><td>&quot;Low&quot;</td></tr><tr><td>&quot;JAMAICA&quot;</td><td>2007</td><td>2780132</td><td>&quot;Americas&quot;</td><td>72.567001</td><td>7320.880262</td><td>&quot;Low&quot;</td></tr></tbody></table></div>"
            ]
          },
          "metadata": {},
          "execution_count": 132
        }
      ]
    },
    {
      "cell_type": "markdown",
      "source": [
        "## Budowanie rankingu"
      ],
      "metadata": {
        "id": "NSHP53ztMdqh"
      }
    },
    {
      "cell_type": "code",
      "source": [
        "df.filter(df[\"year\"]==2007).with_columns([pl.col(\"lifeExp\").rank(method=\"average\").alias(\"rank\")]).sort(\"rank\")"
      ],
      "metadata": {
        "colab": {
          "base_uri": "https://localhost:8080/",
          "height": 882
        },
        "id": "Bbj1gwBnHSfI",
        "outputId": "97bd693b-0eac-41f3-d638-5d4b2ec41032"
      },
      "execution_count": 133,
      "outputs": [
        {
          "output_type": "execute_result",
          "data": {
            "text/plain": [
              "shape: (142, 8)\n",
              "┌─────────────────┬──────┬───────────┬───────────┬───────────┬─────────────┬───────────┬───────┐\n",
              "│ Country         ┆ year ┆ pop       ┆ continent ┆ lifeExp   ┆ GDP_per_cap ┆ pop_range ┆ rank  │\n",
              "│ ---             ┆ ---  ┆ ---       ┆ ---       ┆ ---       ┆ ---         ┆ ---       ┆ ---   │\n",
              "│ str             ┆ i16  ┆ i64       ┆ str       ┆ f32       ┆ f64         ┆ str       ┆ f64   │\n",
              "╞═════════════════╪══════╪═══════════╪═══════════╪═══════════╪═════════════╪═══════════╪═══════╡\n",
              "│ SWAZILAND       ┆ 2007 ┆ 1133066   ┆ Africa    ┆ 39.612999 ┆ 4513.480643 ┆ Low       ┆ 1.0   │\n",
              "│ MOZAMBIQUE      ┆ 2007 ┆ 19951656  ┆ Africa    ┆ 42.082001 ┆ 823.685621  ┆ Low       ┆ 2.0   │\n",
              "│ ZAMBIA          ┆ 2007 ┆ 11746035  ┆ Africa    ┆ 42.383999 ┆ 1271.211593 ┆ Low       ┆ 3.0   │\n",
              "│ SIERRA LEONE    ┆ 2007 ┆ 6144562   ┆ Africa    ┆ 42.568001 ┆ 862.540756  ┆ Low       ┆ 4.0   │\n",
              "│ …               ┆ …    ┆ …         ┆ …         ┆ …         ┆ …           ┆ …         ┆ …     │\n",
              "│ SWITZERLAND     ┆ 2007 ┆ 7554661   ┆ Europe    ┆ 81.700996 ┆ 37506.41907 ┆ Low       ┆ 139.0 │\n",
              "│ ICELAND         ┆ 2007 ┆ 301931    ┆ Europe    ┆ 81.757004 ┆ 36180.78919 ┆ Low       ┆ 140.0 │\n",
              "│ HONG KONG CHINA ┆ 2007 ┆ 6980412   ┆ Asia      ┆ 82.208    ┆ 39724.97867 ┆ Low       ┆ 141.0 │\n",
              "│ JAPAN           ┆ 2007 ┆ 127467972 ┆ Asia      ┆ 82.602997 ┆ 31656.06806 ┆ High      ┆ 142.0 │\n",
              "└─────────────────┴──────┴───────────┴───────────┴───────────┴─────────────┴───────────┴───────┘"
            ],
            "text/html": [
              "<div><style>\n",
              ".dataframe > thead > tr,\n",
              ".dataframe > tbody > tr {\n",
              "  text-align: right;\n",
              "  white-space: pre-wrap;\n",
              "}\n",
              "</style>\n",
              "<small>shape: (142, 8)</small><table border=\"1\" class=\"dataframe\"><thead><tr><th>Country</th><th>year</th><th>pop</th><th>continent</th><th>lifeExp</th><th>GDP_per_cap</th><th>pop_range</th><th>rank</th></tr><tr><td>str</td><td>i16</td><td>i64</td><td>str</td><td>f32</td><td>f64</td><td>str</td><td>f64</td></tr></thead><tbody><tr><td>&quot;SWAZILAND&quot;</td><td>2007</td><td>1133066</td><td>&quot;Africa&quot;</td><td>39.612999</td><td>4513.480643</td><td>&quot;Low&quot;</td><td>1.0</td></tr><tr><td>&quot;MOZAMBIQUE&quot;</td><td>2007</td><td>19951656</td><td>&quot;Africa&quot;</td><td>42.082001</td><td>823.685621</td><td>&quot;Low&quot;</td><td>2.0</td></tr><tr><td>&quot;ZAMBIA&quot;</td><td>2007</td><td>11746035</td><td>&quot;Africa&quot;</td><td>42.383999</td><td>1271.211593</td><td>&quot;Low&quot;</td><td>3.0</td></tr><tr><td>&quot;SIERRA LEONE&quot;</td><td>2007</td><td>6144562</td><td>&quot;Africa&quot;</td><td>42.568001</td><td>862.540756</td><td>&quot;Low&quot;</td><td>4.0</td></tr><tr><td>&quot;LESOTHO&quot;</td><td>2007</td><td>2012649</td><td>&quot;Africa&quot;</td><td>42.591999</td><td>1569.331442</td><td>&quot;Low&quot;</td><td>5.0</td></tr><tr><td>&quot;ANGOLA&quot;</td><td>2007</td><td>12420476</td><td>&quot;Africa&quot;</td><td>42.730999</td><td>4797.231267</td><td>&quot;Low&quot;</td><td>6.0</td></tr><tr><td>&quot;ZIMBABWE&quot;</td><td>2007</td><td>12311143</td><td>&quot;Africa&quot;</td><td>43.487</td><td>469.709298</td><td>&quot;Low&quot;</td><td>7.0</td></tr><tr><td>&quot;AFGHANISTAN&quot;</td><td>2007</td><td>31889923</td><td>&quot;Asia&quot;</td><td>43.827999</td><td>974.580338</td><td>&quot;Low&quot;</td><td>8.0</td></tr><tr><td>&quot;CENTRAL AFRICA…</td><td>2007</td><td>4369038</td><td>&quot;Africa&quot;</td><td>44.741001</td><td>706.016537</td><td>&quot;Low&quot;</td><td>9.0</td></tr><tr><td>&quot;LIBERIA&quot;</td><td>2007</td><td>3193942</td><td>&quot;Africa&quot;</td><td>45.678001</td><td>414.507341</td><td>&quot;Low&quot;</td><td>10.0</td></tr><tr><td>&quot;RWANDA&quot;</td><td>2007</td><td>8860588</td><td>&quot;Africa&quot;</td><td>46.242001</td><td>863.088464</td><td>&quot;Low&quot;</td><td>11.0</td></tr><tr><td>&quot;GUINEA-BISSAU&quot;</td><td>2007</td><td>1472041</td><td>&quot;Africa&quot;</td><td>46.388</td><td>579.231743</td><td>&quot;Low&quot;</td><td>12.0</td></tr><tr><td>&hellip;</td><td>&hellip;</td><td>&hellip;</td><td>&hellip;</td><td>&hellip;</td><td>&hellip;</td><td>&hellip;</td><td>&hellip;</td></tr><tr><td>&quot;NEW ZEALAND&quot;</td><td>2007</td><td>4115771</td><td>&quot;Oceania&quot;</td><td>80.204002</td><td>25185.00911</td><td>&quot;Low&quot;</td><td>131.0</td></tr><tr><td>&quot;ITALY&quot;</td><td>2007</td><td>58147733</td><td>&quot;Europe&quot;</td><td>80.545998</td><td>28569.7197</td><td>&quot;Medium&quot;</td><td>132.0</td></tr><tr><td>&quot;CANADA&quot;</td><td>2007</td><td>33390141</td><td>&quot;Americas&quot;</td><td>80.653</td><td>36319.23501</td><td>&quot;Low&quot;</td><td>133.0</td></tr><tr><td>&quot;FRANCE&quot;</td><td>2007</td><td>61083916</td><td>&quot;Europe&quot;</td><td>80.656998</td><td>30470.0167</td><td>&quot;Medium&quot;</td><td>134.0</td></tr><tr><td>&quot;ISRAEL&quot;</td><td>2007</td><td>6426679</td><td>&quot;Asia&quot;</td><td>80.745003</td><td>25523.2771</td><td>&quot;Low&quot;</td><td>135.0</td></tr><tr><td>&quot;SWEDEN&quot;</td><td>2007</td><td>9031088</td><td>&quot;Europe&quot;</td><td>80.884003</td><td>33859.74835</td><td>&quot;Low&quot;</td><td>136.0</td></tr><tr><td>&quot;SPAIN&quot;</td><td>2007</td><td>40448191</td><td>&quot;Europe&quot;</td><td>80.941002</td><td>28821.0637</td><td>&quot;Low&quot;</td><td>137.0</td></tr><tr><td>&quot;AUSTRALIA&quot;</td><td>2007</td><td>20434176</td><td>&quot;Oceania&quot;</td><td>81.235001</td><td>34435.36744</td><td>&quot;Low&quot;</td><td>138.0</td></tr><tr><td>&quot;SWITZERLAND&quot;</td><td>2007</td><td>7554661</td><td>&quot;Europe&quot;</td><td>81.700996</td><td>37506.41907</td><td>&quot;Low&quot;</td><td>139.0</td></tr><tr><td>&quot;ICELAND&quot;</td><td>2007</td><td>301931</td><td>&quot;Europe&quot;</td><td>81.757004</td><td>36180.78919</td><td>&quot;Low&quot;</td><td>140.0</td></tr><tr><td>&quot;HONG KONG CHIN…</td><td>2007</td><td>6980412</td><td>&quot;Asia&quot;</td><td>82.208</td><td>39724.97867</td><td>&quot;Low&quot;</td><td>141.0</td></tr><tr><td>&quot;JAPAN&quot;</td><td>2007</td><td>127467972</td><td>&quot;Asia&quot;</td><td>82.602997</td><td>31656.06806</td><td>&quot;High&quot;</td><td>142.0</td></tr></tbody></table></div>"
            ]
          },
          "metadata": {},
          "execution_count": 133
        }
      ]
    },
    {
      "cell_type": "markdown",
      "source": [
        "## Obsługa wartości brakujących (missing values)"
      ],
      "metadata": {
        "id": "OaxVlIVwNcAa"
      }
    },
    {
      "cell_type": "code",
      "source": [
        "import polars as pl\n",
        "import numpy as np\n",
        "\n",
        "# Załóżmy, że df to Twój DataFrame\n",
        "\n",
        "# Losowe wybieranie 15 wierszy z DataFrame\n",
        "df_tmp = df.sample(n=15, seed=42)\n",
        "\n",
        "# Dodanie kolumny z numerami wierszy\n",
        "df_tmp = df_tmp.with_columns([pl.arange(0, len(df_tmp)).alias(\"row_nr\")])\n",
        "\n",
        "# Ustawienie ziarna pseudolosowości\n",
        "np.random.seed(1)\n",
        "\n",
        "# Losowanie indeksów i przypisywanie NaN w kolumnie 'GDP_per_cap'\n",
        "indices_gdp = np.random.choice(len(df_tmp), 5, replace=False)\n",
        "gdp_per_cap_column = pl.when(pl.col(\"row_nr\").is_in(indices_gdp))\\\n",
        "                      .then(np.NaN)\\\n",
        "                      .otherwise(pl.col(\"GDP_per_cap\"))\\\n",
        "                      .alias(\"GDP_per_cap\")\n",
        "\n",
        "# Losowanie indeksów i przypisywanie NaN w kolumnie 'pop'\n",
        "indices_pop = np.random.choice(len(df_tmp), 5, replace=False)\n",
        "pop_column = pl.when(pl.col(\"row_nr\").is_in(indices_pop))\\\n",
        "               .then(np.NaN)\\\n",
        "               .otherwise(pl.col(\"pop\"))\\\n",
        "               .alias(\"pop\")\n",
        "\n",
        "# Modyfikacja kolumn w DataFrame\n",
        "df_tmp = df_tmp.with_columns([gdp_per_cap_column, pop_column])\n",
        "\n",
        "\n",
        "# Usunięcie kolumny row_nr\n",
        "df_tmp = df_tmp.drop(\"row_nr\")\n",
        "\n",
        "# Utwórz słownik do przechowywania wartości NaN z odpowiednimi typami danych\n",
        "nan_values = {}\n",
        "for col in df_tmp.columns:\n",
        "    dtype = df_tmp[col].dtype\n",
        "    if dtype == pl.Float32:\n",
        "        nan_values[col] = [np.float32('nan')]  # Użyj np.float32 do utworzenia NaN typu Float32\n",
        "    elif dtype == pl.Float64:\n",
        "        nan_values[col] = [np.float64('nan')]  # Użyj np.float64 dla Float64\n",
        "    elif dtype == pl.Int32 or dtype == pl.Int64:\n",
        "        nan_values[col] = [None]  # NaN nie jest dostępne dla typów całkowitych, użyj None\n",
        "    else:\n",
        "        nan_values[col] = [None]  # Dla stringów i innych typów danych również użyj None\n",
        "\n",
        "# Tworzenie DataFrame z pojedynczym wierszem NaN\n",
        "nan_row = pl.DataFrame(nan_values)\n",
        "\n",
        "# Dołączenie nowego wiersza do istniejącego DataFrame\n",
        "df_tmp = pl.concat([df_tmp, nan_row])\n",
        "\n",
        "# Wyświetlenie wynikowego DataFrame\n",
        "print(df_tmp)\n"
      ],
      "metadata": {
        "colab": {
          "base_uri": "https://localhost:8080/"
        },
        "id": "GPk4etDpM2nC",
        "outputId": "1af65bc3-f340-4745-8786-7f7138f61f76"
      },
      "execution_count": 134,
      "outputs": [
        {
          "output_type": "stream",
          "name": "stdout",
          "text": [
            "shape: (16, 7)\n",
            "┌──────────────┬──────┬─────────────┬───────────┬───────────┬─────────────┬───────────┐\n",
            "│ Country      ┆ year ┆ pop         ┆ continent ┆ lifeExp   ┆ GDP_per_cap ┆ pop_range │\n",
            "│ ---          ┆ ---  ┆ ---         ┆ ---       ┆ ---       ┆ ---         ┆ ---       │\n",
            "│ str          ┆ i16  ┆ f64         ┆ str       ┆ f32       ┆ f64         ┆ str       │\n",
            "╞══════════════╪══════╪═════════════╪═══════════╪═══════════╪═════════════╪═══════════╡\n",
            "│ CHAD         ┆ 1977 ┆ NaN         ┆ Africa    ┆ 47.382999 ┆ 1133.98495  ┆ Low       │\n",
            "│ ETHIOPIA     ┆ 2002 ┆ 6.7946797e7 ┆ Africa    ┆ 50.724998 ┆ 530.053532  ┆ Medium    │\n",
            "│ ERITREA      ┆ 1992 ┆ 3.66844e6   ┆ Africa    ┆ 49.991001 ┆ NaN         ┆ Low       │\n",
            "│ POLAND       ┆ 1997 ┆ NaN         ┆ Europe    ┆ 72.75     ┆ NaN         ┆ Low       │\n",
            "│ …            ┆ …    ┆ …           ┆ …         ┆ …         ┆ …           ┆ …         │\n",
            "│ SYRIA        ┆ 1962 ┆ 4.834621e6  ┆ Asia      ┆ 50.305    ┆ 2193.037133 ┆ Low       │\n",
            "│ SAUDI ARABIA ┆ 1982 ┆ NaN         ┆ Asia      ┆ 63.012001 ┆ 33693.17525 ┆ Low       │\n",
            "│ MALAYSIA     ┆ 1997 ┆ 2.0476091e7 ┆ Asia      ┆ 71.938004 ┆ 10132.90964 ┆ Low       │\n",
            "│ null         ┆ null ┆ NaN         ┆ null      ┆ NaN       ┆ NaN         ┆ null      │\n",
            "└──────────────┴──────┴─────────────┴───────────┴───────────┴─────────────┴───────────┘\n"
          ]
        }
      ]
    },
    {
      "cell_type": "markdown",
      "source": [
        "\n",
        "Znalazienie ilości NaN w DataFrame"
      ],
      "metadata": {
        "id": "tUWxTZcaVivW"
      }
    },
    {
      "cell_type": "code",
      "source": [
        "# Zastosuj is_null do każdej kolumny i zsumuj wartości True\n",
        "nan_counts_per_column = {col.name: col.is_null().sum() for col in df_tmp}\n",
        "\n",
        "# Opcjonalnie, zsumuj te liczby, aby uzyskać całkowitą liczbę NaN\n",
        "total_nan_count = sum(nan_counts_per_column.values())\n",
        "\n",
        "print(nan_counts_per_column)\n",
        "print(\"Całkowita liczba NaN w DataFrame:\", total_nan_count)"
      ],
      "metadata": {
        "colab": {
          "base_uri": "https://localhost:8080/"
        },
        "id": "zYtOy4FbNxzo",
        "outputId": "0ae520fd-72af-499b-dd6b-5b72ac7777ad"
      },
      "execution_count": 135,
      "outputs": [
        {
          "output_type": "stream",
          "name": "stdout",
          "text": [
            "{'Country': 1, 'year': 1, 'pop': 0, 'continent': 1, 'lifeExp': 0, 'GDP_per_cap': 0, 'pop_range': 1}\n",
            "Całkowita liczba NaN w DataFrame: 4\n"
          ]
        }
      ]
    },
    {
      "cell_type": "markdown",
      "source": [
        "\n",
        "\n",
        "Usunięcie wierszy zawierających przynajmniej jedną wartość NaN\n",
        "\n",
        "\n"
      ],
      "metadata": {
        "id": "4fOQVjv2VmYM"
      }
    },
    {
      "cell_type": "code",
      "source": [
        "condition = pl.fold(acc=True, function=lambda acc, x: acc & x.is_not_null(), exprs=[pl.col(name) for name in df_tmp.columns])\n",
        "print(df.filter(condition))"
      ],
      "metadata": {
        "colab": {
          "base_uri": "https://localhost:8080/"
        },
        "id": "vbTOdSuOVwJl",
        "outputId": "a597074e-c3e9-44b9-de05-dd142c3f6f3f"
      },
      "execution_count": 136,
      "outputs": [
        {
          "output_type": "stream",
          "name": "stdout",
          "text": [
            "shape: (1_693, 7)\n",
            "┌─────────────┬──────┬──────────┬───────────┬───────────┬─────────────┬───────────┐\n",
            "│ Country     ┆ year ┆ pop      ┆ continent ┆ lifeExp   ┆ GDP_per_cap ┆ pop_range │\n",
            "│ ---         ┆ ---  ┆ ---      ┆ ---       ┆ ---       ┆ ---         ┆ ---       │\n",
            "│ str         ┆ i16  ┆ i64      ┆ str       ┆ f32       ┆ f64         ┆ str       │\n",
            "╞═════════════╪══════╪══════════╪═══════════╪═══════════╪═════════════╪═══════════╡\n",
            "│ AFGHANISTAN ┆ 1952 ┆ 8425333  ┆ Asia      ┆ 28.801001 ┆ 779.445314  ┆ Low       │\n",
            "│ AFGHANISTAN ┆ 1957 ┆ 9240934  ┆ Asia      ┆ 30.332001 ┆ 820.85303   ┆ Low       │\n",
            "│ AFGHANISTAN ┆ 1962 ┆ 10267083 ┆ Asia      ┆ 31.997    ┆ 853.10071   ┆ Low       │\n",
            "│ AFGHANISTAN ┆ 1967 ┆ 11537966 ┆ Asia      ┆ 34.02     ┆ 836.197138  ┆ Low       │\n",
            "│ …           ┆ …    ┆ …        ┆ …         ┆ …         ┆ …           ┆ …         │\n",
            "│ ZIMBABWE    ┆ 1992 ┆ 10704340 ┆ Africa    ┆ 60.376999 ┆ 693.420786  ┆ Low       │\n",
            "│ ZIMBABWE    ┆ 1997 ┆ 11404948 ┆ Africa    ┆ 46.808998 ┆ 792.44996   ┆ Low       │\n",
            "│ ZIMBABWE    ┆ 2002 ┆ 11926563 ┆ Africa    ┆ 39.988998 ┆ 672.038623  ┆ Low       │\n",
            "│ ZIMBABWE    ┆ 2007 ┆ 12311143 ┆ Africa    ┆ 43.487    ┆ 469.709298  ┆ Low       │\n",
            "└─────────────┴──────┴──────────┴───────────┴───────────┴─────────────┴───────────┘\n"
          ]
        }
      ]
    },
    {
      "cell_type": "markdown",
      "source": [
        "Usunięcie wierszy zawierających wszystkie wartości NaN w kolumnach"
      ],
      "metadata": {
        "id": "wFzF3RndkqHA"
      }
    },
    {
      "cell_type": "code",
      "source": [
        "condition = pl.fold(acc=False, function=lambda acc, x: acc | x.is_not_null(), exprs=[pl.col(name) for name in df_tmp.columns])\n",
        "df_clean = df.filter(condition)\n",
        "\n",
        "print(df_clean)"
      ],
      "metadata": {
        "colab": {
          "base_uri": "https://localhost:8080/"
        },
        "id": "sbKwc7ahWGGb",
        "outputId": "87246d7e-d27b-48d6-ad90-19c2e7c7602c"
      },
      "execution_count": 137,
      "outputs": [
        {
          "output_type": "stream",
          "name": "stdout",
          "text": [
            "shape: (1_704, 7)\n",
            "┌─────────────┬──────┬──────────┬───────────┬───────────┬─────────────┬───────────┐\n",
            "│ Country     ┆ year ┆ pop      ┆ continent ┆ lifeExp   ┆ GDP_per_cap ┆ pop_range │\n",
            "│ ---         ┆ ---  ┆ ---      ┆ ---       ┆ ---       ┆ ---         ┆ ---       │\n",
            "│ str         ┆ i16  ┆ i64      ┆ str       ┆ f32       ┆ f64         ┆ str       │\n",
            "╞═════════════╪══════╪══════════╪═══════════╪═══════════╪═════════════╪═══════════╡\n",
            "│ AFGHANISTAN ┆ 1952 ┆ 8425333  ┆ Asia      ┆ 28.801001 ┆ 779.445314  ┆ Low       │\n",
            "│ AFGHANISTAN ┆ 1957 ┆ 9240934  ┆ Asia      ┆ 30.332001 ┆ 820.85303   ┆ Low       │\n",
            "│ AFGHANISTAN ┆ 1962 ┆ 10267083 ┆ Asia      ┆ 31.997    ┆ 853.10071   ┆ Low       │\n",
            "│ AFGHANISTAN ┆ 1967 ┆ 11537966 ┆ Asia      ┆ 34.02     ┆ 836.197138  ┆ Low       │\n",
            "│ …           ┆ …    ┆ …        ┆ …         ┆ …         ┆ …           ┆ …         │\n",
            "│ ZIMBABWE    ┆ 1992 ┆ 10704340 ┆ Africa    ┆ 60.376999 ┆ 693.420786  ┆ Low       │\n",
            "│ ZIMBABWE    ┆ 1997 ┆ 11404948 ┆ Africa    ┆ 46.808998 ┆ 792.44996   ┆ Low       │\n",
            "│ ZIMBABWE    ┆ 2002 ┆ 11926563 ┆ Africa    ┆ 39.988998 ┆ 672.038623  ┆ Low       │\n",
            "│ ZIMBABWE    ┆ 2007 ┆ 12311143 ┆ Africa    ┆ 43.487    ┆ 469.709298  ┆ Low       │\n",
            "└─────────────┴──────┴──────────┴───────────┴───────────┴─────────────┴───────────┘\n"
          ]
        }
      ]
    },
    {
      "cell_type": "markdown",
      "source": [
        "\n",
        "\n",
        "Zastąpienie wartości NaN w kolumnie \"pop\" wartością zero\n"
      ],
      "metadata": {
        "id": "7TqP-_pDk_jr"
      }
    },
    {
      "cell_type": "code",
      "source": [
        "df_filled = df.with_columns([\n",
        "    pl.col(\"pop\").fill_nan(0)\n",
        "])\n",
        "\n",
        "print(df_filled)"
      ],
      "metadata": {
        "colab": {
          "base_uri": "https://localhost:8080/"
        },
        "id": "2rRkm2gykyXR",
        "outputId": "7c2ccf00-eb3b-4c8b-9978-248a569d9538"
      },
      "execution_count": 138,
      "outputs": [
        {
          "output_type": "stream",
          "name": "stdout",
          "text": [
            "shape: (1_704, 7)\n",
            "┌─────────────┬──────┬──────────┬───────────┬───────────┬─────────────┬───────────┐\n",
            "│ Country     ┆ year ┆ pop      ┆ continent ┆ lifeExp   ┆ GDP_per_cap ┆ pop_range │\n",
            "│ ---         ┆ ---  ┆ ---      ┆ ---       ┆ ---       ┆ ---         ┆ ---       │\n",
            "│ str         ┆ i16  ┆ i64      ┆ str       ┆ f32       ┆ f64         ┆ str       │\n",
            "╞═════════════╪══════╪══════════╪═══════════╪═══════════╪═════════════╪═══════════╡\n",
            "│ AFGHANISTAN ┆ 1952 ┆ 8425333  ┆ Asia      ┆ 28.801001 ┆ 779.445314  ┆ Low       │\n",
            "│ AFGHANISTAN ┆ 1957 ┆ 9240934  ┆ Asia      ┆ 30.332001 ┆ 820.85303   ┆ Low       │\n",
            "│ AFGHANISTAN ┆ 1962 ┆ 10267083 ┆ Asia      ┆ 31.997    ┆ 853.10071   ┆ Low       │\n",
            "│ AFGHANISTAN ┆ 1967 ┆ 11537966 ┆ Asia      ┆ 34.02     ┆ 836.197138  ┆ Low       │\n",
            "│ …           ┆ …    ┆ …        ┆ …         ┆ …         ┆ …           ┆ …         │\n",
            "│ ZIMBABWE    ┆ 1992 ┆ 10704340 ┆ Africa    ┆ 60.376999 ┆ 693.420786  ┆ Low       │\n",
            "│ ZIMBABWE    ┆ 1997 ┆ 11404948 ┆ Africa    ┆ 46.808998 ┆ 792.44996   ┆ Low       │\n",
            "│ ZIMBABWE    ┆ 2002 ┆ 11926563 ┆ Africa    ┆ 39.988998 ┆ 672.038623  ┆ Low       │\n",
            "│ ZIMBABWE    ┆ 2007 ┆ 12311143 ┆ Africa    ┆ 43.487    ┆ 469.709298  ┆ Low       │\n",
            "└─────────────┴──────┴──────────┴───────────┴───────────┴─────────────┴───────────┘\n"
          ]
        }
      ]
    },
    {
      "cell_type": "markdown",
      "source": [
        "## Piwot obiektu DataFrame\n"
      ],
      "metadata": {
        "id": "SA4pQp_MlfX9"
      }
    },
    {
      "cell_type": "code",
      "source": [
        "pivot_table = (df.groupby([\"continent\", \"year\"])\n",
        "                 .agg(pl.col(\"GDP_per_cap\").mean().alias(\"GDP_per_cap\"))\n",
        "                 .pivot(index=\"continent\", columns=\"year\", values=\"GDP_per_cap\"))\n",
        "\n",
        "# Wypełnienie brakujących wartości w każdej kolumnie\n",
        "filled_columns = [pivot_table[col].fill_nan(0).alias(col) for col in pivot_table.columns if pivot_table[col].dtype in [pl.Float32, pl.Float64]]\n",
        "pivot_table = pivot_table.with_columns(filled_columns)\n",
        "\n",
        "print(pivot_table)"
      ],
      "metadata": {
        "colab": {
          "base_uri": "https://localhost:8080/"
        },
        "id": "dsfdLugwlFjP",
        "outputId": "c99c2e78-0e03-45b6-b314-34f4dc2f81d1"
      },
      "execution_count": 139,
      "outputs": [
        {
          "output_type": "stream",
          "name": "stdout",
          "text": [
            "shape: (5, 13)\n",
            "┌───────────┬───────────┬───────────┬───────────┬───┬───────────┬───────────┬───────────┬──────────┐\n",
            "│ continent ┆ 1952      ┆ 1987      ┆ 1957      ┆ … ┆ 2007      ┆ 1972      ┆ 1997      ┆ 1992     │\n",
            "│ ---       ┆ ---       ┆ ---       ┆ ---       ┆   ┆ ---       ┆ ---       ┆ ---       ┆ ---      │\n",
            "│ str       ┆ f64       ┆ f64       ┆ f64       ┆   ┆ f64       ┆ f64       ┆ f64       ┆ f64      │\n",
            "╞═══════════╪═══════════╪═══════════╪═══════════╪═══╪═══════════╪═══════════╪═══════════╪══════════╡\n",
            "│ Americas  ┆ 4079.0625 ┆ 7793.4002 ┆ 4616.0437 ┆ … ┆ 11003.031 ┆ 6491.3341 ┆ 8889.3008 ┆ 8044.934 │\n",
            "│           ┆ 52        ┆ 61        ┆ 33        ┆   ┆ 625       ┆ 39        ┆ 63        ┆ 406      │\n",
            "│ Africa    ┆ 1252.5724 ┆ 2282.6689 ┆ 1385.2360 ┆ … ┆ 3089.0326 ┆ 2339.6156 ┆ 2378.7595 ┆ 2281.810 │\n",
            "│           ┆ 66        ┆ 91        ┆ 62        ┆   ┆ 05        ┆ 74        ┆ 55        ┆ 333      │\n",
            "│ Asia      ┆ 5195.4840 ┆ 7608.2265 ┆ 5787.7329 ┆ … ┆ 12473.026 ┆ 8187.4686 ┆ 9834.0932 ┆ 8639.690 │\n",
            "│           ┆ 04        ┆ 08        ┆ 4         ┆   ┆ 87        ┆ 99        ┆ 95        ┆ 248      │\n",
            "│ Europe    ┆ 5661.0574 ┆ 17214.310 ┆ 6963.0128 ┆ … ┆ 25054.481 ┆ 12479.575 ┆ 19076.781 ┆ 17061.56 │\n",
            "│           ┆ 35        ┆ 727       ┆ 16        ┆   ┆ 636       ┆ 246       ┆ 802       ┆ 8084     │\n",
            "│ Oceania   ┆ 10298.085 ┆ 20448.040 ┆ 11598.522 ┆ … ┆ 29810.188 ┆ 16417.333 ┆ 24024.175 ┆ 20894.04 │\n",
            "│           ┆ 65        ┆ 16        ┆ 455       ┆   ┆ 275       ┆ 38        ┆ 17        ┆ 5885     │\n",
            "└───────────┴───────────┴───────────┴───────────┴───┴───────────┴───────────┴───────────┴──────────┘\n"
          ]
        }
      ]
    },
    {
      "cell_type": "markdown",
      "source": [
        "## Przesuwanie danych (data shifting)\n"
      ],
      "metadata": {
        "id": "QfLIIE6Ppdgs"
      }
    },
    {
      "cell_type": "code",
      "source": [
        "df_tmp = df.filter(pl.col(\"Country\") == \"POLAND\").sort(\"year\")\n",
        "\n",
        "# Oblicz zmianę populacji\n",
        "df_tmp = df_tmp.with_columns([\n",
        "    (pl.col(\"pop\") - pl.col(\"pop\").shift(1)).alias(\"pop_change\")\n",
        "])\n",
        "print(df_tmp)"
      ],
      "metadata": {
        "colab": {
          "base_uri": "https://localhost:8080/"
        },
        "id": "hQ8zH2exllcD",
        "outputId": "6f84f5e5-268b-49ae-979b-9a65738d36b9"
      },
      "execution_count": 140,
      "outputs": [
        {
          "output_type": "stream",
          "name": "stdout",
          "text": [
            "shape: (12, 8)\n",
            "┌─────────┬──────┬──────────┬───────────┬───────────┬─────────────┬───────────┬────────────┐\n",
            "│ Country ┆ year ┆ pop      ┆ continent ┆ lifeExp   ┆ GDP_per_cap ┆ pop_range ┆ pop_change │\n",
            "│ ---     ┆ ---  ┆ ---      ┆ ---       ┆ ---       ┆ ---         ┆ ---       ┆ ---        │\n",
            "│ str     ┆ i16  ┆ i64      ┆ str       ┆ f32       ┆ f64         ┆ str       ┆ i64        │\n",
            "╞═════════╪══════╪══════════╪═══════════╪═══════════╪═════════════╪═══════════╪════════════╡\n",
            "│ POLAND  ┆ 1952 ┆ 25730551 ┆ Europe    ┆ 61.310001 ┆ 4029.329699 ┆ Low       ┆ null       │\n",
            "│ POLAND  ┆ 1957 ┆ 28235346 ┆ Europe    ┆ 65.769997 ┆ 4734.253019 ┆ Low       ┆ 2504795    │\n",
            "│ POLAND  ┆ 1962 ┆ 30329617 ┆ Europe    ┆ 67.639999 ┆ 5338.752143 ┆ Low       ┆ 2094271    │\n",
            "│ POLAND  ┆ 1967 ┆ 31785378 ┆ Europe    ┆ 69.610001 ┆ 6557.152776 ┆ Low       ┆ 1455761    │\n",
            "│ …       ┆ …    ┆ …        ┆ …         ┆ …         ┆ …           ┆ …         ┆ …          │\n",
            "│ POLAND  ┆ 1992 ┆ 38370697 ┆ Europe    ┆ 70.989998 ┆ 7738.881247 ┆ Low       ┆ 629987     │\n",
            "│ POLAND  ┆ 1997 ┆ 38654957 ┆ Europe    ┆ 72.75     ┆ 10159.58368 ┆ Low       ┆ 284260     │\n",
            "│ POLAND  ┆ 2002 ┆ 38625976 ┆ Europe    ┆ 74.669998 ┆ 12002.23908 ┆ Low       ┆ -28981     │\n",
            "│ POLAND  ┆ 2007 ┆ 38518241 ┆ Europe    ┆ 75.563004 ┆ 15389.92468 ┆ Low       ┆ -107735    │\n",
            "└─────────┴──────┴──────────┴───────────┴───────────┴─────────────┴───────────┴────────────┘\n"
          ]
        }
      ]
    },
    {
      "cell_type": "markdown",
      "source": [
        "## Łączenie obiektów DataFrame\n"
      ],
      "metadata": {
        "id": "E9kY2yxgqCZj"
      }
    },
    {
      "cell_type": "markdown",
      "source": [
        "Łączenie wierszami\n",
        "\n"
      ],
      "metadata": {
        "id": "ViiM3gkDqYC_"
      }
    },
    {
      "cell_type": "code",
      "source": [
        "first_10 = df.head(10)\n",
        "last_10 = df.tail(10)\n",
        "\n",
        "# Połącz je wierszami\n",
        "combined_df = pl.concat([first_10, last_10])\n",
        "print(combined_df)"
      ],
      "metadata": {
        "colab": {
          "base_uri": "https://localhost:8080/"
        },
        "id": "Vojqe3Aup4Ra",
        "outputId": "93b2f314-de0b-4d8d-a29f-b24a5b01431c"
      },
      "execution_count": 141,
      "outputs": [
        {
          "output_type": "stream",
          "name": "stdout",
          "text": [
            "shape: (20, 7)\n",
            "┌─────────────┬──────┬──────────┬───────────┬───────────┬─────────────┬───────────┐\n",
            "│ Country     ┆ year ┆ pop      ┆ continent ┆ lifeExp   ┆ GDP_per_cap ┆ pop_range │\n",
            "│ ---         ┆ ---  ┆ ---      ┆ ---       ┆ ---       ┆ ---         ┆ ---       │\n",
            "│ str         ┆ i16  ┆ i64      ┆ str       ┆ f32       ┆ f64         ┆ str       │\n",
            "╞═════════════╪══════╪══════════╪═══════════╪═══════════╪═════════════╪═══════════╡\n",
            "│ AFGHANISTAN ┆ 1952 ┆ 8425333  ┆ Asia      ┆ 28.801001 ┆ 779.445314  ┆ Low       │\n",
            "│ AFGHANISTAN ┆ 1957 ┆ 9240934  ┆ Asia      ┆ 30.332001 ┆ 820.85303   ┆ Low       │\n",
            "│ AFGHANISTAN ┆ 1962 ┆ 10267083 ┆ Asia      ┆ 31.997    ┆ 853.10071   ┆ Low       │\n",
            "│ AFGHANISTAN ┆ 1967 ┆ 11537966 ┆ Asia      ┆ 34.02     ┆ 836.197138  ┆ Low       │\n",
            "│ …           ┆ …    ┆ …        ┆ …         ┆ …         ┆ …           ┆ …         │\n",
            "│ ZIMBABWE    ┆ 1992 ┆ 10704340 ┆ Africa    ┆ 60.376999 ┆ 693.420786  ┆ Low       │\n",
            "│ ZIMBABWE    ┆ 1997 ┆ 11404948 ┆ Africa    ┆ 46.808998 ┆ 792.44996   ┆ Low       │\n",
            "│ ZIMBABWE    ┆ 2002 ┆ 11926563 ┆ Africa    ┆ 39.988998 ┆ 672.038623  ┆ Low       │\n",
            "│ ZIMBABWE    ┆ 2007 ┆ 12311143 ┆ Africa    ┆ 43.487    ┆ 469.709298  ┆ Low       │\n",
            "└─────────────┴──────┴──────────┴───────────┴───────────┴─────────────┴───────────┘\n"
          ]
        }
      ]
    },
    {
      "cell_type": "markdown",
      "source": [
        "Łączenie kolumnami"
      ],
      "metadata": {
        "id": "TrYmGGZFq774"
      }
    },
    {
      "cell_type": "code",
      "source": [
        "# Pobierz pierwsze 10 wierszy i pierwsze 3 kolumny\n",
        "df1 = df.head(10).select(df.columns[:3])\n",
        "\n",
        "# Pobierz pierwsze 10 wierszy i ostatnie 3 kolumny\n",
        "df2 = df.head(10).select(df.columns[-3:])\n",
        "\n",
        "# Połącz te dwa DataFrame kolumnami\n",
        "combined_df = pl.concat([df1, df2], how=\"horizontal\")\n",
        "print(combined_df)"
      ],
      "metadata": {
        "colab": {
          "base_uri": "https://localhost:8080/"
        },
        "id": "hwSu0idlqbj7",
        "outputId": "35e063e8-367d-4084-f287-2d2d3dab60ee"
      },
      "execution_count": 142,
      "outputs": [
        {
          "output_type": "stream",
          "name": "stdout",
          "text": [
            "shape: (10, 6)\n",
            "┌─────────────┬──────┬──────────┬───────────┬─────────────┬───────────┐\n",
            "│ Country     ┆ year ┆ pop      ┆ lifeExp   ┆ GDP_per_cap ┆ pop_range │\n",
            "│ ---         ┆ ---  ┆ ---      ┆ ---       ┆ ---         ┆ ---       │\n",
            "│ str         ┆ i16  ┆ i64      ┆ f32       ┆ f64         ┆ str       │\n",
            "╞═════════════╪══════╪══════════╪═══════════╪═════════════╪═══════════╡\n",
            "│ AFGHANISTAN ┆ 1952 ┆ 8425333  ┆ 28.801001 ┆ 779.445314  ┆ Low       │\n",
            "│ AFGHANISTAN ┆ 1957 ┆ 9240934  ┆ 30.332001 ┆ 820.85303   ┆ Low       │\n",
            "│ AFGHANISTAN ┆ 1962 ┆ 10267083 ┆ 31.997    ┆ 853.10071   ┆ Low       │\n",
            "│ AFGHANISTAN ┆ 1967 ┆ 11537966 ┆ 34.02     ┆ 836.197138  ┆ Low       │\n",
            "│ …           ┆ …    ┆ …        ┆ …         ┆ …           ┆ …         │\n",
            "│ AFGHANISTAN ┆ 1982 ┆ 12881816 ┆ 39.854    ┆ 978.011439  ┆ Low       │\n",
            "│ AFGHANISTAN ┆ 1987 ┆ 13867957 ┆ 40.821999 ┆ 852.395945  ┆ Low       │\n",
            "│ AFGHANISTAN ┆ 1992 ┆ 16317921 ┆ 41.674    ┆ 649.341395  ┆ Low       │\n",
            "│ AFGHANISTAN ┆ 1997 ┆ 22227415 ┆ 41.763    ┆ 635.341351  ┆ Low       │\n",
            "└─────────────┴──────┴──────────┴───────────┴─────────────┴───────────┘\n"
          ]
        }
      ]
    },
    {
      "cell_type": "markdown",
      "source": [
        "## Merge'owanie obiektów DataFrame"
      ],
      "metadata": {
        "id": "-WNm1T9WrjVM"
      }
    },
    {
      "cell_type": "code",
      "source": [
        "df1 = pl.DataFrame({\n",
        "    \"ID1\": range(1, 14, 2),\n",
        "    \"value1\": ['A', 'B', 'C', 'D', 'E', 'F', 'G']\n",
        "})\n",
        "\n",
        "df2 = pl.DataFrame({\n",
        "    \"ID2\": range(1, 8),\n",
        "    \"value2\": ['A', 'B', 'C', 'D', 'E', 'F', 'G']\n",
        "})\n",
        "\n",
        "print(df1, df2)"
      ],
      "metadata": {
        "colab": {
          "base_uri": "https://localhost:8080/"
        },
        "id": "jL75eGtOq-65",
        "outputId": "e56ab9d1-4f74-4e8e-9e7e-10f918fdd3fd"
      },
      "execution_count": 143,
      "outputs": [
        {
          "output_type": "stream",
          "name": "stdout",
          "text": [
            "shape: (7, 2)\n",
            "┌─────┬────────┐\n",
            "│ ID1 ┆ value1 │\n",
            "│ --- ┆ ---    │\n",
            "│ i64 ┆ str    │\n",
            "╞═════╪════════╡\n",
            "│ 1   ┆ A      │\n",
            "│ 3   ┆ B      │\n",
            "│ 5   ┆ C      │\n",
            "│ 7   ┆ D      │\n",
            "│ 9   ┆ E      │\n",
            "│ 11  ┆ F      │\n",
            "│ 13  ┆ G      │\n",
            "└─────┴────────┘ shape: (7, 2)\n",
            "┌─────┬────────┐\n",
            "│ ID2 ┆ value2 │\n",
            "│ --- ┆ ---    │\n",
            "│ i64 ┆ str    │\n",
            "╞═════╪════════╡\n",
            "│ 1   ┆ A      │\n",
            "│ 2   ┆ B      │\n",
            "│ 3   ┆ C      │\n",
            "│ 4   ┆ D      │\n",
            "│ 5   ┆ E      │\n",
            "│ 6   ┆ F      │\n",
            "│ 7   ┆ G      │\n",
            "└─────┴────────┘\n"
          ]
        }
      ]
    },
    {
      "cell_type": "markdown",
      "source": [
        "\n",
        "\n",
        "Intersekcja zbiorów\n"
      ],
      "metadata": {
        "id": "k0CbgHCArq1w"
      }
    },
    {
      "cell_type": "code",
      "source": [
        "df_joined = df1.join(df2, left_on='ID1', right_on='ID2', how='inner')\n",
        "\n",
        "print(df_joined)"
      ],
      "metadata": {
        "colab": {
          "base_uri": "https://localhost:8080/"
        },
        "id": "vKn3ZjaXrn45",
        "outputId": "7ea37dd5-d31f-4842-bcb6-e90d6c1841e7"
      },
      "execution_count": 144,
      "outputs": [
        {
          "output_type": "stream",
          "name": "stdout",
          "text": [
            "shape: (4, 3)\n",
            "┌─────┬────────┬────────┐\n",
            "│ ID1 ┆ value1 ┆ value2 │\n",
            "│ --- ┆ ---    ┆ ---    │\n",
            "│ i64 ┆ str    ┆ str    │\n",
            "╞═════╪════════╪════════╡\n",
            "│ 1   ┆ A      ┆ A      │\n",
            "│ 3   ┆ B      ┆ C      │\n",
            "│ 5   ┆ C      ┆ E      │\n",
            "│ 7   ┆ D      ┆ G      │\n",
            "└─────┴────────┴────────┘\n"
          ]
        }
      ]
    },
    {
      "cell_type": "markdown",
      "source": [
        "\n",
        "\n",
        "Suma zbiorów\n"
      ],
      "metadata": {
        "id": "I6_myl6KsAuA"
      }
    },
    {
      "cell_type": "code",
      "source": [
        "df_merged = df1.join(df2, left_on='ID1', right_on='ID2', how='outer')\n",
        "print(df_merged)\n"
      ],
      "metadata": {
        "colab": {
          "base_uri": "https://localhost:8080/"
        },
        "id": "N3PLh0CHr9YZ",
        "outputId": "badfc73f-72b8-40a9-ad5e-9204bf202d6d"
      },
      "execution_count": 145,
      "outputs": [
        {
          "output_type": "stream",
          "name": "stdout",
          "text": [
            "shape: (10, 4)\n",
            "┌──────┬────────┬──────┬────────┐\n",
            "│ ID1  ┆ value1 ┆ ID2  ┆ value2 │\n",
            "│ ---  ┆ ---    ┆ ---  ┆ ---    │\n",
            "│ i64  ┆ str    ┆ i64  ┆ str    │\n",
            "╞══════╪════════╪══════╪════════╡\n",
            "│ 1    ┆ A      ┆ 1    ┆ A      │\n",
            "│ null ┆ null   ┆ 2    ┆ B      │\n",
            "│ 3    ┆ B      ┆ 3    ┆ C      │\n",
            "│ null ┆ null   ┆ 4    ┆ D      │\n",
            "│ …    ┆ …      ┆ …    ┆ …      │\n",
            "│ 7    ┆ D      ┆ 7    ┆ G      │\n",
            "│ 13   ┆ G      ┆ null ┆ null   │\n",
            "│ 9    ┆ E      ┆ null ┆ null   │\n",
            "│ 11   ┆ F      ┆ null ┆ null   │\n",
            "└──────┴────────┴──────┴────────┘\n"
          ]
        }
      ]
    },
    {
      "cell_type": "code",
      "source": [],
      "metadata": {
        "id": "DFtuNzBXsCo6"
      },
      "execution_count": 145,
      "outputs": []
    },
    {
      "cell_type": "markdown",
      "source": [
        "\n",
        "\n",
        "Złączenie lewostronne\n"
      ],
      "metadata": {
        "id": "ER0MTGUOsG1Z"
      }
    },
    {
      "cell_type": "code",
      "source": [
        "# Łączenie DataFrame'ów za pomocą 'left join'\n",
        "df_merged = df1.join(df2, left_on='ID1', right_on='ID2', how='left')\n",
        "print(df_merged)"
      ],
      "metadata": {
        "colab": {
          "base_uri": "https://localhost:8080/"
        },
        "id": "HvsbjonvsHYv",
        "outputId": "f02bcda1-176b-4cfa-d67c-97fa51f82620"
      },
      "execution_count": 146,
      "outputs": [
        {
          "output_type": "stream",
          "name": "stdout",
          "text": [
            "shape: (7, 3)\n",
            "┌─────┬────────┬────────┐\n",
            "│ ID1 ┆ value1 ┆ value2 │\n",
            "│ --- ┆ ---    ┆ ---    │\n",
            "│ i64 ┆ str    ┆ str    │\n",
            "╞═════╪════════╪════════╡\n",
            "│ 1   ┆ A      ┆ A      │\n",
            "│ 3   ┆ B      ┆ C      │\n",
            "│ 5   ┆ C      ┆ E      │\n",
            "│ 7   ┆ D      ┆ G      │\n",
            "│ 9   ┆ E      ┆ null   │\n",
            "│ 11  ┆ F      ┆ null   │\n",
            "│ 13  ┆ G      ┆ null   │\n",
            "└─────┴────────┴────────┘\n"
          ]
        }
      ]
    },
    {
      "cell_type": "markdown",
      "source": [
        "Złączenie prawostronne"
      ],
      "metadata": {
        "id": "Wnr_cjqYs-n7"
      }
    },
    {
      "cell_type": "code",
      "source": [
        "df_merged = df2.join(df1, left_on='ID2', right_on='ID1', how='left')\n",
        "print(df_merged)"
      ],
      "metadata": {
        "colab": {
          "base_uri": "https://localhost:8080/"
        },
        "id": "smsMmMqbsX4s",
        "outputId": "740d1933-aa82-4dce-d2d3-c78cf7cfb6cc"
      },
      "execution_count": 147,
      "outputs": [
        {
          "output_type": "stream",
          "name": "stdout",
          "text": [
            "shape: (7, 3)\n",
            "┌─────┬────────┬────────┐\n",
            "│ ID2 ┆ value2 ┆ value1 │\n",
            "│ --- ┆ ---    ┆ ---    │\n",
            "│ i64 ┆ str    ┆ str    │\n",
            "╞═════╪════════╪════════╡\n",
            "│ 1   ┆ A      ┆ A      │\n",
            "│ 2   ┆ B      ┆ null   │\n",
            "│ 3   ┆ C      ┆ B      │\n",
            "│ 4   ┆ D      ┆ null   │\n",
            "│ 5   ┆ E      ┆ C      │\n",
            "│ 6   ┆ F      ┆ null   │\n",
            "│ 7   ┆ G      ┆ D      │\n",
            "└─────┴────────┴────────┘\n"
          ]
        }
      ]
    },
    {
      "cell_type": "markdown",
      "source": [
        "## Zapisz danych z DataFrame do pliku płaskiego\n"
      ],
      "metadata": {
        "id": "GS5EbiOVtqAz"
      }
    },
    {
      "cell_type": "code",
      "source": [
        "df.write_csv(\"result.csv\", separator=\"|\")"
      ],
      "metadata": {
        "id": "rJdarHOvseeL"
      },
      "execution_count": 148,
      "outputs": []
    },
    {
      "cell_type": "code",
      "source": [],
      "metadata": {
        "id": "sNL-wyASt9wT"
      },
      "execution_count": 148,
      "outputs": []
    }
  ]
}